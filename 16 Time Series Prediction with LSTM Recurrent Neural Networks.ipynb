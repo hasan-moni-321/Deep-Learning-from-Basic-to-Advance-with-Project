{
 "cells": [
  {
   "cell_type": "markdown",
   "metadata": {},
   "source": [
    "# LSTM Network For Regression"
   ]
  },
  {
   "cell_type": "code",
   "execution_count": 1,
   "metadata": {},
   "outputs": [
    {
     "name": "stderr",
     "output_type": "stream",
     "text": [
      "Using TensorFlow backend.\n"
     ]
    }
   ],
   "source": [
    "import numpy\n",
    "import matplotlib.pyplot as plt\n",
    "from pandas import read_csv\n",
    "import math\n",
    "from keras.models import Sequential\n",
    "from keras.layers import Dense\n",
    "from keras.layers import LSTM\n",
    "from sklearn.preprocessing import MinMaxScaler\n",
    "from sklearn.metrics import mean_squared_error\n"
   ]
  },
  {
   "cell_type": "code",
   "execution_count": 2,
   "metadata": {},
   "outputs": [],
   "source": [
    "# fix random seed for reproducibility\n",
    "numpy.random.seed(7)"
   ]
  },
  {
   "cell_type": "code",
   "execution_count": null,
   "metadata": {},
   "outputs": [],
   "source": []
  },
  {
   "cell_type": "markdown",
   "metadata": {},
   "source": [
    "##### Reading dataset"
   ]
  },
  {
   "cell_type": "code",
   "execution_count": 4,
   "metadata": {},
   "outputs": [],
   "source": [
    "# load the dataset\n",
    "dataframe = read_csv('/home/hasan/DATA SET/international-airline-passengers.csv', usecols=[1], engine='python', skipfooter=3)\n",
    "dataset = dataframe.values\n",
    "dataset = dataset.astype('float32')"
   ]
  },
  {
   "cell_type": "code",
   "execution_count": null,
   "metadata": {},
   "outputs": [],
   "source": []
  },
  {
   "cell_type": "markdown",
   "metadata": {},
   "source": [
    "##### Normalize dataset"
   ]
  },
  {
   "cell_type": "code",
   "execution_count": 5,
   "metadata": {},
   "outputs": [],
   "source": [
    "# normalize the dataset\n",
    "scaler = MinMaxScaler(feature_range=(0, 1))\n",
    "dataset = scaler.fit_transform(dataset)"
   ]
  },
  {
   "cell_type": "code",
   "execution_count": null,
   "metadata": {},
   "outputs": [],
   "source": []
  },
  {
   "cell_type": "markdown",
   "metadata": {},
   "source": [
    "##### Dividding into train test"
   ]
  },
  {
   "cell_type": "code",
   "execution_count": 6,
   "metadata": {},
   "outputs": [],
   "source": [
    "# split into train and test sets\n",
    "train_size = int(len(dataset) * 0.67)\n",
    "test_size = len(dataset) - train_size\n",
    "train, test = dataset[0:train_size,:], dataset[train_size:len(dataset),:]"
   ]
  },
  {
   "cell_type": "code",
   "execution_count": null,
   "metadata": {},
   "outputs": [],
   "source": []
  },
  {
   "cell_type": "markdown",
   "metadata": {},
   "source": [
    "##### Dividing Dataset"
   ]
  },
  {
   "cell_type": "code",
   "execution_count": 7,
   "metadata": {},
   "outputs": [],
   "source": [
    "# convert an array of values into a dataset matrix\n",
    "def create_dataset(dataset, look_back=1):\n",
    "    dataX, dataY = [], []\n",
    "    for i in range(len(dataset)-look_back-1):\n",
    "        a = dataset[i:(i+look_back), 0]\n",
    "        dataX.append(a)\n",
    "        dataY.append(dataset[i + look_back, 0])\n",
    "    return numpy.array(dataX), numpy.array(dataY)"
   ]
  },
  {
   "cell_type": "code",
   "execution_count": 8,
   "metadata": {},
   "outputs": [],
   "source": [
    "# reshape into X=t and Y=t+1\n",
    "look_back = 1\n",
    "trainX, trainY = create_dataset(train, look_back)\n",
    "testX, testY = create_dataset(test, look_back)"
   ]
  },
  {
   "cell_type": "code",
   "execution_count": null,
   "metadata": {},
   "outputs": [],
   "source": []
  },
  {
   "cell_type": "markdown",
   "metadata": {},
   "source": [
    "##### Reshape Data"
   ]
  },
  {
   "cell_type": "code",
   "execution_count": 9,
   "metadata": {},
   "outputs": [],
   "source": [
    "# reshape input to be [samples, time steps, features]\n",
    "trainX = numpy.reshape(trainX, (trainX.shape[0], 1, trainX.shape[1]))\n",
    "testX = numpy.reshape(testX, (testX.shape[0], 1, testX.shape[1]))"
   ]
  },
  {
   "cell_type": "code",
   "execution_count": null,
   "metadata": {},
   "outputs": [],
   "source": []
  },
  {
   "cell_type": "markdown",
   "metadata": {},
   "source": [
    "##### Model"
   ]
  },
  {
   "cell_type": "code",
   "execution_count": 12,
   "metadata": {},
   "outputs": [],
   "source": [
    "# create and fit the LSTM network\n",
    "model = Sequential()\n",
    "model.add(LSTM(4, input_shape=(None,look_back)))\n",
    "model.add(Dense(1))\n",
    "\n"
   ]
  },
  {
   "cell_type": "code",
   "execution_count": 13,
   "metadata": {},
   "outputs": [
    {
     "name": "stdout",
     "output_type": "stream",
     "text": [
      "Model: \"sequential_3\"\n",
      "_________________________________________________________________\n",
      "Layer (type)                 Output Shape              Param #   \n",
      "=================================================================\n",
      "lstm_3 (LSTM)                (None, 4)                 96        \n",
      "_________________________________________________________________\n",
      "dense_2 (Dense)              (None, 1)                 5         \n",
      "=================================================================\n",
      "Total params: 101\n",
      "Trainable params: 101\n",
      "Non-trainable params: 0\n",
      "_________________________________________________________________\n"
     ]
    }
   ],
   "source": [
    "#Model Summary\n",
    "model.summary()"
   ]
  },
  {
   "cell_type": "code",
   "execution_count": 14,
   "metadata": {},
   "outputs": [],
   "source": [
    "#Compile Model\n",
    "model.compile(loss='mean_squared_error', optimizer='adam')"
   ]
  },
  {
   "cell_type": "code",
   "execution_count": null,
   "metadata": {},
   "outputs": [],
   "source": []
  },
  {
   "cell_type": "markdown",
   "metadata": {},
   "source": [
    "##### Fit Model"
   ]
  },
  {
   "cell_type": "code",
   "execution_count": 15,
   "metadata": {},
   "outputs": [
    {
     "name": "stdout",
     "output_type": "stream",
     "text": [
      "Epoch 1/100\n",
      " - 1s - loss: 0.0318\n",
      "Epoch 2/100\n",
      " - 0s - loss: 0.0140\n",
      "Epoch 3/100\n",
      " - 0s - loss: 0.0109\n",
      "Epoch 4/100\n",
      " - 0s - loss: 0.0098\n",
      "Epoch 5/100\n",
      " - 0s - loss: 0.0090\n",
      "Epoch 6/100\n",
      " - 0s - loss: 0.0080\n",
      "Epoch 7/100\n",
      " - 0s - loss: 0.0072\n",
      "Epoch 8/100\n",
      " - 0s - loss: 0.0064\n",
      "Epoch 9/100\n",
      " - 0s - loss: 0.0055\n",
      "Epoch 10/100\n",
      " - 0s - loss: 0.0048\n",
      "Epoch 11/100\n",
      " - 0s - loss: 0.0041\n",
      "Epoch 12/100\n",
      " - 0s - loss: 0.0036\n",
      "Epoch 13/100\n",
      " - 0s - loss: 0.0032\n",
      "Epoch 14/100\n",
      " - 0s - loss: 0.0028\n",
      "Epoch 15/100\n",
      " - 0s - loss: 0.0026\n",
      "Epoch 16/100\n",
      " - 0s - loss: 0.0024\n",
      "Epoch 17/100\n",
      " - 0s - loss: 0.0022\n",
      "Epoch 18/100\n",
      " - 0s - loss: 0.0022\n",
      "Epoch 19/100\n",
      " - 0s - loss: 0.0021\n",
      "Epoch 20/100\n",
      " - 0s - loss: 0.0021\n",
      "Epoch 21/100\n",
      " - 0s - loss: 0.0020\n",
      "Epoch 22/100\n",
      " - 0s - loss: 0.0021\n",
      "Epoch 23/100\n",
      " - 0s - loss: 0.0021\n",
      "Epoch 24/100\n",
      " - 0s - loss: 0.0021\n",
      "Epoch 25/100\n",
      " - 0s - loss: 0.0021\n",
      "Epoch 26/100\n",
      " - 0s - loss: 0.0021\n",
      "Epoch 27/100\n",
      " - 0s - loss: 0.0021\n",
      "Epoch 28/100\n",
      " - 0s - loss: 0.0021\n",
      "Epoch 29/100\n",
      " - 0s - loss: 0.0021\n",
      "Epoch 30/100\n",
      " - 0s - loss: 0.0020\n",
      "Epoch 31/100\n",
      " - 0s - loss: 0.0021\n",
      "Epoch 32/100\n",
      " - 0s - loss: 0.0020\n",
      "Epoch 33/100\n",
      " - 0s - loss: 0.0021\n",
      "Epoch 34/100\n",
      " - 0s - loss: 0.0021\n",
      "Epoch 35/100\n",
      " - 0s - loss: 0.0020\n",
      "Epoch 36/100\n",
      " - 0s - loss: 0.0020\n",
      "Epoch 37/100\n",
      " - 0s - loss: 0.0021\n",
      "Epoch 38/100\n",
      " - 0s - loss: 0.0020\n",
      "Epoch 39/100\n",
      " - 0s - loss: 0.0020\n",
      "Epoch 40/100\n",
      " - 0s - loss: 0.0021\n",
      "Epoch 41/100\n",
      " - 0s - loss: 0.0020\n",
      "Epoch 42/100\n",
      " - 0s - loss: 0.0020\n",
      "Epoch 43/100\n",
      " - 0s - loss: 0.0021\n",
      "Epoch 44/100\n",
      " - 0s - loss: 0.0020\n",
      "Epoch 45/100\n",
      " - 0s - loss: 0.0020\n",
      "Epoch 46/100\n",
      " - 0s - loss: 0.0020\n",
      "Epoch 47/100\n",
      " - 0s - loss: 0.0020\n",
      "Epoch 48/100\n",
      " - 0s - loss: 0.0021\n",
      "Epoch 49/100\n",
      " - 0s - loss: 0.0020\n",
      "Epoch 50/100\n",
      " - 0s - loss: 0.0020\n",
      "Epoch 51/100\n",
      " - 0s - loss: 0.0020\n",
      "Epoch 52/100\n",
      " - 0s - loss: 0.0020\n",
      "Epoch 53/100\n",
      " - 0s - loss: 0.0020\n",
      "Epoch 54/100\n",
      " - 0s - loss: 0.0020\n",
      "Epoch 55/100\n",
      " - 0s - loss: 0.0020\n",
      "Epoch 56/100\n",
      " - 0s - loss: 0.0021\n",
      "Epoch 57/100\n",
      " - 0s - loss: 0.0021\n",
      "Epoch 58/100\n",
      " - 0s - loss: 0.0021\n",
      "Epoch 59/100\n",
      " - 0s - loss: 0.0020\n",
      "Epoch 60/100\n",
      " - 0s - loss: 0.0020\n",
      "Epoch 61/100\n",
      " - 0s - loss: 0.0021\n",
      "Epoch 62/100\n",
      " - 0s - loss: 0.0020\n",
      "Epoch 63/100\n",
      " - 0s - loss: 0.0021\n",
      "Epoch 64/100\n",
      " - 0s - loss: 0.0020\n",
      "Epoch 65/100\n",
      " - 0s - loss: 0.0020\n",
      "Epoch 66/100\n",
      " - 0s - loss: 0.0020\n",
      "Epoch 67/100\n",
      " - 0s - loss: 0.0021\n",
      "Epoch 68/100\n",
      " - 0s - loss: 0.0021\n",
      "Epoch 69/100\n",
      " - 0s - loss: 0.0020\n",
      "Epoch 70/100\n",
      " - 0s - loss: 0.0020\n",
      "Epoch 71/100\n",
      " - 0s - loss: 0.0021\n",
      "Epoch 72/100\n",
      " - 0s - loss: 0.0020\n",
      "Epoch 73/100\n",
      " - 0s - loss: 0.0021\n",
      "Epoch 74/100\n",
      " - 0s - loss: 0.0020\n",
      "Epoch 75/100\n",
      " - 0s - loss: 0.0021\n",
      "Epoch 76/100\n",
      " - 0s - loss: 0.0020\n",
      "Epoch 77/100\n",
      " - 0s - loss: 0.0020\n",
      "Epoch 78/100\n",
      " - 0s - loss: 0.0021\n",
      "Epoch 79/100\n",
      " - 0s - loss: 0.0020\n",
      "Epoch 80/100\n",
      " - 0s - loss: 0.0020\n",
      "Epoch 81/100\n",
      " - 0s - loss: 0.0020\n",
      "Epoch 82/100\n",
      " - 0s - loss: 0.0020\n",
      "Epoch 83/100\n",
      " - 0s - loss: 0.0021\n",
      "Epoch 84/100\n",
      " - 0s - loss: 0.0020\n",
      "Epoch 85/100\n",
      " - 0s - loss: 0.0020\n",
      "Epoch 86/100\n",
      " - 0s - loss: 0.0020\n",
      "Epoch 87/100\n",
      " - 0s - loss: 0.0020\n",
      "Epoch 88/100\n",
      " - 0s - loss: 0.0021\n",
      "Epoch 89/100\n",
      " - 0s - loss: 0.0020\n",
      "Epoch 90/100\n",
      " - 0s - loss: 0.0020\n",
      "Epoch 91/100\n",
      " - 0s - loss: 0.0020\n",
      "Epoch 92/100\n",
      " - 0s - loss: 0.0020\n",
      "Epoch 93/100\n",
      " - 0s - loss: 0.0021\n",
      "Epoch 94/100\n",
      " - 0s - loss: 0.0020\n",
      "Epoch 95/100\n",
      " - 0s - loss: 0.0020\n",
      "Epoch 96/100\n",
      " - 0s - loss: 0.0020\n",
      "Epoch 97/100\n",
      " - 0s - loss: 0.0020\n",
      "Epoch 98/100\n",
      " - 0s - loss: 0.0020\n",
      "Epoch 99/100\n",
      " - 0s - loss: 0.0020\n",
      "Epoch 100/100\n",
      " - 0s - loss: 0.0021\n"
     ]
    },
    {
     "data": {
      "text/plain": [
       "<keras.callbacks.callbacks.History at 0x7f680e99b610>"
      ]
     },
     "execution_count": 15,
     "metadata": {},
     "output_type": "execute_result"
    }
   ],
   "source": [
    "model.fit(trainX, trainY, epochs=100, batch_size=1, verbose=2)"
   ]
  },
  {
   "cell_type": "code",
   "execution_count": null,
   "metadata": {},
   "outputs": [],
   "source": []
  },
  {
   "cell_type": "markdown",
   "metadata": {},
   "source": [
    "##### Predict"
   ]
  },
  {
   "cell_type": "code",
   "execution_count": 16,
   "metadata": {},
   "outputs": [],
   "source": [
    "# make predictions\n",
    "trainPredict = model.predict(trainX)\n",
    "testPredict = model.predict(testX)"
   ]
  },
  {
   "cell_type": "code",
   "execution_count": null,
   "metadata": {},
   "outputs": [],
   "source": []
  },
  {
   "cell_type": "markdown",
   "metadata": {},
   "source": [
    "##### Inverse Prediction"
   ]
  },
  {
   "cell_type": "code",
   "execution_count": 17,
   "metadata": {},
   "outputs": [],
   "source": [
    "# invert predictions\n",
    "trainPredict = scaler.inverse_transform(trainPredict)\n",
    "trainY = scaler.inverse_transform([trainY])\n",
    "testPredict = scaler.inverse_transform(testPredict)\n",
    "testY = scaler.inverse_transform([testY])"
   ]
  },
  {
   "cell_type": "code",
   "execution_count": null,
   "metadata": {},
   "outputs": [],
   "source": []
  },
  {
   "cell_type": "markdown",
   "metadata": {},
   "source": [
    "##### Root Mean Squared Error"
   ]
  },
  {
   "cell_type": "code",
   "execution_count": 19,
   "metadata": {},
   "outputs": [
    {
     "name": "stdout",
     "output_type": "stream",
     "text": [
      "Train Score: 22.88 RMSE\n",
      "Test Score: 47.73 RMSE\n"
     ]
    }
   ],
   "source": [
    "# calculate root mean squared error\n",
    "trainScore = math.sqrt(mean_squared_error(trainY[0], trainPredict[:,0]))\n",
    "print('Train Score: %.2f RMSE' % (trainScore))\n",
    "testScore = math.sqrt(mean_squared_error(testY[0], testPredict[:,0]))\n",
    "print('Test Score: %.2f RMSE' % (testScore))"
   ]
  },
  {
   "cell_type": "code",
   "execution_count": null,
   "metadata": {},
   "outputs": [],
   "source": []
  },
  {
   "cell_type": "markdown",
   "metadata": {},
   "source": [
    "##### Visualization"
   ]
  },
  {
   "cell_type": "code",
   "execution_count": 20,
   "metadata": {},
   "outputs": [
    {
     "data": {
      "image/png": "[encoded data removed]",
      "text/plain": [
       "<Figure size 432x288 with 1 Axes>"
      ]
     },
     "metadata": {
      "needs_background": "light"
     },
     "output_type": "display_data"
    }
   ],
   "source": [
    "# shift train predictions for plotting\n",
    "trainPredictPlot = numpy.empty_like(dataset)\n",
    "trainPredictPlot[:, :] = numpy.nan\n",
    "trainPredictPlot[look_back:len(trainPredict)+look_back, :] = trainPredict\n",
    "# shift test predictions for plotting\n",
    "testPredictPlot = numpy.empty_like(dataset)\n",
    "testPredictPlot[:, :] = numpy.nan\n",
    "testPredictPlot[len(trainPredict)+(look_back*2)+1:len(dataset)-1, :] = testPredict\n",
    "# plot baseline and predictions\n",
    "plt.plot(scaler.inverse_transform(dataset))\n",
    "plt.plot(trainPredictPlot)\n",
    "plt.plot(testPredictPlot)\n",
    "plt.show()"
   ]
  },
  {
   "cell_type": "code",
   "execution_count": null,
   "metadata": {},
   "outputs": [],
   "source": []
  },
  {
   "cell_type": "code",
   "execution_count": null,
   "metadata": {},
   "outputs": [],
   "source": []
  },
  {
   "cell_type": "code",
   "execution_count": null,
   "metadata": {},
   "outputs": [],
   "source": []
  },
  {
   "cell_type": "markdown",
   "metadata": {},
   "source": [
    "# LSTM For Regression Using the Window Method"
   ]
  },
  {
   "cell_type": "code",
   "execution_count": 21,
   "metadata": {},
   "outputs": [],
   "source": [
    "import numpy as np\n",
    "import matplotlib.pyplot as plt\n",
    "import pandas as pd\n",
    "import math\n",
    "from keras.models import Sequential\n",
    "from keras.layers import Dense\n",
    "from keras.layers import LSTM\n",
    "from sklearn.preprocessing import MinMaxScaler\n",
    "from sklearn.metrics import mean_squared_error"
   ]
  },
  {
   "cell_type": "code",
   "execution_count": 22,
   "metadata": {},
   "outputs": [],
   "source": [
    "# fix random seed for reproducibility\n",
    "numpy.random.seed(7)"
   ]
  },
  {
   "cell_type": "code",
   "execution_count": null,
   "metadata": {},
   "outputs": [],
   "source": []
  },
  {
   "cell_type": "markdown",
   "metadata": {},
   "source": [
    "##### Reading dataset"
   ]
  },
  {
   "cell_type": "code",
   "execution_count": 24,
   "metadata": {},
   "outputs": [],
   "source": [
    "# load the dataset\n",
    "dataframe = read_csv('/home/hasan/DATA SET/international-airline-passengers.csv', usecols=[1], engine='python', skipfooter=3)\n",
    "dataset = dataframe.values\n",
    "dataset = dataset.astype('float32')\n"
   ]
  },
  {
   "cell_type": "code",
   "execution_count": null,
   "metadata": {},
   "outputs": [],
   "source": []
  },
  {
   "cell_type": "markdown",
   "metadata": {},
   "source": [
    "##### Normalize dataset"
   ]
  },
  {
   "cell_type": "code",
   "execution_count": 25,
   "metadata": {},
   "outputs": [],
   "source": [
    "# normalize the dataset\n",
    "scaler = MinMaxScaler(feature_range=(0, 1))\n",
    "dataset = scaler.fit_transform(dataset)\n"
   ]
  },
  {
   "cell_type": "code",
   "execution_count": null,
   "metadata": {},
   "outputs": [],
   "source": []
  },
  {
   "cell_type": "markdown",
   "metadata": {},
   "source": [
    "##### Dividing train test"
   ]
  },
  {
   "cell_type": "code",
   "execution_count": 26,
   "metadata": {},
   "outputs": [],
   "source": [
    "# split into train and test sets\n",
    "train_size = int(len(dataset) * 0.67)\n",
    "test_size = len(dataset) - train_size\n",
    "train, test = dataset[0:train_size,:], dataset[train_size:len(dataset),:]\n"
   ]
  },
  {
   "cell_type": "code",
   "execution_count": null,
   "metadata": {},
   "outputs": [],
   "source": []
  },
  {
   "cell_type": "markdown",
   "metadata": {},
   "source": [
    "##### Dividing dataset"
   ]
  },
  {
   "cell_type": "code",
   "execution_count": 27,
   "metadata": {},
   "outputs": [],
   "source": [
    "# convert an array of values into a dataset matrix\n",
    "def create_dataset(dataset, look_back=1):\n",
    "    dataX, dataY = [], []\n",
    "    for i in range(len(dataset)-look_back-1):\n",
    "        a = dataset[i:(i+look_back), 0]\n",
    "        dataX.append(a)\n",
    "        dataY.append(dataset[i + look_back, 0])\n",
    "    return numpy.array(dataX), numpy.array(dataY)\n"
   ]
  },
  {
   "cell_type": "code",
   "execution_count": 28,
   "metadata": {},
   "outputs": [],
   "source": [
    "# reshape into X=t and Y=t+1\n",
    "look_back = 3\n",
    "trainX, trainY = create_dataset(train, look_back)\n",
    "testX, testY = create_dataset(test, look_back)\n"
   ]
  },
  {
   "cell_type": "code",
   "execution_count": null,
   "metadata": {},
   "outputs": [],
   "source": []
  },
  {
   "cell_type": "markdown",
   "metadata": {},
   "source": [
    "##### Reshape dataset"
   ]
  },
  {
   "cell_type": "code",
   "execution_count": 29,
   "metadata": {},
   "outputs": [],
   "source": [
    "# reshape input to be [samples, time steps, features]\n",
    "trainX = numpy.reshape(trainX, (trainX.shape[0], 1, trainX.shape[1]))\n",
    "testX = numpy.reshape(testX, (testX.shape[0], 1, testX.shape[1]))\n"
   ]
  },
  {
   "cell_type": "code",
   "execution_count": null,
   "metadata": {},
   "outputs": [],
   "source": []
  },
  {
   "cell_type": "markdown",
   "metadata": {},
   "source": [
    "##### Model"
   ]
  },
  {
   "cell_type": "code",
   "execution_count": 32,
   "metadata": {},
   "outputs": [],
   "source": [
    "# create and fit the LSTM network\n",
    "model = Sequential()\n",
    "model.add(LSTM(4, input_shape=(None,look_back)))\n",
    "model.add(Dense(1))\n"
   ]
  },
  {
   "cell_type": "code",
   "execution_count": 33,
   "metadata": {},
   "outputs": [
    {
     "name": "stdout",
     "output_type": "stream",
     "text": [
      "Model: \"sequential_6\"\n",
      "_________________________________________________________________\n",
      "Layer (type)                 Output Shape              Param #   \n",
      "=================================================================\n",
      "lstm_6 (LSTM)                (None, 4)                 128       \n",
      "_________________________________________________________________\n",
      "dense_4 (Dense)              (None, 1)                 5         \n",
      "=================================================================\n",
      "Total params: 133\n",
      "Trainable params: 133\n",
      "Non-trainable params: 0\n",
      "_________________________________________________________________\n"
     ]
    }
   ],
   "source": [
    "#Model Summary\n",
    "model.summary()"
   ]
  },
  {
   "cell_type": "code",
   "execution_count": 35,
   "metadata": {},
   "outputs": [],
   "source": [
    "#compile Model\n",
    "model.compile(loss='mean_squared_error', \n",
    "              optimizer='adam')"
   ]
  },
  {
   "cell_type": "code",
   "execution_count": null,
   "metadata": {},
   "outputs": [],
   "source": []
  },
  {
   "cell_type": "markdown",
   "metadata": {},
   "source": [
    "##### Fit Model"
   ]
  },
  {
   "cell_type": "code",
   "execution_count": 36,
   "metadata": {},
   "outputs": [
    {
     "name": "stdout",
     "output_type": "stream",
     "text": [
      "Epoch 1/100\n",
      " - 1s - loss: 0.0496\n",
      "Epoch 2/100\n",
      " - 0s - loss: 0.0204\n",
      "Epoch 3/100\n",
      " - 0s - loss: 0.0135\n",
      "Epoch 4/100\n",
      " - 0s - loss: 0.0115\n",
      "Epoch 5/100\n",
      " - 0s - loss: 0.0100\n",
      "Epoch 6/100\n",
      " - 0s - loss: 0.0087\n",
      "Epoch 7/100\n",
      " - 0s - loss: 0.0074\n",
      "Epoch 8/100\n",
      " - 0s - loss: 0.0063\n",
      "Epoch 9/100\n",
      " - 0s - loss: 0.0054\n",
      "Epoch 10/100\n",
      " - 0s - loss: 0.0047\n",
      "Epoch 11/100\n",
      " - 0s - loss: 0.0041\n",
      "Epoch 12/100\n",
      " - 0s - loss: 0.0037\n",
      "Epoch 13/100\n",
      " - 0s - loss: 0.0035\n",
      "Epoch 14/100\n",
      " - 0s - loss: 0.0034\n",
      "Epoch 15/100\n",
      " - 0s - loss: 0.0032\n",
      "Epoch 16/100\n",
      " - 0s - loss: 0.0031\n",
      "Epoch 17/100\n",
      " - 0s - loss: 0.0031\n",
      "Epoch 18/100\n",
      " - 0s - loss: 0.0028\n",
      "Epoch 19/100\n",
      " - 0s - loss: 0.0030\n",
      "Epoch 20/100\n",
      " - 0s - loss: 0.0031\n",
      "Epoch 21/100\n",
      " - 0s - loss: 0.0030\n",
      "Epoch 22/100\n",
      " - 0s - loss: 0.0029\n",
      "Epoch 23/100\n",
      " - 0s - loss: 0.0028\n",
      "Epoch 24/100\n",
      " - 0s - loss: 0.0029\n",
      "Epoch 25/100\n",
      " - 0s - loss: 0.0029\n",
      "Epoch 26/100\n",
      " - 0s - loss: 0.0028\n",
      "Epoch 27/100\n",
      " - 0s - loss: 0.0027\n",
      "Epoch 28/100\n",
      " - 0s - loss: 0.0026\n",
      "Epoch 29/100\n",
      " - 0s - loss: 0.0027\n",
      "Epoch 30/100\n",
      " - 0s - loss: 0.0027\n",
      "Epoch 31/100\n",
      " - 0s - loss: 0.0027\n",
      "Epoch 32/100\n",
      " - 0s - loss: 0.0026\n",
      "Epoch 33/100\n",
      " - 0s - loss: 0.0027\n",
      "Epoch 34/100\n",
      " - 0s - loss: 0.0024\n",
      "Epoch 35/100\n",
      " - 0s - loss: 0.0026\n",
      "Epoch 36/100\n",
      " - 0s - loss: 0.0026\n",
      "Epoch 37/100\n",
      " - 0s - loss: 0.0026\n",
      "Epoch 38/100\n",
      " - 0s - loss: 0.0026\n",
      "Epoch 39/100\n",
      " - 0s - loss: 0.0026\n",
      "Epoch 40/100\n",
      " - 0s - loss: 0.0025\n",
      "Epoch 41/100\n",
      " - 0s - loss: 0.0024\n",
      "Epoch 42/100\n",
      " - 0s - loss: 0.0025\n",
      "Epoch 43/100\n",
      " - 0s - loss: 0.0024\n",
      "Epoch 44/100\n",
      " - 0s - loss: 0.0025\n",
      "Epoch 45/100\n",
      " - 0s - loss: 0.0024\n",
      "Epoch 46/100\n",
      " - 0s - loss: 0.0026\n",
      "Epoch 47/100\n",
      " - 0s - loss: 0.0025\n",
      "Epoch 48/100\n",
      " - 0s - loss: 0.0024\n",
      "Epoch 49/100\n",
      " - 0s - loss: 0.0023\n",
      "Epoch 50/100\n",
      " - 0s - loss: 0.0024\n",
      "Epoch 51/100\n",
      " - 0s - loss: 0.0022\n",
      "Epoch 52/100\n",
      " - 0s - loss: 0.0024\n",
      "Epoch 53/100\n",
      " - 0s - loss: 0.0023\n",
      "Epoch 54/100\n",
      " - 0s - loss: 0.0023\n",
      "Epoch 55/100\n",
      " - 0s - loss: 0.0023\n",
      "Epoch 56/100\n",
      " - 0s - loss: 0.0023\n",
      "Epoch 57/100\n",
      " - 0s - loss: 0.0022\n",
      "Epoch 58/100\n",
      " - 0s - loss: 0.0022\n",
      "Epoch 59/100\n",
      " - 0s - loss: 0.0022\n",
      "Epoch 60/100\n",
      " - 0s - loss: 0.0023\n",
      "Epoch 61/100\n",
      " - 0s - loss: 0.0023\n",
      "Epoch 62/100\n",
      " - 0s - loss: 0.0023\n",
      "Epoch 63/100\n",
      " - 0s - loss: 0.0023\n",
      "Epoch 64/100\n",
      " - 0s - loss: 0.0022\n",
      "Epoch 65/100\n",
      " - 0s - loss: 0.0022\n",
      "Epoch 66/100\n",
      " - 0s - loss: 0.0021\n",
      "Epoch 67/100\n",
      " - 0s - loss: 0.0022\n",
      "Epoch 68/100\n",
      " - 0s - loss: 0.0020\n",
      "Epoch 69/100\n",
      " - 0s - loss: 0.0022\n",
      "Epoch 70/100\n",
      " - 0s - loss: 0.0021\n",
      "Epoch 71/100\n",
      " - 0s - loss: 0.0021\n",
      "Epoch 72/100\n",
      " - 0s - loss: 0.0021\n",
      "Epoch 73/100\n",
      " - 0s - loss: 0.0021\n",
      "Epoch 74/100\n",
      " - 0s - loss: 0.0021\n",
      "Epoch 75/100\n",
      " - 0s - loss: 0.0022\n",
      "Epoch 76/100\n",
      " - 0s - loss: 0.0022\n",
      "Epoch 77/100\n",
      " - 0s - loss: 0.0021\n",
      "Epoch 78/100\n",
      " - 0s - loss: 0.0022\n",
      "Epoch 79/100\n",
      " - 0s - loss: 0.0021\n",
      "Epoch 80/100\n",
      " - 0s - loss: 0.0021\n",
      "Epoch 81/100\n",
      " - 0s - loss: 0.0022\n",
      "Epoch 82/100\n",
      " - 0s - loss: 0.0021\n",
      "Epoch 83/100\n",
      " - 0s - loss: 0.0021\n",
      "Epoch 84/100\n",
      " - 0s - loss: 0.0020\n",
      "Epoch 85/100\n",
      " - 0s - loss: 0.0020\n",
      "Epoch 86/100\n",
      " - 0s - loss: 0.0021\n",
      "Epoch 87/100\n",
      " - 0s - loss: 0.0020\n",
      "Epoch 88/100\n",
      " - 0s - loss: 0.0020\n",
      "Epoch 89/100\n",
      " - 0s - loss: 0.0021\n",
      "Epoch 90/100\n",
      " - 0s - loss: 0.0020\n",
      "Epoch 91/100\n",
      " - 0s - loss: 0.0020\n",
      "Epoch 92/100\n",
      " - 0s - loss: 0.0020\n",
      "Epoch 93/100\n",
      " - 0s - loss: 0.0020\n",
      "Epoch 94/100\n",
      " - 0s - loss: 0.0020\n",
      "Epoch 95/100\n",
      " - 0s - loss: 0.0020\n",
      "Epoch 96/100\n",
      " - 0s - loss: 0.0020\n",
      "Epoch 97/100\n",
      " - 0s - loss: 0.0020\n",
      "Epoch 98/100\n",
      " - 0s - loss: 0.0020\n",
      "Epoch 99/100\n",
      " - 0s - loss: 0.0020\n",
      "Epoch 100/100\n",
      " - 0s - loss: 0.0019\n"
     ]
    },
    {
     "data": {
      "text/plain": [
       "<keras.callbacks.callbacks.History at 0x7f67d1e88950>"
      ]
     },
     "execution_count": 36,
     "metadata": {},
     "output_type": "execute_result"
    }
   ],
   "source": [
    "model.fit(trainX, trainY, epochs=100, batch_size=1, verbose=2)\n"
   ]
  },
  {
   "cell_type": "code",
   "execution_count": null,
   "metadata": {},
   "outputs": [],
   "source": []
  },
  {
   "cell_type": "markdown",
   "metadata": {},
   "source": [
    "##### Predict"
   ]
  },
  {
   "cell_type": "code",
   "execution_count": 37,
   "metadata": {},
   "outputs": [],
   "source": [
    "# make predictions\n",
    "trainPredict = model.predict(trainX)\n",
    "testPredict = model.predict(testX)\n"
   ]
  },
  {
   "cell_type": "code",
   "execution_count": null,
   "metadata": {},
   "outputs": [],
   "source": []
  },
  {
   "cell_type": "markdown",
   "metadata": {},
   "source": [
    "##### Inverse Prediction"
   ]
  },
  {
   "cell_type": "code",
   "execution_count": 38,
   "metadata": {},
   "outputs": [],
   "source": [
    "# invert predictions\n",
    "trainPredict = scaler.inverse_transform(trainPredict)\n",
    "trainY = scaler.inverse_transform([trainY])\n",
    "testPredict = scaler.inverse_transform(testPredict)\n",
    "testY = scaler.inverse_transform([testY])\n"
   ]
  },
  {
   "cell_type": "code",
   "execution_count": null,
   "metadata": {},
   "outputs": [],
   "source": []
  },
  {
   "cell_type": "markdown",
   "metadata": {},
   "source": [
    "##### mean squared error"
   ]
  },
  {
   "cell_type": "code",
   "execution_count": 40,
   "metadata": {},
   "outputs": [
    {
     "name": "stdout",
     "output_type": "stream",
     "text": [
      "Train Score: 22.47 RMSE\n",
      "Test Score: 49.90 RMSE\n"
     ]
    }
   ],
   "source": [
    "# calculate root mean squared error\n",
    "trainScore = math.sqrt(mean_squared_error(trainY[0], trainPredict[:,0]))\n",
    "print('Train Score: %.2f RMSE' % (trainScore))\n",
    "testScore = math.sqrt(mean_squared_error(testY[0], testPredict[:,0]))\n",
    "print('Test Score: %.2f RMSE' % (testScore))\n"
   ]
  },
  {
   "cell_type": "code",
   "execution_count": null,
   "metadata": {},
   "outputs": [],
   "source": []
  },
  {
   "cell_type": "markdown",
   "metadata": {},
   "source": [
    "##### Visualize"
   ]
  },
  {
   "cell_type": "code",
   "execution_count": 41,
   "metadata": {},
   "outputs": [
    {
     "data": {
      "image/png": "[encoded data removed]",
      "text/plain": [
       "<Figure size 432x288 with 1 Axes>"
      ]
     },
     "metadata": {
      "needs_background": "light"
     },
     "output_type": "display_data"
    }
   ],
   "source": [
    "# shift train predictions for plotting\n",
    "trainPredictPlot = numpy.empty_like(dataset)\n",
    "trainPredictPlot[:, :] = numpy.nan\n",
    "trainPredictPlot[look_back:len(trainPredict)+look_back, :] = trainPredict\n",
    "# shift test predictions for plotting\n",
    "testPredictPlot = numpy.empty_like(dataset)\n",
    "testPredictPlot[:, :] = numpy.nan\n",
    "testPredictPlot[len(trainPredict)+(look_back*2)+1:len(dataset)-1, :] = testPredict\n",
    "# plot baseline and predictions\n",
    "plt.plot(scaler.inverse_transform(dataset))\n",
    "plt.plot(trainPredictPlot)\n",
    "plt.plot(testPredictPlot)\n",
    "plt.show()\n"
   ]
  },
  {
   "cell_type": "code",
   "execution_count": null,
   "metadata": {},
   "outputs": [],
   "source": []
  },
  {
   "cell_type": "code",
   "execution_count": null,
   "metadata": {},
   "outputs": [],
   "source": []
  },
  {
   "cell_type": "code",
   "execution_count": null,
   "metadata": {},
   "outputs": [],
   "source": []
  },
  {
   "cell_type": "markdown",
   "metadata": {},
   "source": [
    "# LSTM For Regression with Time Steps"
   ]
  },
  {
   "cell_type": "code",
   "execution_count": 42,
   "metadata": {},
   "outputs": [],
   "source": [
    "import numpy as np\n",
    "import matplotlib.pyplot as plt\n",
    "import pandas as pd\n",
    "import math\n",
    "from keras.models import Sequential\n",
    "from keras.layers import Dense\n",
    "from keras.layers import LSTM\n",
    "from sklearn.preprocessing import MinMaxScaler\n",
    "from sklearn.metrics import mean_squared_error\n"
   ]
  },
  {
   "cell_type": "code",
   "execution_count": 43,
   "metadata": {},
   "outputs": [],
   "source": [
    "# fix random seed for reproducibility\n",
    "np.random.seed(7)"
   ]
  },
  {
   "cell_type": "code",
   "execution_count": null,
   "metadata": {},
   "outputs": [],
   "source": []
  },
  {
   "cell_type": "markdown",
   "metadata": {},
   "source": [
    "##### Reading dataset"
   ]
  },
  {
   "cell_type": "code",
   "execution_count": 47,
   "metadata": {},
   "outputs": [],
   "source": [
    "# load the dataset\n",
    "dataframe = read_csv('/home/hasan/DATA SET/international-airline-passengers.csv', usecols=[1], engine='python', skipfooter=3)\n",
    "dataset = dataframe.values\n",
    "dataset = dataset.astype('float32')\n"
   ]
  },
  {
   "cell_type": "code",
   "execution_count": null,
   "metadata": {},
   "outputs": [],
   "source": []
  },
  {
   "cell_type": "markdown",
   "metadata": {},
   "source": [
    "##### Normalize dataset"
   ]
  },
  {
   "cell_type": "code",
   "execution_count": 48,
   "metadata": {},
   "outputs": [],
   "source": [
    "# normalize the dataset\n",
    "scaler = MinMaxScaler(feature_range=(0, 1))\n",
    "dataset = scaler.fit_transform(dataset)\n"
   ]
  },
  {
   "cell_type": "code",
   "execution_count": null,
   "metadata": {},
   "outputs": [],
   "source": []
  },
  {
   "cell_type": "markdown",
   "metadata": {},
   "source": [
    "##### Dividing train test"
   ]
  },
  {
   "cell_type": "code",
   "execution_count": 49,
   "metadata": {},
   "outputs": [],
   "source": [
    "# split into train and test sets\n",
    "train_size = int(len(dataset) * 0.67)\n",
    "test_size = len(dataset) - train_size\n",
    "train, test = dataset[0:train_size,:], dataset[train_size:len(dataset),:]\n"
   ]
  },
  {
   "cell_type": "code",
   "execution_count": null,
   "metadata": {},
   "outputs": [],
   "source": []
  },
  {
   "cell_type": "markdown",
   "metadata": {},
   "source": [
    "##### Dividing dataset"
   ]
  },
  {
   "cell_type": "code",
   "execution_count": 50,
   "metadata": {},
   "outputs": [],
   "source": [
    "# convert an array of values into a dataset matrix\n",
    "def create_dataset(dataset, look_back=1):\n",
    "    dataX, dataY = [], []\n",
    "    for i in range(len(dataset)-look_back-1):\n",
    "        a = dataset[i:(i+look_back), 0]\n",
    "        dataX.append(a)\n",
    "        dataY.append(dataset[i + look_back, 0])\n",
    "    return numpy.array(dataX), numpy.array(dataY)\n"
   ]
  },
  {
   "cell_type": "code",
   "execution_count": 51,
   "metadata": {},
   "outputs": [],
   "source": [
    "# reshape into X=t and Y=t+1\n",
    "look_back = 3\n",
    "trainX, trainY = create_dataset(train, look_back)\n",
    "testX, testY = create_dataset(test, look_back)\n"
   ]
  },
  {
   "cell_type": "code",
   "execution_count": null,
   "metadata": {},
   "outputs": [],
   "source": []
  },
  {
   "cell_type": "markdown",
   "metadata": {},
   "source": [
    "##### Reshape dataset"
   ]
  },
  {
   "cell_type": "code",
   "execution_count": 52,
   "metadata": {},
   "outputs": [],
   "source": [
    "# reshape input to be [samples, time steps, features]\n",
    "trainX = numpy.reshape(trainX, (trainX.shape[0], trainX.shape[1], 1))\n",
    "testX = numpy.reshape(testX, (testX.shape[0], testX.shape[1], 1))"
   ]
  },
  {
   "cell_type": "code",
   "execution_count": null,
   "metadata": {},
   "outputs": [],
   "source": []
  },
  {
   "cell_type": "markdown",
   "metadata": {},
   "source": [
    "##### Model"
   ]
  },
  {
   "cell_type": "code",
   "execution_count": 64,
   "metadata": {},
   "outputs": [],
   "source": [
    "# create and fit the LSTM network\n",
    "model = Sequential()\n",
    "model.add(LSTM(4, input_shape=(look_back,1)))\n",
    "model.add(Dense(1))\n"
   ]
  },
  {
   "cell_type": "code",
   "execution_count": 65,
   "metadata": {},
   "outputs": [
    {
     "name": "stdout",
     "output_type": "stream",
     "text": [
      "Model: \"sequential_11\"\n",
      "_________________________________________________________________\n",
      "Layer (type)                 Output Shape              Param #   \n",
      "=================================================================\n",
      "lstm_11 (LSTM)               (None, 4)                 96        \n",
      "_________________________________________________________________\n",
      "dense_8 (Dense)              (None, 1)                 5         \n",
      "=================================================================\n",
      "Total params: 101\n",
      "Trainable params: 101\n",
      "Non-trainable params: 0\n",
      "_________________________________________________________________\n"
     ]
    }
   ],
   "source": [
    "#Model Summary\n",
    "model.summary()"
   ]
  },
  {
   "cell_type": "code",
   "execution_count": 66,
   "metadata": {},
   "outputs": [],
   "source": [
    "#compile Model\n",
    "model.compile(loss='mean_squared_error', \n",
    "              optimizer='adam')"
   ]
  },
  {
   "cell_type": "code",
   "execution_count": null,
   "metadata": {},
   "outputs": [],
   "source": []
  },
  {
   "cell_type": "markdown",
   "metadata": {},
   "source": [
    "##### Fit Model"
   ]
  },
  {
   "cell_type": "code",
   "execution_count": 67,
   "metadata": {},
   "outputs": [
    {
     "name": "stdout",
     "output_type": "stream",
     "text": [
      "Epoch 1/100\n",
      " - 1s - loss: 0.0398\n",
      "Epoch 2/100\n",
      " - 0s - loss: 0.0172\n",
      "Epoch 3/100\n",
      " - 0s - loss: 0.0145\n",
      "Epoch 4/100\n",
      " - 0s - loss: 0.0133\n",
      "Epoch 5/100\n",
      " - 0s - loss: 0.0120\n",
      "Epoch 6/100\n",
      " - 0s - loss: 0.0107\n",
      "Epoch 7/100\n",
      " - 0s - loss: 0.0095\n",
      "Epoch 8/100\n",
      " - 0s - loss: 0.0082\n",
      "Epoch 9/100\n",
      " - 0s - loss: 0.0073\n",
      "Epoch 10/100\n",
      " - 0s - loss: 0.0063\n",
      "Epoch 11/100\n",
      " - 0s - loss: 0.0056\n",
      "Epoch 12/100\n",
      " - 0s - loss: 0.0050\n",
      "Epoch 13/100\n",
      " - 0s - loss: 0.0047\n",
      "Epoch 14/100\n",
      " - 0s - loss: 0.0045\n",
      "Epoch 15/100\n",
      " - 0s - loss: 0.0044\n",
      "Epoch 16/100\n",
      " - 0s - loss: 0.0042\n",
      "Epoch 17/100\n",
      " - 0s - loss: 0.0041\n",
      "Epoch 18/100\n",
      " - 0s - loss: 0.0041\n",
      "Epoch 19/100\n",
      " - 0s - loss: 0.0040\n",
      "Epoch 20/100\n",
      " - 0s - loss: 0.0040\n",
      "Epoch 21/100\n",
      " - 0s - loss: 0.0040\n",
      "Epoch 22/100\n",
      " - 0s - loss: 0.0041\n",
      "Epoch 23/100\n",
      " - 0s - loss: 0.0040\n",
      "Epoch 24/100\n",
      " - 0s - loss: 0.0040\n",
      "Epoch 25/100\n",
      " - 0s - loss: 0.0039\n",
      "Epoch 26/100\n",
      " - 0s - loss: 0.0040\n",
      "Epoch 27/100\n",
      " - 0s - loss: 0.0040\n",
      "Epoch 28/100\n",
      " - 0s - loss: 0.0041\n",
      "Epoch 29/100\n",
      " - 0s - loss: 0.0039\n",
      "Epoch 30/100\n",
      " - 0s - loss: 0.0039\n",
      "Epoch 31/100\n",
      " - 0s - loss: 0.0038\n",
      "Epoch 32/100\n",
      " - 0s - loss: 0.0039\n",
      "Epoch 33/100\n",
      " - 0s - loss: 0.0038\n",
      "Epoch 34/100\n",
      " - 0s - loss: 0.0038\n",
      "Epoch 35/100\n",
      " - 0s - loss: 0.0035\n",
      "Epoch 36/100\n",
      " - 0s - loss: 0.0041\n",
      "Epoch 37/100\n",
      " - 0s - loss: 0.0034\n",
      "Epoch 38/100\n",
      " - 0s - loss: 0.0037\n",
      "Epoch 39/100\n",
      " - 0s - loss: 0.0037\n",
      "Epoch 40/100\n",
      " - 0s - loss: 0.0038\n",
      "Epoch 41/100\n",
      " - 0s - loss: 0.0035\n",
      "Epoch 42/100\n",
      " - 0s - loss: 0.0035\n",
      "Epoch 43/100\n",
      " - 0s - loss: 0.0036\n",
      "Epoch 44/100\n",
      " - 0s - loss: 0.0035\n",
      "Epoch 45/100\n",
      " - 0s - loss: 0.0032\n",
      "Epoch 46/100\n",
      " - 0s - loss: 0.0034\n",
      "Epoch 47/100\n",
      " - 0s - loss: 0.0031\n",
      "Epoch 48/100\n",
      " - 0s - loss: 0.0033\n",
      "Epoch 49/100\n",
      " - 0s - loss: 0.0032\n",
      "Epoch 50/100\n",
      " - 0s - loss: 0.0032\n",
      "Epoch 51/100\n",
      " - 0s - loss: 0.0032\n",
      "Epoch 52/100\n",
      " - 0s - loss: 0.0032\n",
      "Epoch 53/100\n",
      " - 0s - loss: 0.0030\n",
      "Epoch 54/100\n",
      " - 0s - loss: 0.0030\n",
      "Epoch 55/100\n",
      " - 0s - loss: 0.0030\n",
      "Epoch 56/100\n",
      " - 0s - loss: 0.0030\n",
      "Epoch 57/100\n",
      " - 0s - loss: 0.0029\n",
      "Epoch 58/100\n",
      " - 0s - loss: 0.0028\n",
      "Epoch 59/100\n",
      " - 0s - loss: 0.0028\n",
      "Epoch 60/100\n",
      " - 0s - loss: 0.0028\n",
      "Epoch 61/100\n",
      " - 0s - loss: 0.0030\n",
      "Epoch 62/100\n",
      " - 0s - loss: 0.0029\n",
      "Epoch 63/100\n",
      " - 0s - loss: 0.0028\n",
      "Epoch 64/100\n",
      " - 0s - loss: 0.0027\n",
      "Epoch 65/100\n",
      " - 0s - loss: 0.0026\n",
      "Epoch 66/100\n",
      " - 0s - loss: 0.0026\n",
      "Epoch 67/100\n",
      " - 0s - loss: 0.0026\n",
      "Epoch 68/100\n",
      " - 0s - loss: 0.0026\n",
      "Epoch 69/100\n",
      " - 0s - loss: 0.0026\n",
      "Epoch 70/100\n",
      " - 0s - loss: 0.0026\n",
      "Epoch 71/100\n",
      " - 0s - loss: 0.0026\n",
      "Epoch 72/100\n",
      " - 0s - loss: 0.0026\n",
      "Epoch 73/100\n",
      " - 0s - loss: 0.0025\n",
      "Epoch 74/100\n",
      " - 0s - loss: 0.0025\n",
      "Epoch 75/100\n",
      " - 0s - loss: 0.0026\n",
      "Epoch 76/100\n",
      " - 0s - loss: 0.0025\n",
      "Epoch 77/100\n",
      " - 0s - loss: 0.0027\n",
      "Epoch 78/100\n",
      " - 0s - loss: 0.0024\n",
      "Epoch 79/100\n",
      " - 0s - loss: 0.0025\n",
      "Epoch 80/100\n",
      " - 0s - loss: 0.0025\n",
      "Epoch 81/100\n",
      " - 0s - loss: 0.0023\n",
      "Epoch 82/100\n",
      " - 0s - loss: 0.0023\n",
      "Epoch 83/100\n",
      " - 0s - loss: 0.0024\n",
      "Epoch 84/100\n",
      " - 0s - loss: 0.0025\n",
      "Epoch 85/100\n",
      " - 0s - loss: 0.0024\n",
      "Epoch 86/100\n",
      " - 0s - loss: 0.0022\n",
      "Epoch 87/100\n",
      " - 0s - loss: 0.0022\n",
      "Epoch 88/100\n",
      " - 0s - loss: 0.0021\n",
      "Epoch 89/100\n",
      " - 0s - loss: 0.0024\n",
      "Epoch 90/100\n",
      " - 0s - loss: 0.0023\n",
      "Epoch 91/100\n",
      " - 0s - loss: 0.0022\n",
      "Epoch 92/100\n",
      " - 0s - loss: 0.0022\n",
      "Epoch 93/100\n",
      " - 0s - loss: 0.0022\n",
      "Epoch 94/100\n",
      " - 0s - loss: 0.0020\n",
      "Epoch 95/100\n",
      " - 0s - loss: 0.0021\n",
      "Epoch 96/100\n",
      " - 0s - loss: 0.0022\n",
      "Epoch 97/100\n",
      " - 0s - loss: 0.0023\n",
      "Epoch 98/100\n",
      " - 0s - loss: 0.0021\n",
      "Epoch 99/100\n",
      " - 0s - loss: 0.0022\n",
      "Epoch 100/100\n",
      " - 0s - loss: 0.0021\n"
     ]
    },
    {
     "data": {
      "text/plain": [
       "<keras.callbacks.callbacks.History at 0x7f67d04e7310>"
      ]
     },
     "execution_count": 67,
     "metadata": {},
     "output_type": "execute_result"
    }
   ],
   "source": [
    "model.fit(trainX, trainY, epochs=100, batch_size=1, verbose=2)\n"
   ]
  },
  {
   "cell_type": "code",
   "execution_count": null,
   "metadata": {},
   "outputs": [],
   "source": []
  },
  {
   "cell_type": "markdown",
   "metadata": {},
   "source": [
    "##### Predict"
   ]
  },
  {
   "cell_type": "code",
   "execution_count": 68,
   "metadata": {},
   "outputs": [],
   "source": [
    "# make predictions\n",
    "trainPredict = model.predict(trainX)\n",
    "testPredict = model.predict(testX)\n"
   ]
  },
  {
   "cell_type": "code",
   "execution_count": null,
   "metadata": {},
   "outputs": [],
   "source": []
  },
  {
   "cell_type": "markdown",
   "metadata": {},
   "source": [
    "##### Inverse Prediction"
   ]
  },
  {
   "cell_type": "code",
   "execution_count": 69,
   "metadata": {},
   "outputs": [],
   "source": [
    "# invert predictions\n",
    "trainPredict = scaler.inverse_transform(trainPredict)\n",
    "trainY = scaler.inverse_transform([trainY])\n",
    "testPredict = scaler.inverse_transform(testPredict)\n",
    "testY = scaler.inverse_transform([testY])\n"
   ]
  },
  {
   "cell_type": "code",
   "execution_count": null,
   "metadata": {},
   "outputs": [],
   "source": []
  },
  {
   "cell_type": "markdown",
   "metadata": {},
   "source": [
    "##### mean squared error"
   ]
  },
  {
   "cell_type": "code",
   "execution_count": 71,
   "metadata": {},
   "outputs": [
    {
     "name": "stdout",
     "output_type": "stream",
     "text": [
      "Train Score: 23.19 RMSE\n",
      "Test Score: 58.08 RMSE\n"
     ]
    }
   ],
   "source": [
    "# calculate root mean squared error\n",
    "trainScore = math.sqrt(mean_squared_error(trainY[0], trainPredict[:,0]))\n",
    "print('Train Score: %.2f RMSE' % (trainScore))\n",
    "testScore = math.sqrt(mean_squared_error(testY[0], testPredict[:,0]))\n",
    "print('Test Score: %.2f RMSE' % (testScore))\n"
   ]
  },
  {
   "cell_type": "code",
   "execution_count": null,
   "metadata": {},
   "outputs": [],
   "source": []
  },
  {
   "cell_type": "markdown",
   "metadata": {},
   "source": [
    "##### Visualize"
   ]
  },
  {
   "cell_type": "code",
   "execution_count": 72,
   "metadata": {},
   "outputs": [
    {
     "data": {
      "image/png": "[encoded data removed]",
      "text/plain": [
       "<Figure size 432x288 with 1 Axes>"
      ]
     },
     "metadata": {
      "needs_background": "light"
     },
     "output_type": "display_data"
    }
   ],
   "source": [
    "# shift train predictions for plotting\n",
    "trainPredictPlot = numpy.empty_like(dataset)\n",
    "trainPredictPlot[:, :] = numpy.nan\n",
    "trainPredictPlot[look_back:len(trainPredict)+look_back, :] = trainPredict\n",
    "# shift test predictions for plotting\n",
    "testPredictPlot = numpy.empty_like(dataset)\n",
    "testPredictPlot[:, :] = numpy.nan\n",
    "testPredictPlot[len(trainPredict)+(look_back*2)+1:len(dataset)-1, :] = testPredict\n",
    "# plot baseline and predictions\n",
    "plt.plot(scaler.inverse_transform(dataset))\n",
    "plt.plot(trainPredictPlot)\n",
    "plt.plot(testPredictPlot)\n",
    "plt.show()\n"
   ]
  },
  {
   "cell_type": "code",
   "execution_count": null,
   "metadata": {},
   "outputs": [],
   "source": []
  },
  {
   "cell_type": "code",
   "execution_count": null,
   "metadata": {},
   "outputs": [],
   "source": []
  },
  {
   "cell_type": "code",
   "execution_count": null,
   "metadata": {},
   "outputs": [],
   "source": []
  },
  {
   "cell_type": "markdown",
   "metadata": {},
   "source": [
    "# LSTM With Memory Between Batches"
   ]
  },
  {
   "cell_type": "code",
   "execution_count": null,
   "metadata": {},
   "outputs": [],
   "source": [
    "#change of previous code\n",
    "model.add(LSTM(4, batch_input_shape=(batch_size, look_back, 1), stateful=True, return_sequences=True))\n",
    "model.add(LSTM(4, batch_input_shape=(batch_size, look_back, 1), stateful=True))"
   ]
  },
  {
   "cell_type": "code",
   "execution_count": null,
   "metadata": {},
   "outputs": [],
   "source": []
  },
  {
   "cell_type": "code",
   "execution_count": 73,
   "metadata": {},
   "outputs": [],
   "source": [
    "import numpy as np\n",
    "import matplotlib.pyplot as plt\n",
    "import pandas as pd\n",
    "import math\n",
    "from keras.models import Sequential\n",
    "from keras.layers import Dense, LSTM\n",
    "from sklearn.preprocessing import MinMaxScaler\n",
    "from sklearn.metrics import mean_squared_error"
   ]
  },
  {
   "cell_type": "code",
   "execution_count": 74,
   "metadata": {},
   "outputs": [],
   "source": [
    "# fix random seed for reproducibility\n",
    "np.random.seed(7)"
   ]
  },
  {
   "cell_type": "code",
   "execution_count": null,
   "metadata": {},
   "outputs": [],
   "source": []
  },
  {
   "cell_type": "markdown",
   "metadata": {},
   "source": [
    "##### Reading dataset"
   ]
  },
  {
   "cell_type": "code",
   "execution_count": 75,
   "metadata": {},
   "outputs": [],
   "source": [
    "# load the dataset\n",
    "dataframe = pd.read_csv('/home/hasan/DATA SET/international-airline-passengers.csv', usecols=[1], engine='python', skipfooter=3)\n",
    "dataset = dataframe.values\n",
    "dataset = dataset.astype('float32')"
   ]
  },
  {
   "cell_type": "code",
   "execution_count": null,
   "metadata": {},
   "outputs": [],
   "source": []
  },
  {
   "cell_type": "markdown",
   "metadata": {},
   "source": [
    "##### Normalize data"
   ]
  },
  {
   "cell_type": "code",
   "execution_count": 76,
   "metadata": {},
   "outputs": [],
   "source": [
    "# normalize the dataset\n",
    "scaler = MinMaxScaler(feature_range=(0, 1))\n",
    "dataset = scaler.fit_transform(dataset)"
   ]
  },
  {
   "cell_type": "code",
   "execution_count": null,
   "metadata": {},
   "outputs": [],
   "source": []
  },
  {
   "cell_type": "markdown",
   "metadata": {},
   "source": [
    "##### dividing dataset"
   ]
  },
  {
   "cell_type": "code",
   "execution_count": 77,
   "metadata": {},
   "outputs": [],
   "source": [
    "# split into train and test sets\n",
    "train_size = int(len(dataset) * 0.67)\n",
    "test_size = len(dataset) - train_size\n",
    "train, test = dataset[0:train_size,:], dataset[train_size:len(dataset),:]"
   ]
  },
  {
   "cell_type": "code",
   "execution_count": null,
   "metadata": {},
   "outputs": [],
   "source": []
  },
  {
   "cell_type": "markdown",
   "metadata": {},
   "source": [
    "##### dividing data into train test"
   ]
  },
  {
   "cell_type": "code",
   "execution_count": 78,
   "metadata": {},
   "outputs": [],
   "source": [
    "# convert an array of values into a dataset matrix\n",
    "def create_dataset(dataset, look_back=1):\n",
    "    dataX, dataY = [], []\n",
    "    for i in range(len(dataset)-look_back-1):\n",
    "        a = dataset[i:(i+look_back), 0]\n",
    "        dataX.append(a)\n",
    "        dataY.append(dataset[i + look_back, 0])\n",
    "    return np.array(dataX), np.array(dataY)\n"
   ]
  },
  {
   "cell_type": "code",
   "execution_count": 79,
   "metadata": {},
   "outputs": [],
   "source": [
    "# reshape into X=t and Y=t+1\n",
    "look_back = 3\n",
    "trainX, trainY = create_dataset(train, look_back)\n",
    "testX, testY = create_dataset(test, look_back)"
   ]
  },
  {
   "cell_type": "code",
   "execution_count": null,
   "metadata": {},
   "outputs": [],
   "source": []
  },
  {
   "cell_type": "markdown",
   "metadata": {},
   "source": [
    "##### reshape"
   ]
  },
  {
   "cell_type": "code",
   "execution_count": 80,
   "metadata": {},
   "outputs": [],
   "source": [
    "# reshape input to be [samples, time steps, features]\n",
    "trainX = np.reshape(trainX, (trainX.shape[0], trainX.shape[1], 1))\n",
    "testX = np.reshape(testX, (testX.shape[0], testX.shape[1], 1))"
   ]
  },
  {
   "cell_type": "code",
   "execution_count": null,
   "metadata": {},
   "outputs": [],
   "source": []
  },
  {
   "cell_type": "markdown",
   "metadata": {},
   "source": [
    "##### Model"
   ]
  },
  {
   "cell_type": "code",
   "execution_count": 81,
   "metadata": {},
   "outputs": [],
   "source": [
    "# create and fit the LSTM network\n",
    "batch_size = 1\n",
    "model = Sequential()\n",
    "model.add(LSTM(4, batch_input_shape=(batch_size, look_back, 1), stateful=True, return_sequences=True))\n",
    "model.add(LSTM(4, batch_input_shape=(batch_size, look_back, 1), stateful=True))\n",
    "model.add(Dense(1))"
   ]
  },
  {
   "cell_type": "code",
   "execution_count": 82,
   "metadata": {},
   "outputs": [
    {
     "name": "stdout",
     "output_type": "stream",
     "text": [
      "Model: \"sequential_12\"\n",
      "_________________________________________________________________\n",
      "Layer (type)                 Output Shape              Param #   \n",
      "=================================================================\n",
      "lstm_12 (LSTM)               (1, 3, 4)                 96        \n",
      "_________________________________________________________________\n",
      "lstm_13 (LSTM)               (1, 4)                    144       \n",
      "_________________________________________________________________\n",
      "dense_9 (Dense)              (1, 1)                    5         \n",
      "=================================================================\n",
      "Total params: 245\n",
      "Trainable params: 245\n",
      "Non-trainable params: 0\n",
      "_________________________________________________________________\n"
     ]
    }
   ],
   "source": [
    "#model summary\n",
    "model.summary()"
   ]
  },
  {
   "cell_type": "code",
   "execution_count": 83,
   "metadata": {},
   "outputs": [],
   "source": [
    "#model compile\n",
    "model.compile(loss='mean_squared_error', \n",
    "              optimizer='adam')"
   ]
  },
  {
   "cell_type": "code",
   "execution_count": null,
   "metadata": {},
   "outputs": [],
   "source": []
  },
  {
   "cell_type": "markdown",
   "metadata": {},
   "source": [
    "##### fit model"
   ]
  },
  {
   "cell_type": "code",
   "execution_count": 84,
   "metadata": {},
   "outputs": [
    {
     "name": "stdout",
     "output_type": "stream",
     "text": [
      "Epoch 1/1\n",
      " - 1s - loss: 0.0052\n",
      "Epoch 1/1\n",
      " - 0s - loss: 0.0080\n",
      "Epoch 1/1\n",
      " - 0s - loss: 0.0057\n",
      "Epoch 1/1\n",
      " - 0s - loss: 0.0062\n",
      "Epoch 1/1\n",
      " - 0s - loss: 0.0061\n",
      "Epoch 1/1\n",
      " - 0s - loss: 0.0060\n",
      "Epoch 1/1\n",
      " - 0s - loss: 0.0059\n",
      "Epoch 1/1\n",
      " - 0s - loss: 0.0058\n",
      "Epoch 1/1\n",
      " - 0s - loss: 0.0057\n",
      "Epoch 1/1\n",
      " - 0s - loss: 0.0057\n",
      "Epoch 1/1\n",
      " - 0s - loss: 0.0056\n",
      "Epoch 1/1\n",
      " - 0s - loss: 0.0056\n",
      "Epoch 1/1\n",
      " - 0s - loss: 0.0056\n",
      "Epoch 1/1\n",
      " - 0s - loss: 0.0056\n",
      "Epoch 1/1\n",
      " - 0s - loss: 0.0056\n",
      "Epoch 1/1\n",
      " - 0s - loss: 0.0055\n",
      "Epoch 1/1\n",
      " - 0s - loss: 0.0055\n",
      "Epoch 1/1\n",
      " - 0s - loss: 0.0055\n",
      "Epoch 1/1\n",
      " - 0s - loss: 0.0055\n",
      "Epoch 1/1\n",
      " - 0s - loss: 0.0055\n",
      "Epoch 1/1\n",
      " - 0s - loss: 0.0055\n",
      "Epoch 1/1\n",
      " - 0s - loss: 0.0054\n",
      "Epoch 1/1\n",
      " - 0s - loss: 0.0054\n",
      "Epoch 1/1\n",
      " - 0s - loss: 0.0054\n",
      "Epoch 1/1\n",
      " - 0s - loss: 0.0054\n",
      "Epoch 1/1\n",
      " - 0s - loss: 0.0054\n",
      "Epoch 1/1\n",
      " - 0s - loss: 0.0053\n",
      "Epoch 1/1\n",
      " - 0s - loss: 0.0053\n",
      "Epoch 1/1\n",
      " - 0s - loss: 0.0053\n",
      "Epoch 1/1\n",
      " - 0s - loss: 0.0053\n",
      "Epoch 1/1\n",
      " - 0s - loss: 0.0053\n",
      "Epoch 1/1\n",
      " - 0s - loss: 0.0052\n",
      "Epoch 1/1\n",
      " - 0s - loss: 0.0052\n",
      "Epoch 1/1\n",
      " - 0s - loss: 0.0052\n",
      "Epoch 1/1\n",
      " - 0s - loss: 0.0052\n",
      "Epoch 1/1\n",
      " - 0s - loss: 0.0051\n",
      "Epoch 1/1\n",
      " - 0s - loss: 0.0051\n",
      "Epoch 1/1\n",
      " - 0s - loss: 0.0051\n",
      "Epoch 1/1\n",
      " - 0s - loss: 0.0050\n",
      "Epoch 1/1\n",
      " - 0s - loss: 0.0050\n",
      "Epoch 1/1\n",
      " - 0s - loss: 0.0050\n",
      "Epoch 1/1\n",
      " - 0s - loss: 0.0050\n",
      "Epoch 1/1\n",
      " - 0s - loss: 0.0049\n",
      "Epoch 1/1\n",
      " - 0s - loss: 0.0049\n",
      "Epoch 1/1\n",
      " - 0s - loss: 0.0049\n",
      "Epoch 1/1\n",
      " - 0s - loss: 0.0048\n",
      "Epoch 1/1\n",
      " - 0s - loss: 0.0048\n",
      "Epoch 1/1\n",
      " - 0s - loss: 0.0048\n",
      "Epoch 1/1\n",
      " - 0s - loss: 0.0047\n",
      "Epoch 1/1\n",
      " - 0s - loss: 0.0047\n",
      "Epoch 1/1\n",
      " - 0s - loss: 0.0046\n",
      "Epoch 1/1\n",
      " - 0s - loss: 0.0046\n",
      "Epoch 1/1\n",
      " - 0s - loss: 0.0045\n",
      "Epoch 1/1\n",
      " - 0s - loss: 0.0045\n",
      "Epoch 1/1\n",
      " - 0s - loss: 0.0044\n",
      "Epoch 1/1\n",
      " - 0s - loss: 0.0044\n",
      "Epoch 1/1\n",
      " - 0s - loss: 0.0043\n",
      "Epoch 1/1\n",
      " - 0s - loss: 0.0043\n",
      "Epoch 1/1\n",
      " - 0s - loss: 0.0042\n",
      "Epoch 1/1\n",
      " - 0s - loss: 0.0041\n",
      "Epoch 1/1\n",
      " - 0s - loss: 0.0041\n",
      "Epoch 1/1\n",
      " - 0s - loss: 0.0040\n",
      "Epoch 1/1\n",
      " - 0s - loss: 0.0039\n",
      "Epoch 1/1\n",
      " - 0s - loss: 0.0038\n",
      "Epoch 1/1\n",
      " - 0s - loss: 0.0037\n",
      "Epoch 1/1\n",
      " - 0s - loss: 0.0036\n",
      "Epoch 1/1\n",
      " - 0s - loss: 0.0035\n",
      "Epoch 1/1\n",
      " - 0s - loss: 0.0034\n",
      "Epoch 1/1\n",
      " - 0s - loss: 0.0033\n",
      "Epoch 1/1\n",
      " - 0s - loss: 0.0032\n",
      "Epoch 1/1\n",
      " - 0s - loss: 0.0030\n",
      "Epoch 1/1\n",
      " - 0s - loss: 0.0029\n",
      "Epoch 1/1\n",
      " - 0s - loss: 0.0027\n",
      "Epoch 1/1\n",
      " - 0s - loss: 0.0026\n",
      "Epoch 1/1\n",
      " - 0s - loss: 0.0025\n",
      "Epoch 1/1\n",
      " - 0s - loss: 0.0024\n",
      "Epoch 1/1\n",
      " - 0s - loss: 0.0023\n",
      "Epoch 1/1\n",
      " - 0s - loss: 0.0022\n",
      "Epoch 1/1\n",
      " - 0s - loss: 0.0021\n",
      "Epoch 1/1\n",
      " - 0s - loss: 0.0020\n",
      "Epoch 1/1\n",
      " - 0s - loss: 0.0020\n",
      "Epoch 1/1\n",
      " - 0s - loss: 0.0019\n",
      "Epoch 1/1\n",
      " - 0s - loss: 0.0019\n",
      "Epoch 1/1\n",
      " - 0s - loss: 0.0019\n",
      "Epoch 1/1\n",
      " - 0s - loss: 0.0018\n",
      "Epoch 1/1\n",
      " - 0s - loss: 0.0018\n",
      "Epoch 1/1\n",
      " - 0s - loss: 0.0018\n",
      "Epoch 1/1\n",
      " - 0s - loss: 0.0018\n",
      "Epoch 1/1\n",
      " - 0s - loss: 0.0018\n",
      "Epoch 1/1\n",
      " - 0s - loss: 0.0017\n",
      "Epoch 1/1\n",
      " - 0s - loss: 0.0017\n",
      "Epoch 1/1\n",
      " - 0s - loss: 0.0017\n",
      "Epoch 1/1\n",
      " - 0s - loss: 0.0017\n",
      "Epoch 1/1\n",
      " - 0s - loss: 0.0017\n",
      "Epoch 1/1\n",
      " - 0s - loss: 0.0017\n",
      "Epoch 1/1\n",
      " - 0s - loss: 0.0017\n",
      "Epoch 1/1\n",
      " - 0s - loss: 0.0017\n",
      "Epoch 1/1\n",
      " - 0s - loss: 0.0016\n",
      "Epoch 1/1\n",
      " - 0s - loss: 0.0016\n",
      "Epoch 1/1\n",
      " - 0s - loss: 0.0016\n"
     ]
    }
   ],
   "source": [
    "for i in range(100):\n",
    "    model.fit(trainX, trainY, epochs=1, batch_size=batch_size, verbose=2, shuffle=False)\n",
    "    model.reset_states()"
   ]
  },
  {
   "cell_type": "code",
   "execution_count": null,
   "metadata": {},
   "outputs": [],
   "source": []
  },
  {
   "cell_type": "markdown",
   "metadata": {},
   "source": [
    "##### prediction"
   ]
  },
  {
   "cell_type": "code",
   "execution_count": 85,
   "metadata": {},
   "outputs": [],
   "source": [
    "# make predictions\n",
    "trainPredict = model.predict(trainX, batch_size=batch_size)\n",
    "model.reset_states()\n",
    "testPredict = model.predict(testX, batch_size=batch_size)"
   ]
  },
  {
   "cell_type": "code",
   "execution_count": null,
   "metadata": {},
   "outputs": [],
   "source": []
  },
  {
   "cell_type": "markdown",
   "metadata": {},
   "source": [
    "##### invert prediction"
   ]
  },
  {
   "cell_type": "code",
   "execution_count": 86,
   "metadata": {},
   "outputs": [],
   "source": [
    "# invert predictions\n",
    "trainPredict = scaler.inverse_transform(trainPredict)\n",
    "trainY = scaler.inverse_transform([trainY])\n",
    "testPredict = scaler.inverse_transform(testPredict)\n",
    "testY = scaler.inverse_transform([testY])"
   ]
  },
  {
   "cell_type": "code",
   "execution_count": null,
   "metadata": {},
   "outputs": [],
   "source": []
  },
  {
   "cell_type": "markdown",
   "metadata": {},
   "source": [
    "##### RMSE"
   ]
  },
  {
   "cell_type": "code",
   "execution_count": 87,
   "metadata": {},
   "outputs": [
    {
     "name": "stdout",
     "output_type": "stream",
     "text": [
      "Train Score: 20.56 RMSE\n",
      "Test Score: 64.92 RMSE\n"
     ]
    }
   ],
   "source": [
    "trainScore = math.sqrt(mean_squared_error(trainY[0], trainPredict[:,0]))\n",
    "print('Train Score: %.2f RMSE' % (trainScore))\n",
    "testScore = math.sqrt(mean_squared_error(testY[0], testPredict[:,0]))\n",
    "print('Test Score: %.2f RMSE' % (testScore))"
   ]
  },
  {
   "cell_type": "code",
   "execution_count": null,
   "metadata": {},
   "outputs": [],
   "source": []
  },
  {
   "cell_type": "markdown",
   "metadata": {},
   "source": [
    "##### Visualize"
   ]
  },
  {
   "cell_type": "code",
   "execution_count": 88,
   "metadata": {},
   "outputs": [],
   "source": [
    "# shift train predictions for plotting\n",
    "trainPredictPlot = np.empty_like(dataset)\n",
    "trainPredictPlot[:, :] = np.nan\n",
    "trainPredictPlot[look_back:len(trainPredict)+look_back, :] = trainPredict\n",
    "# shift test predictions for plotting\n",
    "testPredictPlot = np.empty_like(dataset)\n",
    "testPredictPlot[:, :] = np.nan\n",
    "testPredictPlot[len(trainPredict)+(look_back*2)+1:len(dataset)-1, :] = testPredict"
   ]
  },
  {
   "cell_type": "code",
   "execution_count": 89,
   "metadata": {},
   "outputs": [
    {
     "data": {
      "image/png": "[encoded data removed]",
      "text/plain": [
       "<Figure size 432x288 with 1 Axes>"
      ]
     },
     "metadata": {
      "needs_background": "light"
     },
     "output_type": "display_data"
    }
   ],
   "source": [
    "# plot baseline and predictions\n",
    "plt.plot(scaler.inverse_transform(dataset))\n",
    "plt.plot(trainPredictPlot)\n",
    "plt.plot(testPredictPlot)\n",
    "plt.show()"
   ]
  },
  {
   "cell_type": "code",
   "execution_count": null,
   "metadata": {},
   "outputs": [],
   "source": []
  }
 ],
 "metadata": {
  "kernelspec": {
   "display_name": "Python 3",
   "language": "python",
   "name": "python3"
  },
  "language_info": {
   "codemirror_mode": {
    "name": "ipython",
    "version": 3
   },
   "file_extension": ".py",
   "mimetype": "text/x-python",
   "name": "python",
   "nbconvert_exporter": "python",
   "pygments_lexer": "ipython3",
   "version": "3.7.4"
  }
 },
 "nbformat": 4,
 "nbformat_minor": 2
}
