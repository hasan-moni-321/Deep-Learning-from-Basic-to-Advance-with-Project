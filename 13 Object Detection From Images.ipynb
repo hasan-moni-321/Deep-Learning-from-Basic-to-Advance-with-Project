{
 "cells": [
  {
   "cell_type": "markdown",
   "metadata": {},
   "source": [
    "# Photograph Object Recognition Dataset"
   ]
  },
  {
   "cell_type": "code",
   "execution_count": null,
   "metadata": {},
   "outputs": [],
   "source": []
  },
  {
   "cell_type": "markdown",
   "metadata": {},
   "source": [
    "# Simple CNN for CIFAR-10"
   ]
  },
  {
   "cell_type": "code",
   "execution_count": 8,
   "metadata": {},
   "outputs": [],
   "source": [
    "import numpy\n",
    "from keras.datasets import cifar10\n",
    "from keras.models import Sequential\n",
    "from keras.layers import Dense\n",
    "from keras.layers import Dropout\n",
    "from keras.layers import Flatten\n",
    "from keras.constraints import maxnorm\n",
    "from keras.optimizers import SGD\n",
    "from keras.layers.convolutional import Conv2D\n",
    "from keras.layers.convolutional import MaxPooling2D\n",
    "from keras.utils import np_utils\n",
    "from keras import backend as K\n"
   ]
  },
  {
   "cell_type": "code",
   "execution_count": 9,
   "metadata": {},
   "outputs": [],
   "source": [
    "seed = 7\n",
    "numpy.random.seed(seed)\n"
   ]
  },
  {
   "cell_type": "code",
   "execution_count": null,
   "metadata": {},
   "outputs": [],
   "source": []
  },
  {
   "cell_type": "markdown",
   "metadata": {},
   "source": [
    "##### Loading Dataset"
   ]
  },
  {
   "cell_type": "code",
   "execution_count": 10,
   "metadata": {},
   "outputs": [],
   "source": [
    "# load data\n",
    "(X_train, y_train), (X_test, y_test) = cifar10.load_data()\n"
   ]
  },
  {
   "cell_type": "code",
   "execution_count": null,
   "metadata": {},
   "outputs": [],
   "source": []
  },
  {
   "cell_type": "markdown",
   "metadata": {},
   "source": [
    "##### Type Change"
   ]
  },
  {
   "cell_type": "code",
   "execution_count": 11,
   "metadata": {},
   "outputs": [],
   "source": [
    "# normalize inputs from 0-255 to 0.0-1.0\n",
    "X_train = X_train.astype('float32')\n",
    "X_test = X_test.astype('float32')\n"
   ]
  },
  {
   "cell_type": "code",
   "execution_count": null,
   "metadata": {},
   "outputs": [],
   "source": []
  },
  {
   "cell_type": "markdown",
   "metadata": {},
   "source": [
    "##### normalizing data"
   ]
  },
  {
   "cell_type": "code",
   "execution_count": 12,
   "metadata": {},
   "outputs": [],
   "source": [
    "X_train = X_train / 255.0\n",
    "X_test = X_test / 255.0\n"
   ]
  },
  {
   "cell_type": "code",
   "execution_count": null,
   "metadata": {},
   "outputs": [],
   "source": []
  },
  {
   "cell_type": "markdown",
   "metadata": {},
   "source": [
    "##### one-hot-encoding"
   ]
  },
  {
   "cell_type": "code",
   "execution_count": 13,
   "metadata": {},
   "outputs": [],
   "source": [
    "# one hot encode outputs\n",
    "y_train = np_utils.to_categorical(y_train)\n",
    "y_test = np_utils.to_categorical(y_test)\n",
    "num_classes = y_test.shape[1]\n"
   ]
  },
  {
   "cell_type": "code",
   "execution_count": null,
   "metadata": {},
   "outputs": [],
   "source": []
  },
  {
   "cell_type": "markdown",
   "metadata": {},
   "source": [
    "##### Model"
   ]
  },
  {
   "cell_type": "code",
   "execution_count": 14,
   "metadata": {},
   "outputs": [],
   "source": [
    "# Create the model\n",
    "model = Sequential()\n",
    "model.add(Conv2D(32, (3, 3), input_shape=(32, 32, 3), activation='relu'))\n",
    "model.add(Dropout(0.2))\n",
    "model.add(Conv2D(32, (3, 3), activation='relu'))\n",
    "model.add(MaxPooling2D(pool_size=(2, 2)))\n",
    "model.add(Flatten())\n",
    "model.add(Dense(512, activation='relu'))\n",
    "model.add(Dropout(0.5))\n",
    "model.add(Dense(num_classes, activation='softmax'))\n"
   ]
  },
  {
   "cell_type": "code",
   "execution_count": 15,
   "metadata": {},
   "outputs": [
    {
     "name": "stdout",
     "output_type": "stream",
     "text": [
      "Model: \"sequential_1\"\n",
      "_________________________________________________________________\n",
      "Layer (type)                 Output Shape              Param #   \n",
      "=================================================================\n",
      "conv2d_1 (Conv2D)            (None, 30, 30, 32)        896       \n",
      "_________________________________________________________________\n",
      "dropout_1 (Dropout)          (None, 30, 30, 32)        0         \n",
      "_________________________________________________________________\n",
      "conv2d_2 (Conv2D)            (None, 28, 28, 32)        9248      \n",
      "_________________________________________________________________\n",
      "max_pooling2d_1 (MaxPooling2 (None, 14, 14, 32)        0         \n",
      "_________________________________________________________________\n",
      "flatten_1 (Flatten)          (None, 6272)              0         \n",
      "_________________________________________________________________\n",
      "dense_1 (Dense)              (None, 512)               3211776   \n",
      "_________________________________________________________________\n",
      "dropout_2 (Dropout)          (None, 512)               0         \n",
      "_________________________________________________________________\n",
      "dense_2 (Dense)              (None, 10)                5130      \n",
      "=================================================================\n",
      "Total params: 3,227,050\n",
      "Trainable params: 3,227,050\n",
      "Non-trainable params: 0\n",
      "_________________________________________________________________\n"
     ]
    }
   ],
   "source": [
    "#summary of the model\n",
    "model.summary()\n"
   ]
  },
  {
   "cell_type": "code",
   "execution_count": 16,
   "metadata": {},
   "outputs": [],
   "source": [
    "# Compile model\n",
    "epochs=25\n",
    "lrate = 0.01\n",
    "decay = lrate/epochs\n",
    "sgd = SGD(lr=lrate, momentum=0.9, decay=decay, nesterov=False)\n",
    "\n",
    "model.compile(loss='categorical_crossentropy', \n",
    "              optimizer=sgd, \n",
    "              metrics=['accuracy'])\n"
   ]
  },
  {
   "cell_type": "code",
   "execution_count": null,
   "metadata": {},
   "outputs": [],
   "source": []
  },
  {
   "cell_type": "markdown",
   "metadata": {},
   "source": [
    "##### Fit Model"
   ]
  },
  {
   "cell_type": "code",
   "execution_count": 17,
   "metadata": {},
   "outputs": [
    {
     "name": "stdout",
     "output_type": "stream",
     "text": [
      "Train on 50000 samples, validate on 10000 samples\n",
      "Epoch 1/25\n",
      " - 117s - loss: 1.7083 - accuracy: 0.3818 - val_loss: 1.3871 - val_accuracy: 0.5042\n",
      "Epoch 2/25\n",
      " - 113s - loss: 1.3533 - accuracy: 0.5161 - val_loss: 1.2086 - val_accuracy: 0.5730\n",
      "Epoch 3/25\n",
      " - 110s - loss: 1.1740 - accuracy: 0.5846 - val_loss: 1.0906 - val_accuracy: 0.6154\n",
      "Epoch 4/25\n",
      " - 110s - loss: 1.0452 - accuracy: 0.6302 - val_loss: 1.0356 - val_accuracy: 0.6375\n",
      "Epoch 5/25\n",
      " - 111s - loss: 0.9474 - accuracy: 0.6630 - val_loss: 0.9760 - val_accuracy: 0.6560\n",
      "Epoch 6/25\n",
      " - 114s - loss: 0.8589 - accuracy: 0.6972 - val_loss: 0.9447 - val_accuracy: 0.6688\n",
      "Epoch 7/25\n",
      " - 117s - loss: 0.7879 - accuracy: 0.7181 - val_loss: 0.9317 - val_accuracy: 0.6760\n",
      "Epoch 8/25\n",
      " - 112s - loss: 0.7273 - accuracy: 0.7439 - val_loss: 0.9115 - val_accuracy: 0.6864\n",
      "Epoch 9/25\n",
      " - 112s - loss: 0.6669 - accuracy: 0.7642 - val_loss: 0.9203 - val_accuracy: 0.6848\n",
      "Epoch 10/25\n",
      " - 120s - loss: 0.6180 - accuracy: 0.7808 - val_loss: 0.9074 - val_accuracy: 0.6898\n",
      "Epoch 11/25\n",
      " - 115s - loss: 0.5763 - accuracy: 0.7981 - val_loss: 0.9070 - val_accuracy: 0.6939\n",
      "Epoch 12/25\n",
      " - 112s - loss: 0.5314 - accuracy: 0.8131 - val_loss: 0.9117 - val_accuracy: 0.6966\n",
      "Epoch 13/25\n",
      " - 113s - loss: 0.5003 - accuracy: 0.8240 - val_loss: 0.9251 - val_accuracy: 0.6951\n",
      "Epoch 14/25\n",
      " - 113s - loss: 0.4645 - accuracy: 0.8340 - val_loss: 0.9213 - val_accuracy: 0.7011\n",
      "Epoch 15/25\n",
      " - 116s - loss: 0.4341 - accuracy: 0.8466 - val_loss: 0.9273 - val_accuracy: 0.7050\n",
      "Epoch 16/25\n",
      " - 118s - loss: 0.4038 - accuracy: 0.8574 - val_loss: 0.9462 - val_accuracy: 0.7012\n",
      "Epoch 17/25\n",
      " - 114s - loss: 0.3865 - accuracy: 0.8626 - val_loss: 0.9577 - val_accuracy: 0.7002\n",
      "Epoch 18/25\n",
      " - 116s - loss: 0.3589 - accuracy: 0.8715 - val_loss: 0.9653 - val_accuracy: 0.7033\n",
      "Epoch 19/25\n",
      " - 115s - loss: 0.3435 - accuracy: 0.8800 - val_loss: 0.9874 - val_accuracy: 0.7030\n",
      "Epoch 20/25\n",
      " - 118s - loss: 0.3213 - accuracy: 0.8877 - val_loss: 0.9912 - val_accuracy: 0.7052\n",
      "Epoch 21/25\n",
      " - 115s - loss: 0.3045 - accuracy: 0.8936 - val_loss: 0.9992 - val_accuracy: 0.7050\n",
      "Epoch 22/25\n",
      " - 112s - loss: 0.2893 - accuracy: 0.8992 - val_loss: 1.0187 - val_accuracy: 0.7044\n",
      "Epoch 23/25\n",
      " - 117s - loss: 0.2754 - accuracy: 0.9038 - val_loss: 1.0468 - val_accuracy: 0.7001\n",
      "Epoch 24/25\n",
      " - 111s - loss: 0.2664 - accuracy: 0.9069 - val_loss: 1.0387 - val_accuracy: 0.7003\n",
      "Epoch 25/25\n",
      " - 110s - loss: 0.2540 - accuracy: 0.9116 - val_loss: 1.0524 - val_accuracy: 0.7026\n"
     ]
    },
    {
     "data": {
      "text/plain": [
       "<keras.callbacks.callbacks.History at 0x7f32e00f7dd0>"
      ]
     },
     "execution_count": 17,
     "metadata": {},
     "output_type": "execute_result"
    }
   ],
   "source": [
    "# Fit the model\n",
    "model.fit(X_train, y_train, validation_data=(X_test, y_test), epochs=epochs, batch_size=32, verbose=2)\n"
   ]
  },
  {
   "cell_type": "code",
   "execution_count": null,
   "metadata": {},
   "outputs": [],
   "source": []
  },
  {
   "cell_type": "markdown",
   "metadata": {},
   "source": [
    "##### Evaluate Model"
   ]
  },
  {
   "cell_type": "code",
   "execution_count": 18,
   "metadata": {},
   "outputs": [
    {
     "name": "stdout",
     "output_type": "stream",
     "text": [
      "Accuracy: 70.26%\n"
     ]
    }
   ],
   "source": [
    "# Final evaluation of the model\n",
    "scores = model.evaluate(X_test, y_test, verbose=0)\n",
    "print(\"Accuracy: %.2f%%\" % (scores[1]*100))\n"
   ]
  },
  {
   "cell_type": "code",
   "execution_count": null,
   "metadata": {},
   "outputs": [],
   "source": []
  },
  {
   "cell_type": "code",
   "execution_count": null,
   "metadata": {},
   "outputs": [],
   "source": []
  },
  {
   "cell_type": "code",
   "execution_count": null,
   "metadata": {},
   "outputs": [],
   "source": []
  },
  {
   "cell_type": "markdown",
   "metadata": {},
   "source": [
    "# Larger CNN for CIFAR-10"
   ]
  },
  {
   "cell_type": "code",
   "execution_count": 43,
   "metadata": {},
   "outputs": [],
   "source": [
    "import numpy\n",
    "from keras.datasets import cifar10\n",
    "from keras.models import Sequential\n",
    "from keras.layers import Dense\n",
    "from keras.layers import Dropout\n",
    "from keras.layers import Flatten\n",
    "from keras.constraints import maxnorm\n",
    "from keras.optimizers import SGD\n",
    "from keras.layers.convolutional import Convolution2D\n",
    "from keras.layers.convolutional import MaxPooling2D\n",
    "from keras.utils import np_utils\n",
    "from keras import backend as K\n"
   ]
  },
  {
   "cell_type": "code",
   "execution_count": 44,
   "metadata": {},
   "outputs": [],
   "source": [
    "# fix random seed for reproducibility\n",
    "seed = 7\n",
    "numpy.random.seed(seed)\n"
   ]
  },
  {
   "cell_type": "code",
   "execution_count": null,
   "metadata": {},
   "outputs": [],
   "source": []
  },
  {
   "cell_type": "markdown",
   "metadata": {},
   "source": [
    "##### load data"
   ]
  },
  {
   "cell_type": "code",
   "execution_count": 45,
   "metadata": {},
   "outputs": [],
   "source": [
    "(X_train, y_train), (X_test, y_test) = cifar10.load_data()\n"
   ]
  },
  {
   "cell_type": "code",
   "execution_count": null,
   "metadata": {},
   "outputs": [],
   "source": []
  },
  {
   "cell_type": "markdown",
   "metadata": {},
   "source": [
    "##### Type Convert"
   ]
  },
  {
   "cell_type": "code",
   "execution_count": 46,
   "metadata": {},
   "outputs": [],
   "source": [
    "X_train = X_train.astype('float32')\n",
    "X_test = X_test.astype('float32')"
   ]
  },
  {
   "cell_type": "code",
   "execution_count": null,
   "metadata": {},
   "outputs": [],
   "source": []
  },
  {
   "cell_type": "markdown",
   "metadata": {},
   "source": [
    "##### Normalize Data"
   ]
  },
  {
   "cell_type": "code",
   "execution_count": 47,
   "metadata": {},
   "outputs": [],
   "source": [
    "X_train = X_train / 255.0\n",
    "X_test = X_test / 255.0"
   ]
  },
  {
   "cell_type": "code",
   "execution_count": null,
   "metadata": {},
   "outputs": [],
   "source": []
  },
  {
   "cell_type": "markdown",
   "metadata": {},
   "source": [
    "##### one-hot-encoding"
   ]
  },
  {
   "cell_type": "code",
   "execution_count": 48,
   "metadata": {},
   "outputs": [],
   "source": [
    "# one hot encode outputs\n",
    "y_train = np_utils.to_categorical(y_train)\n",
    "y_test = np_utils.to_categorical(y_test)\n",
    "num_classes = y_test.shape[1]"
   ]
  },
  {
   "cell_type": "code",
   "execution_count": null,
   "metadata": {},
   "outputs": [],
   "source": []
  },
  {
   "cell_type": "markdown",
   "metadata": {},
   "source": [
    "##### Model"
   ]
  },
  {
   "cell_type": "code",
   "execution_count": 49,
   "metadata": {},
   "outputs": [],
   "source": [
    "# Create the model\n",
    "model = Sequential()\n",
    "model.add(Conv2D(32, (3, 3), input_shape=(32, 32, 3), activation='relu'))\n",
    "model.add(Dropout(0.2))\n",
    "\n",
    "model.add(Conv2D(32, (3, 3), activation='relu',))\n",
    "model.add(MaxPooling2D(pool_size=(2, 2)))\n",
    "\n",
    "model.add(Conv2D(64, (3, 3), activation='relu'))\n",
    "model.add(Dropout(0.2))\n",
    "\n",
    "model.add(Conv2D(64, (3, 3), activation='relu'))\n",
    "model.add(MaxPooling2D(pool_size=(2, 2)))\n",
    "model.add(Conv2D(128, (3, 3), activation='relu'))\n",
    "model.add(Dropout(0.2))\n",
    "\n",
    "#model.add(Conv2D(128, (3, 3), activation='relu'))\n",
    "#model.add(MaxPooling2D(pool_size=(2, 2)))\n",
    "model.add(Flatten())\n",
    "model.add(Dropout(0.2))\n",
    "model.add(Dense(1024, activation='relu'))\n",
    "model.add(Dropout(0.2))\n",
    "model.add(Dense(512, activation='relu'))\n",
    "model.add(Dropout(0.2))\n",
    "model.add(Dense(num_classes, activation='softmax'))\n"
   ]
  },
  {
   "cell_type": "code",
   "execution_count": 50,
   "metadata": {},
   "outputs": [
    {
     "name": "stdout",
     "output_type": "stream",
     "text": [
      "Model: \"sequential_8\"\n",
      "_________________________________________________________________\n",
      "Layer (type)                 Output Shape              Param #   \n",
      "=================================================================\n",
      "conv2d_34 (Conv2D)           (None, 30, 30, 32)        896       \n",
      "_________________________________________________________________\n",
      "dropout_22 (Dropout)         (None, 30, 30, 32)        0         \n",
      "_________________________________________________________________\n",
      "conv2d_35 (Conv2D)           (None, 28, 28, 32)        9248      \n",
      "_________________________________________________________________\n",
      "max_pooling2d_16 (MaxPooling (None, 14, 14, 32)        0         \n",
      "_________________________________________________________________\n",
      "conv2d_36 (Conv2D)           (None, 12, 12, 64)        18496     \n",
      "_________________________________________________________________\n",
      "dropout_23 (Dropout)         (None, 12, 12, 64)        0         \n",
      "_________________________________________________________________\n",
      "conv2d_37 (Conv2D)           (None, 10, 10, 64)        36928     \n",
      "_________________________________________________________________\n",
      "max_pooling2d_17 (MaxPooling (None, 5, 5, 64)          0         \n",
      "_________________________________________________________________\n",
      "conv2d_38 (Conv2D)           (None, 3, 3, 128)         73856     \n",
      "_________________________________________________________________\n",
      "dropout_24 (Dropout)         (None, 3, 3, 128)         0         \n",
      "_________________________________________________________________\n",
      "flatten_3 (Flatten)          (None, 1152)              0         \n",
      "_________________________________________________________________\n",
      "dropout_25 (Dropout)         (None, 1152)              0         \n",
      "_________________________________________________________________\n",
      "dense_6 (Dense)              (None, 1024)              1180672   \n",
      "_________________________________________________________________\n",
      "dropout_26 (Dropout)         (None, 1024)              0         \n",
      "_________________________________________________________________\n",
      "dense_7 (Dense)              (None, 512)               524800    \n",
      "_________________________________________________________________\n",
      "dropout_27 (Dropout)         (None, 512)               0         \n",
      "_________________________________________________________________\n",
      "dense_8 (Dense)              (None, 10)                5130      \n",
      "=================================================================\n",
      "Total params: 1,850,026\n",
      "Trainable params: 1,850,026\n",
      "Non-trainable params: 0\n",
      "_________________________________________________________________\n"
     ]
    }
   ],
   "source": [
    "#summary of the model\n",
    "model.summary()\n"
   ]
  },
  {
   "cell_type": "code",
   "execution_count": 51,
   "metadata": {},
   "outputs": [],
   "source": [
    "# Compile model\n",
    "epochs = 25\n",
    "lrate = 0.01\n",
    "decay = lrate/epochs\n",
    "sgd = SGD(lr=lrate, momentum=0.9, decay=decay, nesterov=False)\n",
    "\n",
    "model.compile(loss='categorical_crossentropy', \n",
    "              optimizer=sgd, \n",
    "              metrics=['accuracy'])\n"
   ]
  },
  {
   "cell_type": "code",
   "execution_count": null,
   "metadata": {},
   "outputs": [],
   "source": []
  },
  {
   "cell_type": "markdown",
   "metadata": {},
   "source": [
    "##### Fit Model"
   ]
  },
  {
   "cell_type": "code",
   "execution_count": 52,
   "metadata": {},
   "outputs": [
    {
     "name": "stderr",
     "output_type": "stream",
     "text": [
      "/home/hasan/anaconda3/lib/python3.7/site-packages/ipykernel_launcher.py:3: UserWarning: The `nb_epoch` argument in `fit` has been renamed `epochs`.\n",
      "  This is separate from the ipykernel package so we can avoid doing imports until\n"
     ]
    },
    {
     "name": "stdout",
     "output_type": "stream",
     "text": [
      "Train on 50000 samples, validate on 10000 samples\n",
      "Epoch 1/25\n",
      "50000/50000 [==============================] - 141s 3ms/step - loss: 1.9490 - accuracy: 0.2789 - val_loss: 1.7840 - val_accuracy: 0.3538\n",
      "Epoch 2/25\n",
      "50000/50000 [==============================] - 150s 3ms/step - loss: 1.5855 - accuracy: 0.4140 - val_loss: 1.4093 - val_accuracy: 0.4864\n",
      "Epoch 3/25\n",
      "50000/50000 [==============================] - 132s 3ms/step - loss: 1.4093 - accuracy: 0.4865 - val_loss: 1.2991 - val_accuracy: 0.5336\n",
      "Epoch 4/25\n",
      "50000/50000 [==============================] - 133s 3ms/step - loss: 1.2823 - accuracy: 0.5363 - val_loss: 1.2451 - val_accuracy: 0.5454\n",
      "Epoch 5/25\n",
      "50000/50000 [==============================] - 132s 3ms/step - loss: 1.1886 - accuracy: 0.5757 - val_loss: 1.1155 - val_accuracy: 0.6043\n",
      "Epoch 6/25\n",
      "50000/50000 [==============================] - 146s 3ms/step - loss: 1.1137 - accuracy: 0.6024 - val_loss: 1.0443 - val_accuracy: 0.6325\n",
      "Epoch 7/25\n",
      "50000/50000 [==============================] - 144s 3ms/step - loss: 1.0521 - accuracy: 0.6266 - val_loss: 0.9921 - val_accuracy: 0.6523\n",
      "Epoch 8/25\n",
      "50000/50000 [==============================] - 145s 3ms/step - loss: 0.9980 - accuracy: 0.6453 - val_loss: 0.9491 - val_accuracy: 0.6637\n",
      "Epoch 9/25\n",
      "50000/50000 [==============================] - 146s 3ms/step - loss: 0.9512 - accuracy: 0.6611 - val_loss: 0.9136 - val_accuracy: 0.6801\n",
      "Epoch 10/25\n",
      "50000/50000 [==============================] - 145s 3ms/step - loss: 0.9089 - accuracy: 0.6777 - val_loss: 0.8670 - val_accuracy: 0.7019\n",
      "Epoch 11/25\n",
      "50000/50000 [==============================] - 137s 3ms/step - loss: 0.8743 - accuracy: 0.6910 - val_loss: 0.8586 - val_accuracy: 0.6964\n",
      "Epoch 12/25\n",
      "50000/50000 [==============================] - 137s 3ms/step - loss: 0.8497 - accuracy: 0.6995 - val_loss: 0.8495 - val_accuracy: 0.7043\n",
      "Epoch 13/25\n",
      "50000/50000 [==============================] - 136s 3ms/step - loss: 0.8156 - accuracy: 0.7100 - val_loss: 0.8228 - val_accuracy: 0.7161\n",
      "Epoch 14/25\n",
      "50000/50000 [==============================] - 134s 3ms/step - loss: 0.7927 - accuracy: 0.7206 - val_loss: 0.7971 - val_accuracy: 0.7239\n",
      "Epoch 15/25\n",
      "50000/50000 [==============================] - 134s 3ms/step - loss: 0.7661 - accuracy: 0.7297 - val_loss: 0.7714 - val_accuracy: 0.7320\n",
      "Epoch 16/25\n",
      "50000/50000 [==============================] - 135s 3ms/step - loss: 0.7483 - accuracy: 0.7383 - val_loss: 0.7554 - val_accuracy: 0.7387\n",
      "Epoch 17/25\n",
      "50000/50000 [==============================] - 134s 3ms/step - loss: 0.7295 - accuracy: 0.7415 - val_loss: 0.7538 - val_accuracy: 0.7347\n",
      "Epoch 18/25\n",
      "50000/50000 [==============================] - 134s 3ms/step - loss: 0.7102 - accuracy: 0.7509 - val_loss: 0.7581 - val_accuracy: 0.7364\n",
      "Epoch 19/25\n",
      "50000/50000 [==============================] - 134s 3ms/step - loss: 0.6932 - accuracy: 0.7556 - val_loss: 0.7419 - val_accuracy: 0.7441\n",
      "Epoch 20/25\n",
      "50000/50000 [==============================] - 134s 3ms/step - loss: 0.6774 - accuracy: 0.7636 - val_loss: 0.7136 - val_accuracy: 0.7489\n",
      "Epoch 21/25\n",
      "50000/50000 [==============================] - 138s 3ms/step - loss: 0.6655 - accuracy: 0.7659 - val_loss: 0.7042 - val_accuracy: 0.7561\n",
      "Epoch 22/25\n",
      "50000/50000 [==============================] - 140s 3ms/step - loss: 0.6507 - accuracy: 0.7702 - val_loss: 0.7249 - val_accuracy: 0.7518\n",
      "Epoch 23/25\n",
      "50000/50000 [==============================] - 136s 3ms/step - loss: 0.6410 - accuracy: 0.7740 - val_loss: 0.7111 - val_accuracy: 0.7535\n",
      "Epoch 24/25\n",
      "50000/50000 [==============================] - 137s 3ms/step - loss: 0.6261 - accuracy: 0.7784 - val_loss: 0.7083 - val_accuracy: 0.7577\n",
      "Epoch 25/25\n",
      "50000/50000 [==============================] - 135s 3ms/step - loss: 0.6198 - accuracy: 0.7800 - val_loss: 0.6856 - val_accuracy: 0.7617\n"
     ]
    },
    {
     "data": {
      "text/plain": [
       "<keras.callbacks.callbacks.History at 0x7f329b5e4f10>"
      ]
     },
     "execution_count": 52,
     "metadata": {},
     "output_type": "execute_result"
    }
   ],
   "source": [
    "# Fit the model\n",
    "model.fit(X_train, y_train, validation_data=(X_test, y_test), nb_epoch=epochs, batch_size=64)"
   ]
  },
  {
   "cell_type": "code",
   "execution_count": null,
   "metadata": {},
   "outputs": [],
   "source": []
  },
  {
   "cell_type": "markdown",
   "metadata": {},
   "source": [
    "##### Evaluate Model"
   ]
  },
  {
   "cell_type": "code",
   "execution_count": 53,
   "metadata": {},
   "outputs": [
    {
     "name": "stdout",
     "output_type": "stream",
     "text": [
      "Accuracy: 76.17%\n"
     ]
    }
   ],
   "source": [
    "# Final evaluation of the model\n",
    "scores = model.evaluate(X_test, y_test, verbose=0)\n",
    "print(\"Accuracy: %.2f%%\" % (scores[1]*100))"
   ]
  },
  {
   "cell_type": "code",
   "execution_count": null,
   "metadata": {},
   "outputs": [],
   "source": []
  }
 ],
 "metadata": {
  "kernelspec": {
   "display_name": "Python 3",
   "language": "python",
   "name": "python3"
  },
  "language_info": {
   "codemirror_mode": {
    "name": "ipython",
    "version": 3
   },
   "file_extension": ".py",
   "mimetype": "text/x-python",
   "name": "python",
   "nbconvert_exporter": "python",
   "pygments_lexer": "ipython3",
   "version": "3.7.4"
  }
 },
 "nbformat": 4,
 "nbformat_minor": 2
}
