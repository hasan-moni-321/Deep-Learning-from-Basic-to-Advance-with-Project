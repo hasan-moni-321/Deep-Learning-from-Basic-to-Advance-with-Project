{
 "cells": [
  {
   "cell_type": "markdown",
   "metadata": {},
   "source": [
    "# Time-Based Learning Rate Schedule"
   ]
  },
  {
   "cell_type": "code",
   "execution_count": 26,
   "metadata": {},
   "outputs": [],
   "source": [
    "from pandas import read_csv\n",
    "import numpy\n",
    "from keras.models import Sequential\n",
    "from keras.layers import Dense\n",
    "from keras.optimizers import SGD\n",
    "from sklearn.preprocessing import LabelEncoder\n"
   ]
  },
  {
   "cell_type": "code",
   "execution_count": 27,
   "metadata": {},
   "outputs": [],
   "source": [
    "seed = 7\n",
    "numpy.random.seed(seed)"
   ]
  },
  {
   "cell_type": "code",
   "execution_count": null,
   "metadata": {},
   "outputs": [],
   "source": []
  },
  {
   "cell_type": "markdown",
   "metadata": {},
   "source": [
    "##### Reading dataset"
   ]
  },
  {
   "cell_type": "code",
   "execution_count": 28,
   "metadata": {},
   "outputs": [],
   "source": [
    "dataframe = read_csv(\"/home/hasan/DATA SET/ionosphere.data\", header=None)\n",
    "dataset = dataframe.values\n"
   ]
  },
  {
   "cell_type": "code",
   "execution_count": null,
   "metadata": {},
   "outputs": [],
   "source": []
  },
  {
   "cell_type": "markdown",
   "metadata": {},
   "source": [
    "##### Dataset Dividing"
   ]
  },
  {
   "cell_type": "code",
   "execution_count": 29,
   "metadata": {},
   "outputs": [],
   "source": [
    "X = dataset[:,0:34].astype(float)\n",
    "Y = dataset[:,34]\n"
   ]
  },
  {
   "cell_type": "code",
   "execution_count": null,
   "metadata": {},
   "outputs": [],
   "source": []
  },
  {
   "cell_type": "markdown",
   "metadata": {},
   "source": [
    "##### Encoding"
   ]
  },
  {
   "cell_type": "code",
   "execution_count": 30,
   "metadata": {},
   "outputs": [],
   "source": [
    "encoder = LabelEncoder()\n",
    "encoder.fit(Y)\n",
    "Y = encoder.transform(Y)\n"
   ]
  },
  {
   "cell_type": "code",
   "execution_count": null,
   "metadata": {},
   "outputs": [],
   "source": []
  },
  {
   "cell_type": "markdown",
   "metadata": {},
   "source": [
    "##### Model"
   ]
  },
  {
   "cell_type": "code",
   "execution_count": 31,
   "metadata": {},
   "outputs": [],
   "source": [
    "model = Sequential()\n",
    "model.add(Dense(34, input_dim=34, kernel_initializer= 'normal', activation='relu'))\n",
    "model.add(Dense(1, kernel_initializer='normal', activation='sigmoid'))\n"
   ]
  },
  {
   "cell_type": "code",
   "execution_count": 32,
   "metadata": {},
   "outputs": [
    {
     "name": "stdout",
     "output_type": "stream",
     "text": [
      "Model: \"sequential_4\"\n",
      "_________________________________________________________________\n",
      "Layer (type)                 Output Shape              Param #   \n",
      "=================================================================\n",
      "dense_5 (Dense)              (None, 34)                1190      \n",
      "_________________________________________________________________\n",
      "dense_6 (Dense)              (None, 1)                 35        \n",
      "=================================================================\n",
      "Total params: 1,225\n",
      "Trainable params: 1,225\n",
      "Non-trainable params: 0\n",
      "_________________________________________________________________\n"
     ]
    }
   ],
   "source": [
    "#summary of the model\n",
    "model.summary()\n"
   ]
  },
  {
   "cell_type": "code",
   "execution_count": 33,
   "metadata": {},
   "outputs": [],
   "source": [
    "# Compile model\n",
    "learning_rate = 0.1\n",
    "decay_rate = learning_rate / epochs\n",
    "momentum = 0.8\n",
    "\n",
    "\n",
    "sgd = SGD(lr=learning_rate, momentum=momentum, decay=decay_rate, nesterov=False)\n",
    "model.compile(loss= 'binary_crossentropy', \n",
    "              optimizer=sgd, \n",
    "              metrics=['accuracy'])\n"
   ]
  },
  {
   "cell_type": "code",
   "execution_count": null,
   "metadata": {},
   "outputs": [],
   "source": []
  },
  {
   "cell_type": "markdown",
   "metadata": {},
   "source": [
    "##### Fit Model"
   ]
  },
  {
   "cell_type": "code",
   "execution_count": 34,
   "metadata": {},
   "outputs": [
    {
     "name": "stdout",
     "output_type": "stream",
     "text": [
      "Train on 235 samples, validate on 116 samples\n",
      "Epoch 1/50\n",
      " - 0s - loss: 0.6888 - accuracy: 0.6085 - val_loss: 0.6629 - val_accuracy: 0.9138\n",
      "Epoch 2/50\n",
      " - 0s - loss: 0.6603 - accuracy: 0.7064 - val_loss: 0.5739 - val_accuracy: 0.9138\n",
      "Epoch 3/50\n",
      " - 0s - loss: 0.5932 - accuracy: 0.7957 - val_loss: 0.4936 - val_accuracy: 0.7845\n",
      "Epoch 4/50\n",
      " - 0s - loss: 0.5037 - accuracy: 0.8298 - val_loss: 0.4715 - val_accuracy: 0.9310\n",
      "Epoch 5/50\n",
      " - 0s - loss: 0.4142 - accuracy: 0.8596 - val_loss: 0.2929 - val_accuracy: 0.9483\n",
      "Epoch 6/50\n",
      " - 0s - loss: 0.3440 - accuracy: 0.8851 - val_loss: 0.4227 - val_accuracy: 0.8621\n",
      "Epoch 7/50\n",
      " - 0s - loss: 0.3008 - accuracy: 0.9021 - val_loss: 0.2355 - val_accuracy: 0.9483\n",
      "Epoch 8/50\n",
      " - 0s - loss: 0.2614 - accuracy: 0.9106 - val_loss: 0.1406 - val_accuracy: 0.9569\n",
      "Epoch 9/50\n",
      " - 0s - loss: 0.2669 - accuracy: 0.9106 - val_loss: 0.2097 - val_accuracy: 0.9483\n",
      "Epoch 10/50\n",
      " - 0s - loss: 0.2143 - accuracy: 0.9191 - val_loss: 0.2652 - val_accuracy: 0.9138\n",
      "Epoch 11/50\n",
      " - 0s - loss: 0.2036 - accuracy: 0.9191 - val_loss: 0.2015 - val_accuracy: 0.9397\n",
      "Epoch 12/50\n",
      " - 0s - loss: 0.1802 - accuracy: 0.9404 - val_loss: 0.1224 - val_accuracy: 0.9741\n",
      "Epoch 13/50\n",
      " - 0s - loss: 0.1862 - accuracy: 0.9277 - val_loss: 0.1198 - val_accuracy: 0.9741\n",
      "Epoch 14/50\n",
      " - 0s - loss: 0.1645 - accuracy: 0.9362 - val_loss: 0.1647 - val_accuracy: 0.9483\n",
      "Epoch 15/50\n",
      " - 0s - loss: 0.1482 - accuracy: 0.9532 - val_loss: 0.1084 - val_accuracy: 0.9741\n",
      "Epoch 16/50\n",
      " - 0s - loss: 0.1515 - accuracy: 0.9447 - val_loss: 0.1792 - val_accuracy: 0.9397\n",
      "Epoch 17/50\n",
      " - 0s - loss: 0.1505 - accuracy: 0.9532 - val_loss: 0.1663 - val_accuracy: 0.9397\n",
      "Epoch 18/50\n",
      " - 0s - loss: 0.1385 - accuracy: 0.9532 - val_loss: 0.1191 - val_accuracy: 0.9828\n",
      "Epoch 19/50\n",
      " - 0s - loss: 0.1276 - accuracy: 0.9574 - val_loss: 0.1023 - val_accuracy: 0.9828\n",
      "Epoch 20/50\n",
      " - 0s - loss: 0.1225 - accuracy: 0.9660 - val_loss: 0.1354 - val_accuracy: 0.9741\n",
      "Epoch 21/50\n",
      " - 0s - loss: 0.1170 - accuracy: 0.9574 - val_loss: 0.1008 - val_accuracy: 0.9828\n",
      "Epoch 22/50\n",
      " - 0s - loss: 0.1120 - accuracy: 0.9660 - val_loss: 0.1146 - val_accuracy: 0.9741\n",
      "Epoch 23/50\n",
      " - 0s - loss: 0.1119 - accuracy: 0.9617 - val_loss: 0.1025 - val_accuracy: 0.9828\n",
      "Epoch 24/50\n",
      " - 0s - loss: 0.1030 - accuracy: 0.9745 - val_loss: 0.0871 - val_accuracy: 0.9828\n",
      "Epoch 25/50\n",
      " - 0s - loss: 0.1109 - accuracy: 0.9702 - val_loss: 0.1184 - val_accuracy: 0.9741\n",
      "Epoch 26/50\n",
      " - 0s - loss: 0.0964 - accuracy: 0.9745 - val_loss: 0.0878 - val_accuracy: 0.9828\n",
      "Epoch 27/50\n",
      " - 0s - loss: 0.0986 - accuracy: 0.9787 - val_loss: 0.1013 - val_accuracy: 0.9828\n",
      "Epoch 28/50\n",
      " - 0s - loss: 0.0912 - accuracy: 0.9787 - val_loss: 0.0917 - val_accuracy: 0.9828\n",
      "Epoch 29/50\n",
      " - 0s - loss: 0.0869 - accuracy: 0.9787 - val_loss: 0.0934 - val_accuracy: 0.9828\n",
      "Epoch 30/50\n",
      " - 0s - loss: 0.0878 - accuracy: 0.9787 - val_loss: 0.0932 - val_accuracy: 0.9828\n",
      "Epoch 31/50\n",
      " - 0s - loss: 0.0853 - accuracy: 0.9787 - val_loss: 0.0909 - val_accuracy: 0.9828\n",
      "Epoch 32/50\n",
      " - 0s - loss: 0.0813 - accuracy: 0.9787 - val_loss: 0.0877 - val_accuracy: 0.9828\n",
      "Epoch 33/50\n",
      " - 0s - loss: 0.0774 - accuracy: 0.9787 - val_loss: 0.0864 - val_accuracy: 0.9828\n",
      "Epoch 34/50\n",
      " - 0s - loss: 0.0801 - accuracy: 0.9787 - val_loss: 0.0992 - val_accuracy: 0.9741\n",
      "Epoch 35/50\n",
      " - 0s - loss: 0.0761 - accuracy: 0.9787 - val_loss: 0.0783 - val_accuracy: 0.9828\n",
      "Epoch 36/50\n",
      " - 0s - loss: 0.0744 - accuracy: 0.9787 - val_loss: 0.0784 - val_accuracy: 0.9828\n",
      "Epoch 37/50\n",
      " - 0s - loss: 0.0713 - accuracy: 0.9787 - val_loss: 0.0865 - val_accuracy: 0.9828\n",
      "Epoch 38/50\n",
      " - 0s - loss: 0.0716 - accuracy: 0.9787 - val_loss: 0.0752 - val_accuracy: 0.9828\n",
      "Epoch 39/50\n",
      " - 0s - loss: 0.0736 - accuracy: 0.9787 - val_loss: 0.0837 - val_accuracy: 0.9828\n",
      "Epoch 40/50\n",
      " - 0s - loss: 0.0688 - accuracy: 0.9830 - val_loss: 0.0771 - val_accuracy: 0.9828\n",
      "Epoch 41/50\n",
      " - 0s - loss: 0.0658 - accuracy: 0.9830 - val_loss: 0.0809 - val_accuracy: 0.9828\n",
      "Epoch 42/50\n",
      " - 0s - loss: 0.0661 - accuracy: 0.9787 - val_loss: 0.0816 - val_accuracy: 0.9828\n",
      "Epoch 43/50\n",
      " - 0s - loss: 0.0647 - accuracy: 0.9830 - val_loss: 0.0759 - val_accuracy: 0.9828\n",
      "Epoch 44/50\n",
      " - 0s - loss: 0.0646 - accuracy: 0.9830 - val_loss: 0.0673 - val_accuracy: 0.9828\n",
      "Epoch 45/50\n",
      " - 0s - loss: 0.0619 - accuracy: 0.9830 - val_loss: 0.0876 - val_accuracy: 0.9741\n",
      "Epoch 46/50\n",
      " - 0s - loss: 0.0673 - accuracy: 0.9830 - val_loss: 0.0676 - val_accuracy: 0.9828\n",
      "Epoch 47/50\n",
      " - 0s - loss: 0.0655 - accuracy: 0.9872 - val_loss: 0.0636 - val_accuracy: 0.9828\n",
      "Epoch 48/50\n",
      " - 0s - loss: 0.0613 - accuracy: 0.9830 - val_loss: 0.0763 - val_accuracy: 0.9828\n",
      "Epoch 49/50\n",
      " - 0s - loss: 0.0584 - accuracy: 0.9830 - val_loss: 0.0756 - val_accuracy: 0.9828\n",
      "Epoch 50/50\n",
      " - 0s - loss: 0.0589 - accuracy: 0.9872 - val_loss: 0.0618 - val_accuracy: 0.9828\n"
     ]
    },
    {
     "data": {
      "text/plain": [
       "<keras.callbacks.callbacks.History at 0x7fbc64308410>"
      ]
     },
     "execution_count": 34,
     "metadata": {},
     "output_type": "execute_result"
    }
   ],
   "source": [
    "model.fit(X, Y, validation_split=0.33, epochs=50, batch_size=28, verbose=2)\n"
   ]
  },
  {
   "cell_type": "code",
   "execution_count": null,
   "metadata": {},
   "outputs": [],
   "source": []
  },
  {
   "cell_type": "code",
   "execution_count": null,
   "metadata": {},
   "outputs": [],
   "source": []
  },
  {
   "cell_type": "code",
   "execution_count": null,
   "metadata": {},
   "outputs": [],
   "source": []
  },
  {
   "cell_type": "markdown",
   "metadata": {},
   "source": [
    "# Drop-Based Learning Rate Schedule"
   ]
  },
  {
   "cell_type": "code",
   "execution_count": 48,
   "metadata": {},
   "outputs": [],
   "source": [
    "import pandas\n",
    "from pandas import read_csv\n",
    "import numpy\n",
    "import math\n",
    "from keras.models import Sequential\n",
    "from keras.layers import Dense\n",
    "from keras.optimizers import SGD\n",
    "from sklearn.preprocessing import LabelEncoder\n",
    "from keras.callbacks import LearningRateScheduler\n"
   ]
  },
  {
   "cell_type": "code",
   "execution_count": 49,
   "metadata": {},
   "outputs": [],
   "source": [
    "seed = 7\n",
    "numpy.random.seed(seed)"
   ]
  },
  {
   "cell_type": "code",
   "execution_count": null,
   "metadata": {},
   "outputs": [],
   "source": []
  },
  {
   "cell_type": "markdown",
   "metadata": {},
   "source": [
    "##### Reading dataset"
   ]
  },
  {
   "cell_type": "code",
   "execution_count": 50,
   "metadata": {},
   "outputs": [],
   "source": [
    "dataframe = read_csv(\"/home/hasan/DATA SET/ionosphere.data\", header=None)\n",
    "dataset = dataframe.values"
   ]
  },
  {
   "cell_type": "code",
   "execution_count": null,
   "metadata": {},
   "outputs": [],
   "source": []
  },
  {
   "cell_type": "markdown",
   "metadata": {},
   "source": [
    "##### Dividing dataset"
   ]
  },
  {
   "cell_type": "code",
   "execution_count": 51,
   "metadata": {},
   "outputs": [],
   "source": [
    "X = dataset[:,0:34].astype(float)\n",
    "Y = dataset[:,34]"
   ]
  },
  {
   "cell_type": "code",
   "execution_count": null,
   "metadata": {},
   "outputs": [],
   "source": []
  },
  {
   "cell_type": "markdown",
   "metadata": {},
   "source": [
    "##### Encoding"
   ]
  },
  {
   "cell_type": "code",
   "execution_count": 52,
   "metadata": {},
   "outputs": [],
   "source": [
    "encoder = LabelEncoder()\n",
    "encoder.fit(Y)\n",
    "Y = encoder.transform(Y)"
   ]
  },
  {
   "cell_type": "code",
   "execution_count": null,
   "metadata": {},
   "outputs": [],
   "source": []
  },
  {
   "cell_type": "markdown",
   "metadata": {},
   "source": [
    "##### Model"
   ]
  },
  {
   "cell_type": "code",
   "execution_count": 53,
   "metadata": {},
   "outputs": [],
   "source": [
    "# create model\n",
    "model = Sequential()\n",
    "model.add(Dense(34, input_dim=34, kernel_initializer='normal', activation='relu'))\n",
    "model.add(Dense(1, kernel_initializer= 'normal', activation='sigmoid'))"
   ]
  },
  {
   "cell_type": "code",
   "execution_count": 54,
   "metadata": {},
   "outputs": [
    {
     "name": "stdout",
     "output_type": "stream",
     "text": [
      "Model: \"sequential_6\"\n",
      "_________________________________________________________________\n",
      "Layer (type)                 Output Shape              Param #   \n",
      "=================================================================\n",
      "dense_9 (Dense)              (None, 34)                1190      \n",
      "_________________________________________________________________\n",
      "dense_10 (Dense)             (None, 1)                 35        \n",
      "=================================================================\n",
      "Total params: 1,225\n",
      "Trainable params: 1,225\n",
      "Non-trainable params: 0\n",
      "_________________________________________________________________\n"
     ]
    }
   ],
   "source": [
    "#model summary\n",
    "model.summary()"
   ]
  },
  {
   "cell_type": "code",
   "execution_count": 55,
   "metadata": {},
   "outputs": [],
   "source": [
    "# Compile model\n",
    "sgd = SGD(lr=0.0, momentum=0.9, decay=0.0, nesterov=False)\n",
    "model.compile(loss= 'binary_crossentropy', \n",
    "              optimizer=sgd, \n",
    "              metrics=['accuracy'])"
   ]
  },
  {
   "cell_type": "code",
   "execution_count": null,
   "metadata": {},
   "outputs": [],
   "source": []
  },
  {
   "cell_type": "markdown",
   "metadata": {},
   "source": [
    "##### Learning Rate Schedule"
   ]
  },
  {
   "cell_type": "code",
   "execution_count": 56,
   "metadata": {},
   "outputs": [],
   "source": [
    "# learning rate schedule\n",
    "def step_decay(epoch):\n",
    "    initial_lrate = 0.1\n",
    "    drop = 0.5\n",
    "    epochs_drop = 10.0\n",
    "    lrate = initial_lrate * math.pow(drop, math.floor((1+epoch)/epochs_drop))\n",
    "    return lrate"
   ]
  },
  {
   "cell_type": "code",
   "execution_count": 57,
   "metadata": {},
   "outputs": [],
   "source": [
    "# learning schedule callback\n",
    "lrate = LearningRateScheduler(step_decay)\n",
    "callbacks_list = [lrate]"
   ]
  },
  {
   "cell_type": "code",
   "execution_count": null,
   "metadata": {},
   "outputs": [],
   "source": []
  },
  {
   "cell_type": "markdown",
   "metadata": {},
   "source": [
    "##### Fit Model"
   ]
  },
  {
   "cell_type": "code",
   "execution_count": 58,
   "metadata": {},
   "outputs": [
    {
     "name": "stdout",
     "output_type": "stream",
     "text": [
      "Train on 235 samples, validate on 116 samples\n",
      "Epoch 1/50\n",
      " - 0s - loss: 0.6893 - accuracy: 0.5149 - val_loss: 0.6422 - val_accuracy: 0.9224\n",
      "Epoch 2/50\n",
      " - 0s - loss: 0.6355 - accuracy: 0.7489 - val_loss: 0.4871 - val_accuracy: 0.9397\n",
      "Epoch 3/50\n",
      " - 0s - loss: 0.5163 - accuracy: 0.8255 - val_loss: 0.3836 - val_accuracy: 0.9397\n",
      "Epoch 4/50\n",
      " - 0s - loss: 0.3704 - accuracy: 0.8596 - val_loss: 0.3569 - val_accuracy: 0.8879\n",
      "Epoch 5/50\n",
      " - 0s - loss: 0.2853 - accuracy: 0.8681 - val_loss: 0.1456 - val_accuracy: 0.9655\n",
      "Epoch 6/50\n",
      " - 0s - loss: 0.2168 - accuracy: 0.9149 - val_loss: 0.2162 - val_accuracy: 0.9310\n",
      "Epoch 7/50\n",
      " - 0s - loss: 0.1773 - accuracy: 0.9319 - val_loss: 0.1450 - val_accuracy: 0.9741\n",
      "Epoch 8/50\n",
      " - 0s - loss: 0.1579 - accuracy: 0.9319 - val_loss: 0.0994 - val_accuracy: 0.9741\n",
      "Epoch 9/50\n",
      " - 0s - loss: 0.1628 - accuracy: 0.9489 - val_loss: 0.1696 - val_accuracy: 0.9569\n",
      "Epoch 10/50\n",
      " - 0s - loss: 0.1255 - accuracy: 0.9660 - val_loss: 0.0884 - val_accuracy: 0.9828\n",
      "Epoch 11/50\n",
      " - 0s - loss: 0.1063 - accuracy: 0.9617 - val_loss: 0.1112 - val_accuracy: 0.9914\n",
      "Epoch 12/50\n",
      " - 0s - loss: 0.1006 - accuracy: 0.9660 - val_loss: 0.0772 - val_accuracy: 0.9914\n",
      "Epoch 13/50\n",
      " - 0s - loss: 0.1072 - accuracy: 0.9617 - val_loss: 0.1044 - val_accuracy: 0.9828\n",
      "Epoch 14/50\n",
      " - 0s - loss: 0.0925 - accuracy: 0.9745 - val_loss: 0.0797 - val_accuracy: 0.9914\n",
      "Epoch 15/50\n",
      " - 0s - loss: 0.0889 - accuracy: 0.9745 - val_loss: 0.0841 - val_accuracy: 0.9914\n",
      "Epoch 16/50\n",
      " - 0s - loss: 0.0877 - accuracy: 0.9787 - val_loss: 0.0817 - val_accuracy: 0.9914\n",
      "Epoch 17/50\n",
      " - 0s - loss: 0.0813 - accuracy: 0.9787 - val_loss: 0.0921 - val_accuracy: 0.9914\n",
      "Epoch 18/50\n",
      " - 0s - loss: 0.0775 - accuracy: 0.9787 - val_loss: 0.0746 - val_accuracy: 0.9914\n",
      "Epoch 19/50\n",
      " - 0s - loss: 0.0739 - accuracy: 0.9830 - val_loss: 0.0817 - val_accuracy: 0.9914\n",
      "Epoch 20/50\n",
      " - 0s - loss: 0.0698 - accuracy: 0.9830 - val_loss: 0.0641 - val_accuracy: 0.9914\n",
      "Epoch 21/50\n",
      " - 0s - loss: 0.0704 - accuracy: 0.9830 - val_loss: 0.0764 - val_accuracy: 0.9914\n",
      "Epoch 22/50\n",
      " - 0s - loss: 0.0674 - accuracy: 0.9830 - val_loss: 0.0754 - val_accuracy: 0.9914\n",
      "Epoch 23/50\n",
      " - 0s - loss: 0.0673 - accuracy: 0.9830 - val_loss: 0.0673 - val_accuracy: 0.9914\n",
      "Epoch 24/50\n",
      " - 0s - loss: 0.0649 - accuracy: 0.9830 - val_loss: 0.0758 - val_accuracy: 0.9914\n",
      "Epoch 25/50\n",
      " - 0s - loss: 0.0631 - accuracy: 0.9830 - val_loss: 0.0674 - val_accuracy: 0.9914\n",
      "Epoch 26/50\n",
      " - 0s - loss: 0.0626 - accuracy: 0.9830 - val_loss: 0.0709 - val_accuracy: 0.9914\n",
      "Epoch 27/50\n",
      " - 0s - loss: 0.0604 - accuracy: 0.9830 - val_loss: 0.0689 - val_accuracy: 0.9914\n",
      "Epoch 28/50\n",
      " - 0s - loss: 0.0603 - accuracy: 0.9830 - val_loss: 0.0689 - val_accuracy: 0.9914\n",
      "Epoch 29/50\n",
      " - 0s - loss: 0.0587 - accuracy: 0.9830 - val_loss: 0.0685 - val_accuracy: 0.9914\n",
      "Epoch 30/50\n",
      " - 0s - loss: 0.0581 - accuracy: 0.9830 - val_loss: 0.0658 - val_accuracy: 0.9914\n",
      "Epoch 31/50\n",
      " - 0s - loss: 0.0574 - accuracy: 0.9830 - val_loss: 0.0702 - val_accuracy: 0.9914\n",
      "Epoch 32/50\n",
      " - 0s - loss: 0.0566 - accuracy: 0.9830 - val_loss: 0.0697 - val_accuracy: 0.9914\n",
      "Epoch 33/50\n",
      " - 0s - loss: 0.0558 - accuracy: 0.9830 - val_loss: 0.0674 - val_accuracy: 0.9914\n",
      "Epoch 34/50\n",
      " - 0s - loss: 0.0560 - accuracy: 0.9830 - val_loss: 0.0674 - val_accuracy: 0.9914\n",
      "Epoch 35/50\n",
      " - 0s - loss: 0.0556 - accuracy: 0.9830 - val_loss: 0.0709 - val_accuracy: 0.9914\n",
      "Epoch 36/50\n",
      " - 0s - loss: 0.0545 - accuracy: 0.9830 - val_loss: 0.0686 - val_accuracy: 0.9914\n",
      "Epoch 37/50\n",
      " - 0s - loss: 0.0542 - accuracy: 0.9830 - val_loss: 0.0661 - val_accuracy: 0.9914\n",
      "Epoch 38/50\n",
      " - 0s - loss: 0.0541 - accuracy: 0.9830 - val_loss: 0.0673 - val_accuracy: 0.9914\n",
      "Epoch 39/50\n",
      " - 0s - loss: 0.0537 - accuracy: 0.9830 - val_loss: 0.0627 - val_accuracy: 0.9914\n",
      "Epoch 40/50\n",
      " - 0s - loss: 0.0530 - accuracy: 0.9830 - val_loss: 0.0640 - val_accuracy: 0.9914\n",
      "Epoch 41/50\n",
      " - 0s - loss: 0.0523 - accuracy: 0.9830 - val_loss: 0.0681 - val_accuracy: 0.9914\n",
      "Epoch 42/50\n",
      " - 0s - loss: 0.0524 - accuracy: 0.9872 - val_loss: 0.0672 - val_accuracy: 0.9914\n",
      "Epoch 43/50\n",
      " - 0s - loss: 0.0523 - accuracy: 0.9872 - val_loss: 0.0660 - val_accuracy: 0.9914\n",
      "Epoch 44/50\n",
      " - 0s - loss: 0.0521 - accuracy: 0.9830 - val_loss: 0.0658 - val_accuracy: 0.9914\n",
      "Epoch 45/50\n",
      " - 0s - loss: 0.0521 - accuracy: 0.9830 - val_loss: 0.0635 - val_accuracy: 0.9914\n",
      "Epoch 46/50\n",
      " - 0s - loss: 0.0518 - accuracy: 0.9830 - val_loss: 0.0637 - val_accuracy: 0.9914\n",
      "Epoch 47/50\n",
      " - 0s - loss: 0.0523 - accuracy: 0.9872 - val_loss: 0.0675 - val_accuracy: 0.9914\n",
      "Epoch 48/50\n",
      " - 0s - loss: 0.0513 - accuracy: 0.9872 - val_loss: 0.0667 - val_accuracy: 0.9914\n",
      "Epoch 49/50\n",
      " - 0s - loss: 0.0512 - accuracy: 0.9872 - val_loss: 0.0636 - val_accuracy: 0.9914\n",
      "Epoch 50/50\n",
      " - 0s - loss: 0.0510 - accuracy: 0.9872 - val_loss: 0.0667 - val_accuracy: 0.9914\n"
     ]
    },
    {
     "data": {
      "text/plain": [
       "<keras.callbacks.callbacks.History at 0x7fbc4e165d50>"
      ]
     },
     "execution_count": 58,
     "metadata": {},
     "output_type": "execute_result"
    }
   ],
   "source": [
    "# Fit the model\n",
    "model.fit(X, Y, validation_split=0.33, epochs=50, batch_size=28,\n",
    "callbacks=callbacks_list, verbose=2)"
   ]
  },
  {
   "cell_type": "code",
   "execution_count": null,
   "metadata": {},
   "outputs": [],
   "source": []
  }
 ],
 "metadata": {
  "kernelspec": {
   "display_name": "Python 3",
   "language": "python",
   "name": "python3"
  },
  "language_info": {
   "codemirror_mode": {
    "name": "ipython",
    "version": 3
   },
   "file_extension": ".py",
   "mimetype": "text/x-python",
   "name": "python",
   "nbconvert_exporter": "python",
   "pygments_lexer": "ipython3",
   "version": "3.7.4"
  }
 },
 "nbformat": 4,
 "nbformat_minor": 2
}
