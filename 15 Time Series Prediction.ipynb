{
 "cells": [
  {
   "cell_type": "code",
   "execution_count": 70,
   "metadata": {},
   "outputs": [],
   "source": [
    "import pandas as pd\n",
    "import matplotlib.pyplot as plt\n",
    "import numpy as np\n",
    "import math\n",
    "from keras.models import Sequential\n",
    "from keras.layers import Dense\n"
   ]
  },
  {
   "cell_type": "code",
   "execution_count": 71,
   "metadata": {},
   "outputs": [],
   "source": [
    "np.random.seed(7)"
   ]
  },
  {
   "cell_type": "code",
   "execution_count": null,
   "metadata": {},
   "outputs": [],
   "source": []
  },
  {
   "cell_type": "markdown",
   "metadata": {},
   "source": [
    "##### Reading dataset"
   ]
  },
  {
   "cell_type": "code",
   "execution_count": 72,
   "metadata": {},
   "outputs": [],
   "source": [
    "dataframe = pd.read_csv('/home/hasan/DATA SET/international-airline-passengers.csv', usecols=[1], engine='python', skipfooter=3)"
   ]
  },
  {
   "cell_type": "code",
   "execution_count": 73,
   "metadata": {},
   "outputs": [
    {
     "data": {
      "text/html": [
       "<div>\n",
       "<style scoped>\n",
       "    .dataframe tbody tr th:only-of-type {\n",
       "        vertical-align: middle;\n",
       "    }\n",
       "\n",
       "    .dataframe tbody tr th {\n",
       "        vertical-align: top;\n",
       "    }\n",
       "\n",
       "    .dataframe thead th {\n",
       "        text-align: right;\n",
       "    }\n",
       "</style>\n",
       "<table border=\"1\" class=\"dataframe\">\n",
       "  <thead>\n",
       "    <tr style=\"text-align: right;\">\n",
       "      <th></th>\n",
       "      <th>International airline passengers: monthly totals in thousands. Jan 49 ? Dec 60</th>\n",
       "    </tr>\n",
       "  </thead>\n",
       "  <tbody>\n",
       "    <tr>\n",
       "      <th>0</th>\n",
       "      <td>112</td>\n",
       "    </tr>\n",
       "    <tr>\n",
       "      <th>1</th>\n",
       "      <td>118</td>\n",
       "    </tr>\n",
       "    <tr>\n",
       "      <th>2</th>\n",
       "      <td>132</td>\n",
       "    </tr>\n",
       "    <tr>\n",
       "      <th>3</th>\n",
       "      <td>129</td>\n",
       "    </tr>\n",
       "    <tr>\n",
       "      <th>4</th>\n",
       "      <td>121</td>\n",
       "    </tr>\n",
       "  </tbody>\n",
       "</table>\n",
       "</div>"
      ],
      "text/plain": [
       "   International airline passengers: monthly totals in thousands. Jan 49 ? Dec 60\n",
       "0                                                112                             \n",
       "1                                                118                             \n",
       "2                                                132                             \n",
       "3                                                129                             \n",
       "4                                                121                             "
      ]
     },
     "execution_count": 73,
     "metadata": {},
     "output_type": "execute_result"
    }
   ],
   "source": [
    "#head of the dataset\n",
    "dataframe.head()"
   ]
  },
  {
   "cell_type": "code",
   "execution_count": 74,
   "metadata": {},
   "outputs": [],
   "source": [
    "#only values of the dataset\n",
    "dataset = dataframe.values"
   ]
  },
  {
   "cell_type": "code",
   "execution_count": null,
   "metadata": {},
   "outputs": [],
   "source": []
  },
  {
   "cell_type": "markdown",
   "metadata": {},
   "source": [
    "##### Changing Type"
   ]
  },
  {
   "cell_type": "code",
   "execution_count": 75,
   "metadata": {},
   "outputs": [
    {
     "data": {
      "text/plain": [
       "array([[112.],\n",
       "       [118.],\n",
       "       [132.],\n",
       "       [129.],\n",
       "       [121.],\n",
       "       [135.],\n",
       "       [148.],\n",
       "       [148.],\n",
       "       [136.],\n",
       "       [119.],\n",
       "       [104.],\n",
       "       [118.],\n",
       "       [115.],\n",
       "       [126.],\n",
       "       [141.],\n",
       "       [135.],\n",
       "       [125.],\n",
       "       [149.],\n",
       "       [170.],\n",
       "       [170.],\n",
       "       [158.],\n",
       "       [133.],\n",
       "       [114.],\n",
       "       [140.],\n",
       "       [145.],\n",
       "       [150.],\n",
       "       [178.],\n",
       "       [163.],\n",
       "       [172.],\n",
       "       [178.],\n",
       "       [199.],\n",
       "       [199.],\n",
       "       [184.],\n",
       "       [162.],\n",
       "       [146.],\n",
       "       [166.],\n",
       "       [171.],\n",
       "       [180.],\n",
       "       [193.],\n",
       "       [181.],\n",
       "       [183.],\n",
       "       [218.],\n",
       "       [230.],\n",
       "       [242.],\n",
       "       [209.],\n",
       "       [191.],\n",
       "       [172.],\n",
       "       [194.],\n",
       "       [196.],\n",
       "       [196.],\n",
       "       [236.],\n",
       "       [235.],\n",
       "       [229.],\n",
       "       [243.],\n",
       "       [264.],\n",
       "       [272.],\n",
       "       [237.],\n",
       "       [211.],\n",
       "       [180.],\n",
       "       [201.],\n",
       "       [204.],\n",
       "       [188.],\n",
       "       [235.],\n",
       "       [227.],\n",
       "       [234.],\n",
       "       [264.],\n",
       "       [302.],\n",
       "       [293.],\n",
       "       [259.],\n",
       "       [229.],\n",
       "       [203.],\n",
       "       [229.],\n",
       "       [242.],\n",
       "       [233.],\n",
       "       [267.],\n",
       "       [269.],\n",
       "       [270.],\n",
       "       [315.],\n",
       "       [364.],\n",
       "       [347.],\n",
       "       [312.],\n",
       "       [274.],\n",
       "       [237.],\n",
       "       [278.],\n",
       "       [284.],\n",
       "       [277.],\n",
       "       [317.],\n",
       "       [313.],\n",
       "       [318.],\n",
       "       [374.],\n",
       "       [413.],\n",
       "       [405.],\n",
       "       [355.],\n",
       "       [306.],\n",
       "       [271.],\n",
       "       [306.],\n",
       "       [315.],\n",
       "       [301.],\n",
       "       [356.],\n",
       "       [348.],\n",
       "       [355.],\n",
       "       [422.],\n",
       "       [465.],\n",
       "       [467.],\n",
       "       [404.],\n",
       "       [347.],\n",
       "       [305.],\n",
       "       [336.],\n",
       "       [340.],\n",
       "       [318.],\n",
       "       [362.],\n",
       "       [348.],\n",
       "       [363.],\n",
       "       [435.],\n",
       "       [491.],\n",
       "       [505.],\n",
       "       [404.],\n",
       "       [359.],\n",
       "       [310.],\n",
       "       [337.],\n",
       "       [360.],\n",
       "       [342.],\n",
       "       [406.],\n",
       "       [396.],\n",
       "       [420.],\n",
       "       [472.],\n",
       "       [548.],\n",
       "       [559.],\n",
       "       [463.],\n",
       "       [407.],\n",
       "       [362.],\n",
       "       [405.],\n",
       "       [417.],\n",
       "       [391.],\n",
       "       [419.],\n",
       "       [461.],\n",
       "       [472.],\n",
       "       [535.],\n",
       "       [622.],\n",
       "       [606.],\n",
       "       [508.],\n",
       "       [461.],\n",
       "       [390.],\n",
       "       [432.]], dtype=float32)"
      ]
     },
     "execution_count": 75,
     "metadata": {},
     "output_type": "execute_result"
    }
   ],
   "source": [
    "dataset = dataset.astype('float32')\n",
    "dataset"
   ]
  },
  {
   "cell_type": "code",
   "execution_count": null,
   "metadata": {},
   "outputs": [],
   "source": []
  },
  {
   "cell_type": "markdown",
   "metadata": {},
   "source": [
    "##### Dividing Dataset into Train Test"
   ]
  },
  {
   "cell_type": "code",
   "execution_count": 76,
   "metadata": {},
   "outputs": [
    {
     "name": "stdout",
     "output_type": "stream",
     "text": [
      "100 44\n"
     ]
    }
   ],
   "source": [
    "# split into train and test sets\n",
    "train_size = int(len(dataset) * 0.70)\n",
    "test_size = len(dataset) - train_size\n",
    "train, test = dataset[0:train_size,:], dataset[train_size:len(dataset),:]\n",
    "print(len(train), len(test))\n"
   ]
  },
  {
   "cell_type": "code",
   "execution_count": null,
   "metadata": {},
   "outputs": [],
   "source": []
  },
  {
   "cell_type": "markdown",
   "metadata": {},
   "source": [
    "##### Seperating Feature and Label data"
   ]
  },
  {
   "cell_type": "code",
   "execution_count": 77,
   "metadata": {},
   "outputs": [],
   "source": [
    "# convert an array of values into a dataset matrix\n",
    "def create_dataset(dataset, look_back=1):\n",
    "    dataX, dataY = [], []\n",
    "    for i in range(len(dataset)-look_back-1):\n",
    "        a = dataset[i:(i+look_back), 0]\n",
    "        dataX.append(a)\n",
    "        dataY.append(dataset[i + look_back, 0])\n",
    "    return np.array(dataX), np.array(dataY)"
   ]
  },
  {
   "cell_type": "code",
   "execution_count": 78,
   "metadata": {},
   "outputs": [],
   "source": [
    "# reshape into X=t and Y=t+1\n",
    "look_back = 1\n",
    "trainX, trainY = create_dataset(train, look_back)\n",
    "testX, testY = create_dataset(test, look_back)"
   ]
  },
  {
   "cell_type": "code",
   "execution_count": null,
   "metadata": {},
   "outputs": [],
   "source": []
  },
  {
   "cell_type": "markdown",
   "metadata": {},
   "source": [
    "##### Model"
   ]
  },
  {
   "cell_type": "code",
   "execution_count": 79,
   "metadata": {},
   "outputs": [],
   "source": [
    "# create and fit Multilayer Perceptron model\n",
    "model = Sequential()\n",
    "model.add(Dense(8, input_dim=look_back, activation='relu'))\n",
    "model.add(Dense(1))\n"
   ]
  },
  {
   "cell_type": "code",
   "execution_count": 80,
   "metadata": {},
   "outputs": [
    {
     "name": "stdout",
     "output_type": "stream",
     "text": [
      "Model: \"sequential_7\"\n",
      "_________________________________________________________________\n",
      "Layer (type)                 Output Shape              Param #   \n",
      "=================================================================\n",
      "dense_6 (Dense)              (None, 8)                 16        \n",
      "_________________________________________________________________\n",
      "dense_7 (Dense)              (None, 1)                 9         \n",
      "=================================================================\n",
      "Total params: 25\n",
      "Trainable params: 25\n",
      "Non-trainable params: 0\n",
      "_________________________________________________________________\n"
     ]
    }
   ],
   "source": [
    "#model summary\n",
    "model.summary()\n"
   ]
  },
  {
   "cell_type": "code",
   "execution_count": 81,
   "metadata": {},
   "outputs": [],
   "source": [
    "#model compile\n",
    "model.compile(loss='mean_squared_error', optimizer='adam')\n"
   ]
  },
  {
   "cell_type": "code",
   "execution_count": null,
   "metadata": {},
   "outputs": [],
   "source": []
  },
  {
   "cell_type": "markdown",
   "metadata": {},
   "source": [
    "##### Fit Model"
   ]
  },
  {
   "cell_type": "code",
   "execution_count": 82,
   "metadata": {},
   "outputs": [
    {
     "name": "stdout",
     "output_type": "stream",
     "text": [
      "Epoch 1/200\n",
      " - 0s - loss: 78363.1772\n",
      "Epoch 2/200\n",
      " - 0s - loss: 56649.2541\n",
      "Epoch 3/200\n",
      " - 0s - loss: 39151.7769\n",
      "Epoch 4/200\n",
      " - 0s - loss: 25643.5898\n",
      "Epoch 5/200\n",
      " - 0s - loss: 15774.9716\n",
      "Epoch 6/200\n",
      " - 0s - loss: 9064.8348\n",
      "Epoch 7/200\n",
      " - 0s - loss: 4883.4349\n",
      "Epoch 8/200\n",
      " - 0s - loss: 2475.7141\n",
      "Epoch 9/200\n",
      " - 0s - loss: 1333.4226\n",
      "Epoch 10/200\n",
      " - 0s - loss: 833.3106\n",
      "Epoch 11/200\n",
      " - 0s - loss: 647.2356\n",
      "Epoch 12/200\n",
      " - 0s - loss: 583.1966\n",
      "Epoch 13/200\n",
      " - 0s - loss: 567.7640\n",
      "Epoch 14/200\n",
      " - 0s - loss: 567.0125\n",
      "Epoch 15/200\n",
      " - 0s - loss: 561.8294\n",
      "Epoch 16/200\n",
      " - 0s - loss: 560.6025\n",
      "Epoch 17/200\n",
      " - 0s - loss: 559.1510\n",
      "Epoch 18/200\n",
      " - 0s - loss: 561.7167\n",
      "Epoch 19/200\n",
      " - 0s - loss: 560.3163\n",
      "Epoch 20/200\n",
      " - 0s - loss: 565.5333\n",
      "Epoch 21/200\n",
      " - 0s - loss: 563.3594\n",
      "Epoch 22/200\n",
      " - 0s - loss: 563.6974\n",
      "Epoch 23/200\n",
      " - 0s - loss: 564.9389\n",
      "Epoch 24/200\n",
      " - 0s - loss: 561.9073\n",
      "Epoch 25/200\n",
      " - 0s - loss: 561.9515\n",
      "Epoch 26/200\n",
      " - 0s - loss: 564.2723\n",
      "Epoch 27/200\n",
      " - 0s - loss: 564.5893\n",
      "Epoch 28/200\n",
      " - 0s - loss: 562.9721\n",
      "Epoch 29/200\n",
      " - 0s - loss: 561.5913\n",
      "Epoch 30/200\n",
      " - 0s - loss: 563.9834\n",
      "Epoch 31/200\n",
      " - 0s - loss: 561.1373\n",
      "Epoch 32/200\n",
      " - 0s - loss: 561.6848\n",
      "Epoch 33/200\n",
      " - 0s - loss: 562.4152\n",
      "Epoch 34/200\n",
      " - 0s - loss: 568.0955\n",
      "Epoch 35/200\n",
      " - 0s - loss: 558.6058\n",
      "Epoch 36/200\n",
      " - 0s - loss: 566.8094\n",
      "Epoch 37/200\n",
      " - 0s - loss: 561.8889\n",
      "Epoch 38/200\n",
      " - 0s - loss: 560.8569\n",
      "Epoch 39/200\n",
      " - 0s - loss: 560.6778\n",
      "Epoch 40/200\n",
      " - 0s - loss: 562.2105\n",
      "Epoch 41/200\n",
      " - 0s - loss: 559.9547\n",
      "Epoch 42/200\n",
      " - 0s - loss: 567.8177\n",
      "Epoch 43/200\n",
      " - 0s - loss: 565.0157\n",
      "Epoch 44/200\n",
      " - 0s - loss: 563.9489\n",
      "Epoch 45/200\n",
      " - 0s - loss: 570.2267\n",
      "Epoch 46/200\n",
      " - 0s - loss: 565.6863\n",
      "Epoch 47/200\n",
      " - 0s - loss: 564.6892\n",
      "Epoch 48/200\n",
      " - 0s - loss: 563.6834\n",
      "Epoch 49/200\n",
      " - 0s - loss: 566.5465\n",
      "Epoch 50/200\n",
      " - 0s - loss: 565.1998\n",
      "Epoch 51/200\n",
      " - 0s - loss: 564.1318\n",
      "Epoch 52/200\n",
      " - 0s - loss: 575.4942\n",
      "Epoch 53/200\n",
      " - 0s - loss: 566.0870\n",
      "Epoch 54/200\n",
      " - 0s - loss: 561.5322\n",
      "Epoch 55/200\n",
      " - 0s - loss: 568.1015\n",
      "Epoch 56/200\n",
      " - 0s - loss: 572.7107\n",
      "Epoch 57/200\n",
      " - 0s - loss: 559.0000\n",
      "Epoch 58/200\n",
      " - 0s - loss: 566.2298\n",
      "Epoch 59/200\n",
      " - 0s - loss: 568.5456\n",
      "Epoch 60/200\n",
      " - 0s - loss: 568.6111\n",
      "Epoch 61/200\n",
      " - 0s - loss: 568.3735\n",
      "Epoch 62/200\n",
      " - 0s - loss: 572.6376\n",
      "Epoch 63/200\n",
      " - 0s - loss: 565.4082\n",
      "Epoch 64/200\n",
      " - 0s - loss: 564.3238\n",
      "Epoch 65/200\n",
      " - 0s - loss: 572.4703\n",
      "Epoch 66/200\n",
      " - 0s - loss: 564.6613\n",
      "Epoch 67/200\n",
      " - 0s - loss: 566.7072\n",
      "Epoch 68/200\n",
      " - 0s - loss: 572.6823\n",
      "Epoch 69/200\n",
      " - 0s - loss: 564.7246\n",
      "Epoch 70/200\n",
      " - 0s - loss: 566.7771\n",
      "Epoch 71/200\n",
      " - 0s - loss: 570.1311\n",
      "Epoch 72/200\n",
      " - 0s - loss: 562.6517\n",
      "Epoch 73/200\n",
      " - 0s - loss: 563.1856\n",
      "Epoch 74/200\n",
      " - 0s - loss: 569.4315\n",
      "Epoch 75/200\n",
      " - 0s - loss: 559.1398\n",
      "Epoch 76/200\n",
      " - 0s - loss: 574.4920\n",
      "Epoch 77/200\n",
      " - 0s - loss: 565.2787\n",
      "Epoch 78/200\n",
      " - 0s - loss: 565.8826\n",
      "Epoch 79/200\n",
      " - 0s - loss: 563.9422\n",
      "Epoch 80/200\n",
      " - 0s - loss: 568.9698\n",
      "Epoch 81/200\n",
      " - 0s - loss: 562.2054\n",
      "Epoch 82/200\n",
      " - 0s - loss: 563.5626\n",
      "Epoch 83/200\n",
      " - 0s - loss: 574.4837\n",
      "Epoch 84/200\n",
      " - 0s - loss: 571.8213\n",
      "Epoch 85/200\n",
      " - 0s - loss: 569.0157\n",
      "Epoch 86/200\n",
      " - 0s - loss: 566.5182\n",
      "Epoch 87/200\n",
      " - 0s - loss: 566.4454\n",
      "Epoch 88/200\n",
      " - 0s - loss: 562.3527\n",
      "Epoch 89/200\n",
      " - 0s - loss: 564.6759\n",
      "Epoch 90/200\n",
      " - 0s - loss: 565.5250\n",
      "Epoch 91/200\n",
      " - 0s - loss: 565.3825\n",
      "Epoch 92/200\n",
      " - 0s - loss: 565.4166\n",
      "Epoch 93/200\n",
      " - 0s - loss: 562.9374\n",
      "Epoch 94/200\n",
      " - 0s - loss: 568.2051\n",
      "Epoch 95/200\n",
      " - 0s - loss: 560.5072\n",
      "Epoch 96/200\n",
      " - 0s - loss: 564.1744\n",
      "Epoch 97/200\n",
      " - 0s - loss: 562.7658\n",
      "Epoch 98/200\n",
      " - 0s - loss: 568.8890\n",
      "Epoch 99/200\n",
      " - 0s - loss: 570.5224\n",
      "Epoch 100/200\n",
      " - 0s - loss: 575.7858\n",
      "Epoch 101/200\n",
      " - 0s - loss: 567.3145\n",
      "Epoch 102/200\n",
      " - 0s - loss: 566.2008\n",
      "Epoch 103/200\n",
      " - 0s - loss: 567.3040\n",
      "Epoch 104/200\n",
      " - 0s - loss: 568.5395\n",
      "Epoch 105/200\n",
      " - 0s - loss: 563.2988\n",
      "Epoch 106/200\n",
      " - 0s - loss: 560.3490\n",
      "Epoch 107/200\n",
      " - 0s - loss: 574.7331\n",
      "Epoch 108/200\n",
      " - 0s - loss: 563.4337\n",
      "Epoch 109/200\n",
      " - 0s - loss: 563.4232\n",
      "Epoch 110/200\n",
      " - 0s - loss: 565.9092\n",
      "Epoch 111/200\n",
      " - 0s - loss: 575.2709\n",
      "Epoch 112/200\n",
      " - 0s - loss: 568.3908\n",
      "Epoch 113/200\n",
      " - 0s - loss: 575.2204\n",
      "Epoch 114/200\n",
      " - 0s - loss: 575.7247\n",
      "Epoch 115/200\n",
      " - 0s - loss: 574.2600\n",
      "Epoch 116/200\n",
      " - 0s - loss: 572.4961\n",
      "Epoch 117/200\n",
      " - 0s - loss: 576.8616\n",
      "Epoch 118/200\n",
      " - 0s - loss: 566.9399\n",
      "Epoch 119/200\n",
      " - 0s - loss: 574.6287\n",
      "Epoch 120/200\n",
      " - 0s - loss: 567.4823\n",
      "Epoch 121/200\n",
      " - 0s - loss: 566.9861\n",
      "Epoch 122/200\n",
      " - 0s - loss: 586.3486\n",
      "Epoch 123/200\n",
      " - 0s - loss: 569.3048\n",
      "Epoch 124/200\n",
      " - 0s - loss: 571.1237\n",
      "Epoch 125/200\n",
      " - 0s - loss: 598.6195\n",
      "Epoch 126/200\n",
      " - 0s - loss: 600.2351\n",
      "Epoch 127/200\n",
      " - 0s - loss: 580.7893\n",
      "Epoch 128/200\n",
      " - 0s - loss: 574.0419\n",
      "Epoch 129/200\n",
      " - 0s - loss: 570.1391\n",
      "Epoch 130/200\n",
      " - 0s - loss: 574.1107\n",
      "Epoch 131/200\n",
      " - 0s - loss: 566.2110\n",
      "Epoch 132/200\n",
      " - 0s - loss: 564.9820\n",
      "Epoch 133/200\n",
      " - 0s - loss: 579.2539\n",
      "Epoch 134/200\n",
      " - 0s - loss: 568.5920\n",
      "Epoch 135/200\n",
      " - 0s - loss: 562.6161\n",
      "Epoch 136/200\n",
      " - 0s - loss: 569.4107\n",
      "Epoch 137/200\n",
      " - 0s - loss: 571.1493\n",
      "Epoch 138/200\n",
      " - 0s - loss: 591.6645\n",
      "Epoch 139/200\n",
      " - 0s - loss: 569.3114\n",
      "Epoch 140/200\n",
      " - 0s - loss: 568.9406\n",
      "Epoch 141/200\n",
      " - 0s - loss: 567.5953\n",
      "Epoch 142/200\n",
      " - 0s - loss: 573.4060\n",
      "Epoch 143/200\n",
      " - 0s - loss: 562.8320\n",
      "Epoch 144/200\n",
      " - 0s - loss: 561.9359\n",
      "Epoch 145/200\n",
      " - 0s - loss: 574.1928\n",
      "Epoch 146/200\n",
      " - 0s - loss: 569.4815\n",
      "Epoch 147/200\n",
      " - 0s - loss: 569.5592\n",
      "Epoch 148/200\n",
      " - 0s - loss: 565.6328\n",
      "Epoch 149/200\n",
      " - 0s - loss: 561.0590\n",
      "Epoch 150/200\n",
      " - 0s - loss: 574.9437\n",
      "Epoch 151/200\n",
      " - 0s - loss: 564.4622\n",
      "Epoch 152/200\n",
      " - 0s - loss: 573.7935\n",
      "Epoch 153/200\n",
      " - 0s - loss: 572.5732\n",
      "Epoch 154/200\n",
      " - 0s - loss: 570.2110\n",
      "Epoch 155/200\n",
      " - 0s - loss: 568.8354\n",
      "Epoch 156/200\n",
      " - 0s - loss: 569.0727\n",
      "Epoch 157/200\n",
      " - 0s - loss: 568.7844\n",
      "Epoch 158/200\n",
      " - 0s - loss: 562.5722\n",
      "Epoch 159/200\n",
      " - 0s - loss: 566.8899\n",
      "Epoch 160/200\n",
      " - 0s - loss: 570.7703\n",
      "Epoch 161/200\n",
      " - 0s - loss: 577.8728\n",
      "Epoch 162/200\n",
      " - 0s - loss: 579.9622\n",
      "Epoch 163/200\n",
      " - 0s - loss: 563.9280\n",
      "Epoch 164/200\n",
      " - 0s - loss: 561.8331\n",
      "Epoch 165/200\n",
      " - 0s - loss: 563.9774\n",
      "Epoch 166/200\n",
      " - 0s - loss: 564.7717\n",
      "Epoch 167/200\n",
      " - 0s - loss: 563.7404\n",
      "Epoch 168/200\n",
      " - 0s - loss: 581.7525\n",
      "Epoch 169/200\n",
      " - 0s - loss: 571.2564\n",
      "Epoch 170/200\n",
      " - 0s - loss: 563.5420\n",
      "Epoch 171/200\n",
      " - 0s - loss: 559.0616\n",
      "Epoch 172/200\n",
      " - 0s - loss: 564.7946\n",
      "Epoch 173/200\n",
      " - 0s - loss: 571.5031\n",
      "Epoch 174/200\n",
      " - 0s - loss: 565.8434\n",
      "Epoch 175/200\n",
      " - 0s - loss: 560.1480\n",
      "Epoch 176/200\n",
      " - 0s - loss: 562.8204\n",
      "Epoch 177/200\n",
      " - 0s - loss: 566.6622\n",
      "Epoch 178/200\n",
      " - 0s - loss: 569.9203\n",
      "Epoch 179/200\n",
      " - 0s - loss: 565.8414\n",
      "Epoch 180/200\n",
      " - 0s - loss: 582.0986\n",
      "Epoch 181/200\n",
      " - 0s - loss: 586.1528\n",
      "Epoch 182/200\n",
      " - 0s - loss: 565.9938\n",
      "Epoch 183/200\n",
      " - 0s - loss: 565.2512\n",
      "Epoch 184/200\n",
      " - 0s - loss: 564.3749\n",
      "Epoch 185/200\n",
      " - 0s - loss: 572.0754\n",
      "Epoch 186/200\n",
      " - 0s - loss: 575.8577\n",
      "Epoch 187/200\n",
      " - 0s - loss: 583.7868\n",
      "Epoch 188/200\n",
      " - 0s - loss: 577.7394\n",
      "Epoch 189/200\n",
      " - 0s - loss: 567.9763\n",
      "Epoch 190/200\n",
      " - 0s - loss: 571.3815\n",
      "Epoch 191/200\n",
      " - 0s - loss: 565.0566\n",
      "Epoch 192/200\n",
      " - 0s - loss: 581.4811\n",
      "Epoch 193/200\n",
      " - 0s - loss: 568.9803\n",
      "Epoch 194/200\n",
      " - 0s - loss: 573.4233\n",
      "Epoch 195/200\n",
      " - 0s - loss: 564.1353\n",
      "Epoch 196/200\n",
      " - 0s - loss: 572.9811\n",
      "Epoch 197/200\n",
      " - 0s - loss: 575.1126\n",
      "Epoch 198/200\n",
      " - 0s - loss: 578.6340\n",
      "Epoch 199/200\n",
      " - 0s - loss: 569.9474\n",
      "Epoch 200/200\n",
      " - 0s - loss: 604.1223\n"
     ]
    },
    {
     "data": {
      "text/plain": [
       "<keras.callbacks.callbacks.History at 0x7f71bcf2f750>"
      ]
     },
     "execution_count": 82,
     "metadata": {},
     "output_type": "execute_result"
    }
   ],
   "source": [
    "model.fit(trainX, trainY, epochs=200, batch_size=2, verbose=2)"
   ]
  },
  {
   "cell_type": "code",
   "execution_count": null,
   "metadata": {},
   "outputs": [],
   "source": []
  },
  {
   "cell_type": "markdown",
   "metadata": {},
   "source": [
    "##### Evaluate Model"
   ]
  },
  {
   "cell_type": "code",
   "execution_count": 83,
   "metadata": {},
   "outputs": [
    {
     "name": "stdout",
     "output_type": "stream",
     "text": [
      "Train Score: 557.44 MSE (23.61 RMSE)\n",
      "Test Score: 2497.45 MSE (49.97 RMSE)\n"
     ]
    }
   ],
   "source": [
    "# Estimate model performance\n",
    "trainScore = model.evaluate(trainX, trainY, verbose=0)\n",
    "print('Train Score: %.2f MSE (%.2f RMSE)' % (trainScore, math.sqrt(trainScore)))\n",
    "testScore = model.evaluate(testX, testY, verbose=0)\n",
    "print('Test Score: %.2f MSE (%.2f RMSE)' % (testScore, math.sqrt(testScore)))\n"
   ]
  },
  {
   "cell_type": "code",
   "execution_count": null,
   "metadata": {},
   "outputs": [],
   "source": []
  },
  {
   "cell_type": "markdown",
   "metadata": {},
   "source": [
    "##### Visualize"
   ]
  },
  {
   "cell_type": "code",
   "execution_count": 84,
   "metadata": {},
   "outputs": [],
   "source": [
    "# generate predictions for training\n",
    "trainPredict = model.predict(trainX)\n",
    "testPredict = model.predict(testX)\n"
   ]
  },
  {
   "cell_type": "code",
   "execution_count": 85,
   "metadata": {},
   "outputs": [],
   "source": [
    "# shift train predictions for plotting\n",
    "trainPredictPlot = np.empty_like(dataset)\n",
    "trainPredictPlot[:, :] = np.nan\n",
    "trainPredictPlot[look_back:len(trainPredict)+look_back, :] = trainPredict\n",
    "\n",
    "# shift test predictions for plotting\n",
    "testPredictPlot = np.empty_like(dataset)\n",
    "testPredictPlot[:, :] = np.nan\n",
    "testPredictPlot[len(trainPredict)+(look_back*2)+1:len(dataset)-1, :] = testPredict\n"
   ]
  },
  {
   "cell_type": "code",
   "execution_count": 86,
   "metadata": {},
   "outputs": [
    {
     "data": {
      "image/png": "[encoded data removed]",
      "text/plain": [
       "<Figure size 432x288 with 1 Axes>"
      ]
     },
     "metadata": {
      "needs_background": "light"
     },
     "output_type": "display_data"
    }
   ],
   "source": [
    "# plot baseline and predictions\n",
    "plt.plot(dataset)\n",
    "plt.plot(trainPredictPlot)\n",
    "plt.plot(testPredictPlot)\n",
    "plt.show()"
   ]
  },
  {
   "cell_type": "code",
   "execution_count": null,
   "metadata": {},
   "outputs": [],
   "source": []
  },
  {
   "cell_type": "code",
   "execution_count": null,
   "metadata": {},
   "outputs": [],
   "source": []
  },
  {
   "cell_type": "code",
   "execution_count": null,
   "metadata": {},
   "outputs": [],
   "source": []
  },
  {
   "cell_type": "markdown",
   "metadata": {},
   "source": [
    "# Multilayer Perceptron Using the Window Method"
   ]
  },
  {
   "cell_type": "code",
   "execution_count": 97,
   "metadata": {},
   "outputs": [],
   "source": [
    "import numpy as np\n",
    "import matplotlib.pyplot as plt\n",
    "import pandas as pd\n",
    "import math\n",
    "from keras.models import Sequential\n",
    "from keras.layers import Dense\n"
   ]
  },
  {
   "cell_type": "code",
   "execution_count": 98,
   "metadata": {},
   "outputs": [],
   "source": [
    "# fix random seed for reproducibility\n",
    "np.random.seed(7)\n"
   ]
  },
  {
   "cell_type": "code",
   "execution_count": null,
   "metadata": {},
   "outputs": [],
   "source": []
  },
  {
   "cell_type": "markdown",
   "metadata": {},
   "source": [
    "##### Reading Dataset"
   ]
  },
  {
   "cell_type": "code",
   "execution_count": 99,
   "metadata": {},
   "outputs": [],
   "source": [
    "# load the dataset\n",
    "dataframe = pd.read_csv('/home/hasan/DATA SET/international-airline-passengers.csv', usecols=[1], engine='python', skipfooter=3)\n",
    "dataset = dataframe.values\n",
    "dataset = dataset.astype('float32')"
   ]
  },
  {
   "cell_type": "code",
   "execution_count": null,
   "metadata": {},
   "outputs": [],
   "source": []
  },
  {
   "cell_type": "markdown",
   "metadata": {},
   "source": [
    "##### Split dataset"
   ]
  },
  {
   "cell_type": "code",
   "execution_count": 100,
   "metadata": {},
   "outputs": [
    {
     "name": "stdout",
     "output_type": "stream",
     "text": [
      "96 48\n"
     ]
    }
   ],
   "source": [
    "# split into train and test sets\n",
    "train_size = int(len(dataset) * 0.67)\n",
    "test_size = len(dataset) - train_size\n",
    "train, test = dataset[0:train_size,:], dataset[train_size:len(dataset),:]\n",
    "print(len(train), len(test))"
   ]
  },
  {
   "cell_type": "code",
   "execution_count": null,
   "metadata": {},
   "outputs": [],
   "source": []
  },
  {
   "cell_type": "markdown",
   "metadata": {},
   "source": [
    "##### Dividing dataset into train test"
   ]
  },
  {
   "cell_type": "code",
   "execution_count": 101,
   "metadata": {},
   "outputs": [],
   "source": [
    "# convert an array of values into a dataset matrix\n",
    "def create_dataset(dataset, look_back=1):\n",
    "    dataX, dataY = [], []\n",
    "    for i in range(len(dataset)-look_back-1):\n",
    "        a = dataset[i:(i+look_back), 0]\n",
    "        dataX.append(a)\n",
    "        dataY.append(dataset[i + look_back, 0])\n",
    "    return np.array(dataX), np.array(dataY)"
   ]
  },
  {
   "cell_type": "code",
   "execution_count": 102,
   "metadata": {},
   "outputs": [],
   "source": [
    "# reshape dataset\n",
    "look_back = 3\n",
    "trainX, trainY = create_dataset(train, look_back)\n",
    "testX, testY = create_dataset(test, look_back)"
   ]
  },
  {
   "cell_type": "code",
   "execution_count": null,
   "metadata": {},
   "outputs": [],
   "source": []
  },
  {
   "cell_type": "markdown",
   "metadata": {},
   "source": [
    "##### Model"
   ]
  },
  {
   "cell_type": "code",
   "execution_count": 103,
   "metadata": {},
   "outputs": [],
   "source": [
    "# create and fit Multilayer Perceptron model\n",
    "model = Sequential()\n",
    "model.add(Dense(8, input_dim=look_back, activation= 'relu' ))\n",
    "model.add(Dense(1))\n"
   ]
  },
  {
   "cell_type": "code",
   "execution_count": 104,
   "metadata": {},
   "outputs": [
    {
     "name": "stdout",
     "output_type": "stream",
     "text": [
      "Model: \"sequential_9\"\n",
      "_________________________________________________________________\n",
      "Layer (type)                 Output Shape              Param #   \n",
      "=================================================================\n",
      "dense_10 (Dense)             (None, 8)                 32        \n",
      "_________________________________________________________________\n",
      "dense_11 (Dense)             (None, 1)                 9         \n",
      "=================================================================\n",
      "Total params: 41\n",
      "Trainable params: 41\n",
      "Non-trainable params: 0\n",
      "_________________________________________________________________\n"
     ]
    }
   ],
   "source": [
    "#summary of the Model\n",
    "model.summary()"
   ]
  },
  {
   "cell_type": "code",
   "execution_count": 105,
   "metadata": {},
   "outputs": [],
   "source": [
    "#compile Model\n",
    "model.compile(loss= 'mean_squared_error' , optimizer= 'adam' )"
   ]
  },
  {
   "cell_type": "code",
   "execution_count": null,
   "metadata": {},
   "outputs": [],
   "source": []
  },
  {
   "cell_type": "markdown",
   "metadata": {},
   "source": [
    "##### Train Model"
   ]
  },
  {
   "cell_type": "code",
   "execution_count": 106,
   "metadata": {},
   "outputs": [
    {
     "name": "stdout",
     "output_type": "stream",
     "text": [
      "Epoch 1/200\n",
      " - 0s - loss: 10104.8911\n",
      "Epoch 2/200\n",
      " - 0s - loss: 3679.3738\n",
      "Epoch 3/200\n",
      " - 0s - loss: 1314.6025\n",
      "Epoch 4/200\n",
      " - 0s - loss: 833.1258\n",
      "Epoch 5/200\n",
      " - 0s - loss: 803.3332\n",
      "Epoch 6/200\n",
      " - 0s - loss: 792.0966\n",
      "Epoch 7/200\n",
      " - 0s - loss: 758.3648\n",
      "Epoch 8/200\n",
      " - 0s - loss: 744.0645\n",
      "Epoch 9/200\n",
      " - 0s - loss: 722.5849\n",
      "Epoch 10/200\n",
      " - 0s - loss: 707.2076\n",
      "Epoch 11/200\n",
      " - 0s - loss: 707.0422\n",
      "Epoch 12/200\n",
      " - 0s - loss: 704.5059\n",
      "Epoch 13/200\n",
      " - 0s - loss: 699.4453\n",
      "Epoch 14/200\n",
      " - 0s - loss: 700.4596\n",
      "Epoch 15/200\n",
      " - 0s - loss: 705.9572\n",
      "Epoch 16/200\n",
      " - 0s - loss: 707.5845\n",
      "Epoch 17/200\n",
      " - 0s - loss: 689.3888\n",
      "Epoch 18/200\n",
      " - 0s - loss: 686.5525\n",
      "Epoch 19/200\n",
      " - 0s - loss: 679.1328\n",
      "Epoch 20/200\n",
      " - 0s - loss: 692.6837\n",
      "Epoch 21/200\n",
      " - 0s - loss: 681.0155\n",
      "Epoch 22/200\n",
      " - 0s - loss: 676.3342\n",
      "Epoch 23/200\n",
      " - 0s - loss: 680.7434\n",
      "Epoch 24/200\n",
      " - 0s - loss: 658.4776\n",
      "Epoch 25/200\n",
      " - 0s - loss: 679.4108\n",
      "Epoch 26/200\n",
      " - 0s - loss: 667.6847\n",
      "Epoch 27/200\n",
      " - 0s - loss: 662.5021\n",
      "Epoch 28/200\n",
      " - 0s - loss: 671.3689\n",
      "Epoch 29/200\n",
      " - 0s - loss: 647.0359\n",
      "Epoch 30/200\n",
      " - 0s - loss: 680.7558\n",
      "Epoch 31/200\n",
      " - 0s - loss: 648.2844\n",
      "Epoch 32/200\n",
      " - 0s - loss: 666.4629\n",
      "Epoch 33/200\n",
      " - 0s - loss: 637.7682\n",
      "Epoch 34/200\n",
      " - 0s - loss: 641.4092\n",
      "Epoch 35/200\n",
      " - 0s - loss: 645.9872\n",
      "Epoch 36/200\n",
      " - 0s - loss: 631.0691\n",
      "Epoch 37/200\n",
      " - 0s - loss: 629.6076\n",
      "Epoch 38/200\n",
      " - 0s - loss: 627.7336\n",
      "Epoch 39/200\n",
      " - 0s - loss: 639.3253\n",
      "Epoch 40/200\n",
      " - 0s - loss: 645.2347\n",
      "Epoch 41/200\n",
      " - 0s - loss: 619.1006\n",
      "Epoch 42/200\n",
      " - 0s - loss: 622.9792\n",
      "Epoch 43/200\n",
      " - 0s - loss: 621.6543\n",
      "Epoch 44/200\n",
      " - 0s - loss: 631.9531\n",
      "Epoch 45/200\n",
      " - 0s - loss: 624.4129\n",
      "Epoch 46/200\n",
      " - 0s - loss: 636.0878\n",
      "Epoch 47/200\n",
      " - 0s - loss: 632.0806\n",
      "Epoch 48/200\n",
      " - 0s - loss: 612.7065\n",
      "Epoch 49/200\n",
      " - 0s - loss: 612.4964\n",
      "Epoch 50/200\n",
      " - 0s - loss: 598.7008\n",
      "Epoch 51/200\n",
      " - 0s - loss: 601.6537\n",
      "Epoch 52/200\n",
      " - 0s - loss: 612.8473\n",
      "Epoch 53/200\n",
      " - 0s - loss: 610.7587\n",
      "Epoch 54/200\n",
      " - 0s - loss: 604.1440\n",
      "Epoch 55/200\n",
      " - 0s - loss: 609.8990\n",
      "Epoch 56/200\n",
      " - 0s - loss: 600.7783\n",
      "Epoch 57/200\n",
      " - 0s - loss: 596.5743\n",
      "Epoch 58/200\n",
      " - 0s - loss: 587.0362\n",
      "Epoch 59/200\n",
      " - 0s - loss: 591.4959\n",
      "Epoch 60/200\n",
      " - 0s - loss: 601.9624\n",
      "Epoch 61/200\n",
      " - 0s - loss: 578.5941\n",
      "Epoch 62/200\n",
      " - 0s - loss: 589.2955\n",
      "Epoch 63/200\n",
      " - 0s - loss: 606.7513\n",
      "Epoch 64/200\n",
      " - 0s - loss: 596.8612\n",
      "Epoch 65/200\n",
      " - 0s - loss: 567.5215\n",
      "Epoch 66/200\n",
      " - 0s - loss: 579.0204\n",
      "Epoch 67/200\n",
      " - 0s - loss: 601.0823\n",
      "Epoch 68/200\n",
      " - 0s - loss: 589.5336\n",
      "Epoch 69/200\n",
      " - 0s - loss: 595.5691\n",
      "Epoch 70/200\n",
      " - 0s - loss: 590.6684\n",
      "Epoch 71/200\n",
      " - 0s - loss: 583.6180\n",
      "Epoch 72/200\n",
      " - 0s - loss: 568.4596\n",
      "Epoch 73/200\n",
      " - 0s - loss: 575.1428\n",
      "Epoch 74/200\n",
      " - 0s - loss: 567.7152\n",
      "Epoch 75/200\n",
      " - 0s - loss: 579.3896\n",
      "Epoch 76/200\n",
      " - 0s - loss: 572.8723\n",
      "Epoch 77/200\n",
      " - 0s - loss: 561.4234\n",
      "Epoch 78/200\n",
      " - 0s - loss: 558.1546\n",
      "Epoch 79/200\n",
      " - 0s - loss: 574.9663\n",
      "Epoch 80/200\n",
      " - 0s - loss: 579.8240\n",
      "Epoch 81/200\n",
      " - 0s - loss: 580.3259\n",
      "Epoch 82/200\n",
      " - 0s - loss: 568.5890\n",
      "Epoch 83/200\n",
      " - 0s - loss: 568.9469\n",
      "Epoch 84/200\n",
      " - 0s - loss: 566.6720\n",
      "Epoch 85/200\n",
      " - 0s - loss: 567.4412\n",
      "Epoch 86/200\n",
      " - 0s - loss: 560.6584\n",
      "Epoch 87/200\n",
      " - 0s - loss: 584.5305\n",
      "Epoch 88/200\n",
      " - 0s - loss: 549.4572\n",
      "Epoch 89/200\n",
      " - 0s - loss: 549.4673\n",
      "Epoch 90/200\n",
      " - 0s - loss: 545.5385\n",
      "Epoch 91/200\n",
      " - 0s - loss: 542.3336\n",
      "Epoch 92/200\n",
      " - 0s - loss: 561.8494\n",
      "Epoch 93/200\n",
      " - 0s - loss: 542.4942\n",
      "Epoch 94/200\n",
      " - 0s - loss: 574.3878\n",
      "Epoch 95/200\n",
      " - 0s - loss: 537.4116\n",
      "Epoch 96/200\n",
      " - 0s - loss: 554.5301\n",
      "Epoch 97/200\n",
      " - 0s - loss: 566.2318\n",
      "Epoch 98/200\n",
      " - 0s - loss: 552.2975\n",
      "Epoch 99/200\n",
      " - 0s - loss: 539.7807\n",
      "Epoch 100/200\n",
      " - 0s - loss: 542.1425\n",
      "Epoch 101/200\n",
      " - 0s - loss: 547.5545\n",
      "Epoch 102/200\n",
      " - 0s - loss: 539.1079\n",
      "Epoch 103/200\n",
      " - 0s - loss: 544.9444\n",
      "Epoch 104/200\n",
      " - 0s - loss: 539.3310\n",
      "Epoch 105/200\n",
      " - 0s - loss: 543.5597\n",
      "Epoch 106/200\n",
      " - 0s - loss: 534.2385\n",
      "Epoch 107/200\n",
      " - 0s - loss: 532.6355\n",
      "Epoch 108/200\n",
      " - 0s - loss: 539.0231\n",
      "Epoch 109/200\n",
      " - 0s - loss: 535.6173\n",
      "Epoch 110/200\n",
      " - 0s - loss: 543.6421\n",
      "Epoch 111/200\n",
      " - 0s - loss: 537.2055\n",
      "Epoch 112/200\n",
      " - 0s - loss: 562.3676\n",
      "Epoch 113/200\n",
      " - 0s - loss: 527.9844\n",
      "Epoch 114/200\n",
      " - 0s - loss: 519.6937\n",
      "Epoch 115/200\n",
      " - 0s - loss: 547.4093\n",
      "Epoch 116/200\n",
      " - 0s - loss: 521.9170\n",
      "Epoch 117/200\n",
      " - 0s - loss: 520.7471\n",
      "Epoch 118/200\n",
      " - 0s - loss: 518.8994\n",
      "Epoch 119/200\n",
      " - 0s - loss: 531.0370\n",
      "Epoch 120/200\n",
      " - 0s - loss: 520.1255\n",
      "Epoch 121/200\n",
      " - 0s - loss: 549.3573\n",
      "Epoch 122/200\n",
      " - 0s - loss: 523.8808\n",
      "Epoch 123/200\n",
      " - 0s - loss: 520.3374\n",
      "Epoch 124/200\n",
      " - 0s - loss: 525.5738\n",
      "Epoch 125/200\n",
      " - 0s - loss: 523.3766\n",
      "Epoch 126/200\n",
      " - 0s - loss: 520.9446\n",
      "Epoch 127/200\n",
      " - 0s - loss: 567.2432\n",
      "Epoch 128/200\n",
      " - 0s - loss: 528.8161\n",
      "Epoch 129/200\n",
      " - 0s - loss: 522.6887\n",
      "Epoch 130/200\n",
      " - 0s - loss: 557.0546\n",
      "Epoch 131/200\n",
      " - 0s - loss: 517.6871\n",
      "Epoch 132/200\n",
      " - 0s - loss: 518.3864\n",
      "Epoch 133/200\n",
      " - 0s - loss: 517.3025\n",
      "Epoch 134/200\n",
      " - 0s - loss: 516.1279\n",
      "Epoch 135/200\n",
      " - 0s - loss: 548.5267\n",
      "Epoch 136/200\n",
      " - 0s - loss: 505.7857\n",
      "Epoch 137/200\n",
      " - 0s - loss: 516.6161\n",
      "Epoch 138/200\n",
      " - 0s - loss: 504.9074\n",
      "Epoch 139/200\n",
      " - 0s - loss: 506.1019\n",
      "Epoch 140/200\n",
      " - 0s - loss: 507.5144\n",
      "Epoch 141/200\n",
      " - 0s - loss: 516.8386\n",
      "Epoch 142/200\n",
      " - 0s - loss: 515.8911\n",
      "Epoch 143/200\n",
      " - 0s - loss: 560.4633\n",
      "Epoch 144/200\n",
      " - 0s - loss: 523.0076\n",
      "Epoch 145/200\n",
      " - 0s - loss: 508.2969\n",
      "Epoch 146/200\n",
      " - 0s - loss: 499.5089\n",
      "Epoch 147/200\n",
      " - 0s - loss: 516.8742\n",
      "Epoch 148/200\n",
      " - 0s - loss: 529.4938\n",
      "Epoch 149/200\n",
      " - 0s - loss: 524.9897\n",
      "Epoch 150/200\n",
      " - 0s - loss: 499.9368\n",
      "Epoch 151/200\n",
      " - 0s - loss: 521.9166\n",
      "Epoch 152/200\n",
      " - 0s - loss: 500.5872\n",
      "Epoch 153/200\n",
      " - 0s - loss: 517.1881\n",
      "Epoch 154/200\n",
      " - 0s - loss: 498.1095\n",
      "Epoch 155/200\n",
      " - 0s - loss: 533.8945\n",
      "Epoch 156/200\n",
      " - 0s - loss: 493.0803\n",
      "Epoch 157/200\n",
      " - 0s - loss: 509.2345\n",
      "Epoch 158/200\n",
      " - 0s - loss: 489.2455\n",
      "Epoch 159/200\n",
      " - 0s - loss: 491.8539\n",
      "Epoch 160/200\n",
      " - 0s - loss: 516.4089\n",
      "Epoch 161/200\n",
      " - 0s - loss: 504.7387\n",
      "Epoch 162/200\n",
      " - 0s - loss: 496.4205\n",
      "Epoch 163/200\n",
      " - 0s - loss: 498.3438\n",
      "Epoch 164/200\n",
      " - 0s - loss: 511.8172\n",
      "Epoch 165/200\n",
      " - 0s - loss: 530.4660\n",
      "Epoch 166/200\n",
      " - 0s - loss: 493.9107\n",
      "Epoch 167/200\n",
      " - 0s - loss: 517.3283\n",
      "Epoch 168/200\n",
      " - 0s - loss: 496.7501\n",
      "Epoch 169/200\n",
      " - 0s - loss: 494.5074\n",
      "Epoch 170/200\n",
      " - 0s - loss: 493.4580\n",
      "Epoch 171/200\n",
      " - 0s - loss: 489.6109\n",
      "Epoch 172/200\n",
      " - 0s - loss: 500.7986\n",
      "Epoch 173/200\n",
      " - 0s - loss: 527.8621\n",
      "Epoch 174/200\n",
      " - 0s - loss: 500.4791\n",
      "Epoch 175/200\n",
      " - 0s - loss: 484.8850\n",
      "Epoch 176/200\n",
      " - 0s - loss: 503.7170\n",
      "Epoch 177/200\n",
      " - 0s - loss: 496.8763\n",
      "Epoch 178/200\n",
      " - 0s - loss: 502.3681\n",
      "Epoch 179/200\n",
      " - 0s - loss: 490.4205\n",
      "Epoch 180/200\n",
      " - 0s - loss: 554.0734\n",
      "Epoch 181/200\n",
      " - 0s - loss: 486.9423\n",
      "Epoch 182/200\n",
      " - 0s - loss: 488.2693\n",
      "Epoch 183/200\n",
      " - 0s - loss: 506.7945\n",
      "Epoch 184/200\n",
      " - 0s - loss: 497.2220\n",
      "Epoch 185/200\n",
      " - 0s - loss: 494.0369\n",
      "Epoch 186/200\n",
      " - 0s - loss: 540.7801\n",
      "Epoch 187/200\n",
      " - 0s - loss: 517.4795\n",
      "Epoch 188/200\n",
      " - 0s - loss: 499.1734\n",
      "Epoch 189/200\n",
      " - 0s - loss: 486.8900\n",
      "Epoch 190/200\n",
      " - 0s - loss: 485.7181\n",
      "Epoch 191/200\n",
      " - 0s - loss: 500.1409\n",
      "Epoch 192/200\n",
      " - 0s - loss: 484.3986\n",
      "Epoch 193/200\n",
      " - 0s - loss: 516.7060\n",
      "Epoch 194/200\n",
      " - 0s - loss: 498.1306\n",
      "Epoch 195/200\n",
      " - 0s - loss: 479.7455\n",
      "Epoch 196/200\n",
      " - 0s - loss: 513.3714\n",
      "Epoch 197/200\n",
      " - 0s - loss: 487.5276\n",
      "Epoch 198/200\n",
      " - 0s - loss: 479.8164\n",
      "Epoch 199/200\n",
      " - 0s - loss: 479.3676\n",
      "Epoch 200/200\n",
      " - 0s - loss: 498.1252\n"
     ]
    },
    {
     "data": {
      "text/plain": [
       "<keras.callbacks.callbacks.History at 0x7f71bc1db3d0>"
      ]
     },
     "execution_count": 106,
     "metadata": {},
     "output_type": "execute_result"
    }
   ],
   "source": [
    "model.fit(trainX, trainY, epochs=200, batch_size=2, verbose=2)"
   ]
  },
  {
   "cell_type": "code",
   "execution_count": null,
   "metadata": {},
   "outputs": [],
   "source": []
  },
  {
   "cell_type": "markdown",
   "metadata": {},
   "source": [
    "##### Evaluate Model"
   ]
  },
  {
   "cell_type": "code",
   "execution_count": 107,
   "metadata": {},
   "outputs": [
    {
     "name": "stdout",
     "output_type": "stream",
     "text": [
      "Train Score: 480.97 MSE (21.93 RMSE)\n",
      "Test Score: 2000.27 MSE (44.72 RMSE)\n"
     ]
    }
   ],
   "source": [
    "# Estimate model performance\n",
    "trainScore = model.evaluate(trainX, trainY, verbose=0)\n",
    "print('Train Score: %.2f MSE (%.2f RMSE)' % (trainScore, math.sqrt(trainScore)))\n",
    "testScore = model.evaluate(testX, testY, verbose=0)\n",
    "print('Test Score: %.2f MSE (%.2f RMSE)' % (testScore, math.sqrt(testScore)))"
   ]
  },
  {
   "cell_type": "code",
   "execution_count": null,
   "metadata": {},
   "outputs": [],
   "source": []
  },
  {
   "cell_type": "markdown",
   "metadata": {},
   "source": [
    "##### Predict"
   ]
  },
  {
   "cell_type": "code",
   "execution_count": 108,
   "metadata": {},
   "outputs": [],
   "source": [
    "# generate predictions for training\n",
    "trainPredict = model.predict(trainX)\n",
    "testPredict = model.predict(testX)"
   ]
  },
  {
   "cell_type": "code",
   "execution_count": null,
   "metadata": {},
   "outputs": [],
   "source": []
  },
  {
   "cell_type": "markdown",
   "metadata": {},
   "source": [
    "##### Visualize"
   ]
  },
  {
   "cell_type": "code",
   "execution_count": 109,
   "metadata": {},
   "outputs": [],
   "source": [
    "# shift train predictions for plotting\n",
    "trainPredictPlot = np.empty_like(dataset)\n",
    "trainPredictPlot[:, :] = np.nan\n",
    "trainPredictPlot[look_back:len(trainPredict)+look_back, :] = trainPredict\n",
    "\n",
    "# shift test predictions for plotting\n",
    "testPredictPlot = np.empty_like(dataset)\n",
    "testPredictPlot[:, :] = np.nan\n",
    "testPredictPlot[len(trainPredict)+(look_back*2)+1:len(dataset)-1, :] = testPredict"
   ]
  },
  {
   "cell_type": "code",
   "execution_count": 110,
   "metadata": {},
   "outputs": [
    {
     "data": {
      "image/png": "[encoded data removed]",
      "text/plain": [
       "<Figure size 432x288 with 1 Axes>"
      ]
     },
     "metadata": {
      "needs_background": "light"
     },
     "output_type": "display_data"
    }
   ],
   "source": [
    "# plot baseline and predictions\n",
    "plt.plot(dataset)\n",
    "plt.plot(trainPredictPlot)\n",
    "plt.plot(testPredictPlot)\n",
    "plt.show()"
   ]
  },
  {
   "cell_type": "code",
   "execution_count": null,
   "metadata": {},
   "outputs": [],
   "source": []
  },
  {
   "cell_type": "code",
   "execution_count": null,
   "metadata": {},
   "outputs": [],
   "source": []
  },
  {
   "cell_type": "code",
   "execution_count": null,
   "metadata": {},
   "outputs": [],
   "source": []
  },
  {
   "cell_type": "code",
   "execution_count": null,
   "metadata": {},
   "outputs": [],
   "source": []
  },
  {
   "cell_type": "markdown",
   "metadata": {},
   "source": [
    "# LSTM For Regression with Time Steps"
   ]
  },
  {
   "cell_type": "code",
   "execution_count": null,
   "metadata": {},
   "outputs": [],
   "source": [
    "#change of previous code\n",
    "# reshape input to be [samples, time steps, features]\n",
    "trainX = numpy.reshape(trainX, (trainX.shape[0], trainX.shape[1], 1))\n",
    "testX = numpy.reshape(testX, (testX.shape[0], testX.shape[1], 1))"
   ]
  },
  {
   "cell_type": "code",
   "execution_count": null,
   "metadata": {},
   "outputs": [],
   "source": []
  },
  {
   "cell_type": "code",
   "execution_count": null,
   "metadata": {},
   "outputs": [],
   "source": []
  },
  {
   "cell_type": "code",
   "execution_count": 112,
   "metadata": {},
   "outputs": [],
   "source": [
    "import numpy as np\n",
    "import matplotlib.pyplot as plt\n",
    "import pandas as pd\n",
    "import math\n",
    "from keras.models import Sequential\n",
    "from keras.layers import Dense, LSTM\n",
    "from sklearn.preprocessing import MinMaxScaler\n",
    "from sklearn.metrics import mean_squared_error\n"
   ]
  },
  {
   "cell_type": "code",
   "execution_count": 113,
   "metadata": {},
   "outputs": [],
   "source": [
    "# fix random seed for reproducibility\n",
    "np.random.seed(7)\n"
   ]
  },
  {
   "cell_type": "code",
   "execution_count": null,
   "metadata": {},
   "outputs": [],
   "source": []
  },
  {
   "cell_type": "markdown",
   "metadata": {},
   "source": [
    "##### Reading dataset"
   ]
  },
  {
   "cell_type": "code",
   "execution_count": 114,
   "metadata": {},
   "outputs": [],
   "source": [
    "# load the dataset\n",
    "dataframe = pd.read_csv('/home/hasan/DATA SET/international-airline-passengers.csv', usecols=[1], engine='python', skipfooter=3)\n",
    "dataset = dataframe.values\n",
    "dataset = dataset.astype('float32')\n"
   ]
  },
  {
   "cell_type": "code",
   "execution_count": null,
   "metadata": {},
   "outputs": [],
   "source": []
  },
  {
   "cell_type": "markdown",
   "metadata": {},
   "source": [
    "##### Normalize dataset"
   ]
  },
  {
   "cell_type": "code",
   "execution_count": 115,
   "metadata": {},
   "outputs": [],
   "source": [
    "# normalize the dataset\n",
    "scaler = MinMaxScaler(feature_range=(0, 1))\n",
    "dataset = scaler.fit_transform(dataset)\n"
   ]
  },
  {
   "cell_type": "code",
   "execution_count": null,
   "metadata": {},
   "outputs": [],
   "source": []
  },
  {
   "cell_type": "markdown",
   "metadata": {},
   "source": [
    "##### split dataset"
   ]
  },
  {
   "cell_type": "code",
   "execution_count": 116,
   "metadata": {},
   "outputs": [
    {
     "name": "stdout",
     "output_type": "stream",
     "text": [
      "96 48\n"
     ]
    }
   ],
   "source": [
    "# split into train and test sets\n",
    "train_size = int(len(dataset) * 0.67)\n",
    "test_size = len(dataset) - train_size\n",
    "train, test = dataset[0:train_size,:], dataset[train_size:len(dataset),:]\n",
    "print(len(train), len(test))\n"
   ]
  },
  {
   "cell_type": "code",
   "execution_count": null,
   "metadata": {},
   "outputs": [],
   "source": []
  },
  {
   "cell_type": "markdown",
   "metadata": {},
   "source": [
    "##### Dividing into train test"
   ]
  },
  {
   "cell_type": "code",
   "execution_count": 117,
   "metadata": {},
   "outputs": [],
   "source": [
    "# convert an array of values into a dataset matrix\n",
    "def create_dataset(dataset, look_back=1):\n",
    "    dataX, dataY = [], []\n",
    "    for i in range(len(dataset)-look_back-1):\n",
    "        a = dataset[i:(i+look_back), 0]\n",
    "        dataX.append(a)\n",
    "        dataY.append(dataset[i + look_back, 0])\n",
    "    return np.array(dataX), np.array(dataY)\n"
   ]
  },
  {
   "cell_type": "code",
   "execution_count": 118,
   "metadata": {},
   "outputs": [],
   "source": [
    "# reshape dataset\n",
    "look_back = 3\n",
    "trainX, trainY = create_dataset(train, look_back)\n",
    "testX, testY = create_dataset(test, look_back)\n"
   ]
  },
  {
   "cell_type": "code",
   "execution_count": null,
   "metadata": {},
   "outputs": [],
   "source": []
  },
  {
   "cell_type": "markdown",
   "metadata": {},
   "source": [
    "##### Reshape "
   ]
  },
  {
   "cell_type": "code",
   "execution_count": 119,
   "metadata": {},
   "outputs": [],
   "source": [
    "# reshape input to be [samples, time steps, features]\n",
    "trainX = np.reshape(trainX, (trainX.shape[0], trainX.shape[1], 1))\n",
    "testX = np.reshape(testX, (testX.shape[0], testX.shape[1], 1))"
   ]
  },
  {
   "cell_type": "code",
   "execution_count": null,
   "metadata": {},
   "outputs": [],
   "source": []
  },
  {
   "cell_type": "markdown",
   "metadata": {},
   "source": [
    "##### Model"
   ]
  },
  {
   "cell_type": "code",
   "execution_count": 120,
   "metadata": {},
   "outputs": [],
   "source": [
    "# create and fit Multilayer Perceptron model\n",
    "model = Sequential()\n",
    "model.add(LSTM(4, input_shape=(None,1)))\n",
    "model.add(Dense(1))"
   ]
  },
  {
   "cell_type": "code",
   "execution_count": 121,
   "metadata": {},
   "outputs": [
    {
     "name": "stdout",
     "output_type": "stream",
     "text": [
      "Model: \"sequential_10\"\n",
      "_________________________________________________________________\n",
      "Layer (type)                 Output Shape              Param #   \n",
      "=================================================================\n",
      "lstm_8 (LSTM)                (None, 4)                 96        \n",
      "_________________________________________________________________\n",
      "dense_12 (Dense)             (None, 1)                 5         \n",
      "=================================================================\n",
      "Total params: 101\n",
      "Trainable params: 101\n",
      "Non-trainable params: 0\n",
      "_________________________________________________________________\n"
     ]
    }
   ],
   "source": [
    "#summary of the Model\n",
    "model.summary()\n"
   ]
  },
  {
   "cell_type": "code",
   "execution_count": 122,
   "metadata": {},
   "outputs": [],
   "source": [
    "#compile Model\n",
    "model.compile(loss='mean_squared_error', optimizer='adam')\n"
   ]
  },
  {
   "cell_type": "code",
   "execution_count": null,
   "metadata": {},
   "outputs": [],
   "source": []
  },
  {
   "cell_type": "markdown",
   "metadata": {},
   "source": [
    "##### Train Model"
   ]
  },
  {
   "cell_type": "code",
   "execution_count": 123,
   "metadata": {},
   "outputs": [
    {
     "name": "stdout",
     "output_type": "stream",
     "text": [
      "Epoch 1/200\n",
      " - 1s - loss: 0.0641\n",
      "Epoch 2/200\n",
      " - 0s - loss: 0.0269\n",
      "Epoch 3/200\n",
      " - 0s - loss: 0.0189\n",
      "Epoch 4/200\n",
      " - 0s - loss: 0.0167\n",
      "Epoch 5/200\n",
      " - 0s - loss: 0.0145\n",
      "Epoch 6/200\n",
      " - 0s - loss: 0.0127\n",
      "Epoch 7/200\n",
      " - 0s - loss: 0.0109\n",
      "Epoch 8/200\n",
      " - 0s - loss: 0.0093\n",
      "Epoch 9/200\n",
      " - 0s - loss: 0.0075\n",
      "Epoch 10/200\n",
      " - 0s - loss: 0.0064\n",
      "Epoch 11/200\n",
      " - 0s - loss: 0.0054\n",
      "Epoch 12/200\n",
      " - 0s - loss: 0.0048\n",
      "Epoch 13/200\n",
      " - 0s - loss: 0.0045\n",
      "Epoch 14/200\n",
      " - 0s - loss: 0.0042\n",
      "Epoch 15/200\n",
      " - 0s - loss: 0.0042\n",
      "Epoch 16/200\n",
      " - 0s - loss: 0.0042\n",
      "Epoch 17/200\n",
      " - 0s - loss: 0.0040\n",
      "Epoch 18/200\n",
      " - 0s - loss: 0.0041\n",
      "Epoch 19/200\n",
      " - 0s - loss: 0.0041\n",
      "Epoch 20/200\n",
      " - 0s - loss: 0.0040\n",
      "Epoch 21/200\n",
      " - 0s - loss: 0.0040\n",
      "Epoch 22/200\n",
      " - 0s - loss: 0.0040\n",
      "Epoch 23/200\n",
      " - 0s - loss: 0.0040\n",
      "Epoch 24/200\n",
      " - 0s - loss: 0.0040\n",
      "Epoch 25/200\n",
      " - 0s - loss: 0.0039\n",
      "Epoch 26/200\n",
      " - 0s - loss: 0.0040\n",
      "Epoch 27/200\n",
      " - 0s - loss: 0.0039\n",
      "Epoch 28/200\n",
      " - 0s - loss: 0.0041\n",
      "Epoch 29/200\n",
      " - 0s - loss: 0.0039\n",
      "Epoch 30/200\n",
      " - 0s - loss: 0.0038\n",
      "Epoch 31/200\n",
      " - 0s - loss: 0.0039\n",
      "Epoch 32/200\n",
      " - 0s - loss: 0.0038\n",
      "Epoch 33/200\n",
      " - 0s - loss: 0.0038\n",
      "Epoch 34/200\n",
      " - 0s - loss: 0.0038\n",
      "Epoch 35/200\n",
      " - 0s - loss: 0.0037\n",
      "Epoch 36/200\n",
      " - 0s - loss: 0.0037\n",
      "Epoch 37/200\n",
      " - 0s - loss: 0.0037\n",
      "Epoch 38/200\n",
      " - 0s - loss: 0.0037\n",
      "Epoch 39/200\n",
      " - 0s - loss: 0.0037\n",
      "Epoch 40/200\n",
      " - 0s - loss: 0.0037\n",
      "Epoch 41/200\n",
      " - 0s - loss: 0.0037\n",
      "Epoch 42/200\n",
      " - 0s - loss: 0.0037\n",
      "Epoch 43/200\n",
      " - 0s - loss: 0.0036\n",
      "Epoch 44/200\n",
      " - 0s - loss: 0.0036\n",
      "Epoch 45/200\n",
      " - 0s - loss: 0.0036\n",
      "Epoch 46/200\n",
      " - 0s - loss: 0.0037\n",
      "Epoch 47/200\n",
      " - 0s - loss: 0.0035\n",
      "Epoch 48/200\n",
      " - 0s - loss: 0.0035\n",
      "Epoch 49/200\n",
      " - 0s - loss: 0.0035\n",
      "Epoch 50/200\n",
      " - 0s - loss: 0.0035\n",
      "Epoch 51/200\n",
      " - 0s - loss: 0.0035\n",
      "Epoch 52/200\n",
      " - 0s - loss: 0.0035\n",
      "Epoch 53/200\n",
      " - 0s - loss: 0.0035\n",
      "Epoch 54/200\n",
      " - 0s - loss: 0.0034\n",
      "Epoch 55/200\n",
      " - 0s - loss: 0.0035\n",
      "Epoch 56/200\n",
      " - 0s - loss: 0.0034\n",
      "Epoch 57/200\n",
      " - 0s - loss: 0.0034\n",
      "Epoch 58/200\n",
      " - 0s - loss: 0.0034\n",
      "Epoch 59/200\n",
      " - 0s - loss: 0.0033\n",
      "Epoch 60/200\n",
      " - 0s - loss: 0.0034\n",
      "Epoch 61/200\n",
      " - 0s - loss: 0.0034\n",
      "Epoch 62/200\n",
      " - 0s - loss: 0.0033\n",
      "Epoch 63/200\n",
      " - 0s - loss: 0.0032\n",
      "Epoch 64/200\n",
      " - 0s - loss: 0.0036\n",
      "Epoch 65/200\n",
      " - 0s - loss: 0.0032\n",
      "Epoch 66/200\n",
      " - 0s - loss: 0.0033\n",
      "Epoch 67/200\n",
      " - 0s - loss: 0.0032\n",
      "Epoch 68/200\n",
      " - 0s - loss: 0.0033\n",
      "Epoch 69/200\n",
      " - 0s - loss: 0.0032\n",
      "Epoch 70/200\n",
      " - 0s - loss: 0.0032\n",
      "Epoch 71/200\n",
      " - 0s - loss: 0.0031\n",
      "Epoch 72/200\n",
      " - 0s - loss: 0.0033\n",
      "Epoch 73/200\n",
      " - 0s - loss: 0.0031\n",
      "Epoch 74/200\n",
      " - 0s - loss: 0.0032\n",
      "Epoch 75/200\n",
      " - 0s - loss: 0.0031\n",
      "Epoch 76/200\n",
      " - 0s - loss: 0.0031\n",
      "Epoch 77/200\n",
      " - 0s - loss: 0.0031\n",
      "Epoch 78/200\n",
      " - 0s - loss: 0.0031\n",
      "Epoch 79/200\n",
      " - 0s - loss: 0.0031\n",
      "Epoch 80/200\n",
      " - 0s - loss: 0.0031\n",
      "Epoch 81/200\n",
      " - 0s - loss: 0.0030\n",
      "Epoch 82/200\n",
      " - 0s - loss: 0.0030\n",
      "Epoch 83/200\n",
      " - 0s - loss: 0.0030\n",
      "Epoch 84/200\n",
      " - 0s - loss: 0.0029\n",
      "Epoch 85/200\n",
      " - 0s - loss: 0.0030\n",
      "Epoch 86/200\n",
      " - 0s - loss: 0.0028\n",
      "Epoch 87/200\n",
      " - 0s - loss: 0.0030\n",
      "Epoch 88/200\n",
      " - 0s - loss: 0.0029\n",
      "Epoch 89/200\n",
      " - 0s - loss: 0.0029\n",
      "Epoch 90/200\n",
      " - 0s - loss: 0.0028\n",
      "Epoch 91/200\n",
      " - 0s - loss: 0.0028\n",
      "Epoch 92/200\n",
      " - 0s - loss: 0.0028\n",
      "Epoch 93/200\n",
      " - 0s - loss: 0.0028\n",
      "Epoch 94/200\n",
      " - 0s - loss: 0.0027\n",
      "Epoch 95/200\n",
      " - 0s - loss: 0.0028\n",
      "Epoch 96/200\n",
      " - 0s - loss: 0.0028\n",
      "Epoch 97/200\n",
      " - 0s - loss: 0.0027\n",
      "Epoch 98/200\n",
      " - 0s - loss: 0.0027\n",
      "Epoch 99/200\n",
      " - 0s - loss: 0.0028\n",
      "Epoch 100/200\n",
      " - 0s - loss: 0.0026\n",
      "Epoch 101/200\n",
      " - 0s - loss: 0.0026\n",
      "Epoch 102/200\n",
      " - 0s - loss: 0.0026\n",
      "Epoch 103/200\n",
      " - 0s - loss: 0.0026\n",
      "Epoch 104/200\n",
      " - 0s - loss: 0.0026\n",
      "Epoch 105/200\n",
      " - 0s - loss: 0.0025\n",
      "Epoch 106/200\n",
      " - 0s - loss: 0.0025\n",
      "Epoch 107/200\n",
      " - 0s - loss: 0.0025\n",
      "Epoch 108/200\n",
      " - 0s - loss: 0.0024\n",
      "Epoch 109/200\n",
      " - 0s - loss: 0.0025\n",
      "Epoch 110/200\n",
      " - 0s - loss: 0.0024\n",
      "Epoch 111/200\n",
      " - 0s - loss: 0.0024\n",
      "Epoch 112/200\n",
      " - 0s - loss: 0.0024\n",
      "Epoch 113/200\n",
      " - 0s - loss: 0.0024\n",
      "Epoch 114/200\n",
      " - 0s - loss: 0.0023\n",
      "Epoch 115/200\n",
      " - 0s - loss: 0.0022\n",
      "Epoch 116/200\n",
      " - 0s - loss: 0.0022\n",
      "Epoch 117/200\n",
      " - 0s - loss: 0.0023\n",
      "Epoch 118/200\n",
      " - 0s - loss: 0.0022\n",
      "Epoch 119/200\n",
      " - 0s - loss: 0.0022\n",
      "Epoch 120/200\n",
      " - 0s - loss: 0.0022\n",
      "Epoch 121/200\n",
      " - 0s - loss: 0.0022\n",
      "Epoch 122/200\n",
      " - 0s - loss: 0.0022\n",
      "Epoch 123/200\n",
      " - 0s - loss: 0.0021\n",
      "Epoch 124/200\n",
      " - 0s - loss: 0.0021\n",
      "Epoch 125/200\n",
      " - 0s - loss: 0.0021\n",
      "Epoch 126/200\n",
      " - 0s - loss: 0.0020\n",
      "Epoch 127/200\n",
      " - 0s - loss: 0.0020\n",
      "Epoch 128/200\n",
      " - 0s - loss: 0.0020\n",
      "Epoch 129/200\n",
      " - 0s - loss: 0.0020\n",
      "Epoch 130/200\n",
      " - 0s - loss: 0.0021\n",
      "Epoch 131/200\n",
      " - 0s - loss: 0.0020\n",
      "Epoch 132/200\n",
      " - 0s - loss: 0.0020\n",
      "Epoch 133/200\n",
      " - 0s - loss: 0.0019\n",
      "Epoch 134/200\n",
      " - 0s - loss: 0.0020\n",
      "Epoch 135/200\n",
      " - 0s - loss: 0.0019\n",
      "Epoch 136/200\n",
      " - 0s - loss: 0.0019\n",
      "Epoch 137/200\n",
      " - 0s - loss: 0.0018\n",
      "Epoch 138/200\n",
      " - 0s - loss: 0.0019\n",
      "Epoch 139/200\n",
      " - 0s - loss: 0.0019\n",
      "Epoch 140/200\n",
      " - 0s - loss: 0.0020\n",
      "Epoch 141/200\n",
      " - 0s - loss: 0.0018\n",
      "Epoch 142/200\n",
      " - 0s - loss: 0.0019\n",
      "Epoch 143/200\n",
      " - 0s - loss: 0.0019\n",
      "Epoch 144/200\n",
      " - 0s - loss: 0.0018\n",
      "Epoch 145/200\n",
      " - 0s - loss: 0.0018\n",
      "Epoch 146/200\n",
      " - 0s - loss: 0.0018\n",
      "Epoch 147/200\n",
      " - 0s - loss: 0.0018\n",
      "Epoch 148/200\n",
      " - 0s - loss: 0.0019\n",
      "Epoch 149/200\n",
      " - 0s - loss: 0.0017\n",
      "Epoch 150/200\n",
      " - 0s - loss: 0.0018\n",
      "Epoch 151/200\n",
      " - 0s - loss: 0.0018\n",
      "Epoch 152/200\n",
      " - 0s - loss: 0.0018\n",
      "Epoch 153/200\n",
      " - 0s - loss: 0.0019\n",
      "Epoch 154/200\n",
      " - 0s - loss: 0.0018\n",
      "Epoch 155/200\n",
      " - 0s - loss: 0.0016\n",
      "Epoch 156/200\n",
      " - 0s - loss: 0.0017\n",
      "Epoch 157/200\n",
      " - 0s - loss: 0.0017\n",
      "Epoch 158/200\n",
      " - 0s - loss: 0.0018\n",
      "Epoch 159/200\n",
      " - 0s - loss: 0.0018\n",
      "Epoch 160/200\n",
      " - 0s - loss: 0.0017\n",
      "Epoch 161/200\n",
      " - 0s - loss: 0.0017\n",
      "Epoch 162/200\n",
      " - 0s - loss: 0.0017\n",
      "Epoch 163/200\n",
      " - 0s - loss: 0.0017\n",
      "Epoch 164/200\n",
      " - 0s - loss: 0.0018\n",
      "Epoch 165/200\n",
      " - 0s - loss: 0.0017\n",
      "Epoch 166/200\n",
      " - 0s - loss: 0.0018\n",
      "Epoch 167/200\n",
      " - 0s - loss: 0.0017\n",
      "Epoch 168/200\n",
      " - 0s - loss: 0.0018\n",
      "Epoch 169/200\n",
      " - 0s - loss: 0.0018\n",
      "Epoch 170/200\n",
      " - 0s - loss: 0.0017\n",
      "Epoch 171/200\n",
      " - 0s - loss: 0.0017\n",
      "Epoch 172/200\n",
      " - 0s - loss: 0.0017\n",
      "Epoch 173/200\n",
      " - 0s - loss: 0.0017\n",
      "Epoch 174/200\n",
      " - 0s - loss: 0.0017\n",
      "Epoch 175/200\n",
      " - 0s - loss: 0.0017\n",
      "Epoch 176/200\n",
      " - 0s - loss: 0.0017\n",
      "Epoch 177/200\n",
      " - 0s - loss: 0.0017\n",
      "Epoch 178/200\n",
      " - 0s - loss: 0.0017\n",
      "Epoch 179/200\n",
      " - 0s - loss: 0.0017\n",
      "Epoch 180/200\n",
      " - 0s - loss: 0.0017\n",
      "Epoch 181/200\n",
      " - 0s - loss: 0.0019\n",
      "Epoch 182/200\n",
      " - 0s - loss: 0.0017\n",
      "Epoch 183/200\n",
      " - 0s - loss: 0.0017\n",
      "Epoch 184/200\n",
      " - 0s - loss: 0.0017\n",
      "Epoch 185/200\n",
      " - 0s - loss: 0.0019\n",
      "Epoch 186/200\n",
      " - 0s - loss: 0.0017\n",
      "Epoch 187/200\n",
      " - 0s - loss: 0.0018\n",
      "Epoch 188/200\n",
      " - 0s - loss: 0.0017\n",
      "Epoch 189/200\n",
      " - 0s - loss: 0.0017\n",
      "Epoch 190/200\n",
      " - 0s - loss: 0.0016\n",
      "Epoch 191/200\n",
      " - 0s - loss: 0.0017\n",
      "Epoch 192/200\n",
      " - 0s - loss: 0.0017\n",
      "Epoch 193/200\n",
      " - 0s - loss: 0.0017\n",
      "Epoch 194/200\n",
      " - 0s - loss: 0.0017\n",
      "Epoch 195/200\n",
      " - 0s - loss: 0.0017\n",
      "Epoch 196/200\n",
      " - 0s - loss: 0.0017\n",
      "Epoch 197/200\n",
      " - 0s - loss: 0.0017\n",
      "Epoch 198/200\n",
      " - 0s - loss: 0.0017\n",
      "Epoch 199/200\n",
      " - 0s - loss: 0.0017\n",
      "Epoch 200/200\n",
      " - 0s - loss: 0.0017\n"
     ]
    },
    {
     "data": {
      "text/plain": [
       "<keras.callbacks.callbacks.History at 0x7f71bf029a50>"
      ]
     },
     "execution_count": 123,
     "metadata": {},
     "output_type": "execute_result"
    }
   ],
   "source": [
    "model.fit(trainX, trainY, epochs=200, batch_size=1, verbose=2)\n"
   ]
  },
  {
   "cell_type": "code",
   "execution_count": null,
   "metadata": {},
   "outputs": [],
   "source": []
  },
  {
   "cell_type": "markdown",
   "metadata": {},
   "source": [
    "##### Predict"
   ]
  },
  {
   "cell_type": "code",
   "execution_count": 124,
   "metadata": {},
   "outputs": [],
   "source": [
    "# generate predictions for training\n",
    "trainPredict = model.predict(trainX)\n",
    "testPredict = model.predict(testX)\n"
   ]
  },
  {
   "cell_type": "code",
   "execution_count": null,
   "metadata": {},
   "outputs": [],
   "source": []
  },
  {
   "cell_type": "markdown",
   "metadata": {},
   "source": [
    "##### inverse Prediction"
   ]
  },
  {
   "cell_type": "code",
   "execution_count": 125,
   "metadata": {},
   "outputs": [],
   "source": [
    "# invert predictions\n",
    "trainPredict = scaler.inverse_transform(trainPredict)\n",
    "trainY = scaler.inverse_transform([trainY])\n",
    "testPredict = scaler.inverse_transform(testPredict)\n",
    "testY = scaler.inverse_transform([testY])"
   ]
  },
  {
   "cell_type": "code",
   "execution_count": null,
   "metadata": {},
   "outputs": [],
   "source": []
  },
  {
   "cell_type": "markdown",
   "metadata": {},
   "source": [
    "##### Evaluate Model"
   ]
  },
  {
   "cell_type": "code",
   "execution_count": 126,
   "metadata": {},
   "outputs": [
    {
     "name": "stdout",
     "output_type": "stream",
     "text": [
      "Train Score: 20.85 RMSE\n",
      "Test Score: 49.85 RMSE\n"
     ]
    }
   ],
   "source": [
    "# calculate root mean squared error\n",
    "trainScore = math.sqrt(mean_squared_error(trainY[0], trainPredict[:,0]))\n",
    "print('Train Score: %.2f RMSE' % (trainScore))\n",
    "testScore = math.sqrt(mean_squared_error(testY[0], testPredict[:,0]))\n",
    "print('Test Score: %.2f RMSE' % (testScore))"
   ]
  },
  {
   "cell_type": "code",
   "execution_count": null,
   "metadata": {},
   "outputs": [],
   "source": []
  },
  {
   "cell_type": "code",
   "execution_count": null,
   "metadata": {},
   "outputs": [],
   "source": []
  },
  {
   "cell_type": "markdown",
   "metadata": {},
   "source": [
    "##### Visualize"
   ]
  },
  {
   "cell_type": "code",
   "execution_count": 127,
   "metadata": {},
   "outputs": [],
   "source": [
    "# shift train predictions for plotting\n",
    "trainPredictPlot = np.empty_like(dataset)\n",
    "trainPredictPlot[:, :] = np.nan\n",
    "trainPredictPlot[look_back:len(trainPredict)+look_back, :] = trainPredict\n",
    "# shift test predictions for plotting\n",
    "testPredictPlot = np.empty_like(dataset)\n",
    "testPredictPlot[:, :] = np.nan\n",
    "testPredictPlot[len(trainPredict)+(look_back*2)+1:len(dataset)-1, :] = testPredict\n"
   ]
  },
  {
   "cell_type": "code",
   "execution_count": 128,
   "metadata": {},
   "outputs": [
    {
     "data": {
      "image/png": "[encoded data removed]",
      "text/plain": [
       "<Figure size 432x288 with 1 Axes>"
      ]
     },
     "metadata": {
      "needs_background": "light"
     },
     "output_type": "display_data"
    }
   ],
   "source": [
    "# plot baseline and predictions\n",
    "plt.plot(scaler.inverse_transform(dataset))\n",
    "plt.plot(trainPredictPlot)\n",
    "plt.plot(testPredictPlot)\n",
    "plt.show()\n"
   ]
  },
  {
   "cell_type": "code",
   "execution_count": null,
   "metadata": {},
   "outputs": [],
   "source": []
  },
  {
   "cell_type": "code",
   "execution_count": null,
   "metadata": {},
   "outputs": [],
   "source": []
  },
  {
   "cell_type": "code",
   "execution_count": null,
   "metadata": {},
   "outputs": [],
   "source": []
  },
  {
   "cell_type": "code",
   "execution_count": null,
   "metadata": {},
   "outputs": [],
   "source": []
  },
  {
   "cell_type": "markdown",
   "metadata": {},
   "source": [
    "# LSTM With Memory Between Batches"
   ]
  },
  {
   "cell_type": "code",
   "execution_count": null,
   "metadata": {},
   "outputs": [],
   "source": [
    "#change of previous code\n",
    "for i in range(100):\n",
    "    model.fit(trainX, trainY, nb_epoch=1, batch_size=batch_size, verbose=2, shuffle=False)\n",
    "    model.reset_states()\n"
   ]
  },
  {
   "cell_type": "code",
   "execution_count": null,
   "metadata": {},
   "outputs": [],
   "source": []
  },
  {
   "cell_type": "code",
   "execution_count": 131,
   "metadata": {},
   "outputs": [],
   "source": [
    "import numpy as np\n",
    "import matplotlib.pyplot as plt\n",
    "import pandas as pd\n",
    "import math\n",
    "from keras.models import Sequential\n",
    "from keras.layers import Dense, LSTM\n",
    "from sklearn.preprocessing import MinMaxScaler\n",
    "from sklearn.metrics import mean_squared_error"
   ]
  },
  {
   "cell_type": "code",
   "execution_count": 132,
   "metadata": {},
   "outputs": [],
   "source": [
    "# fix random seed for reproducibility\n",
    "np.random.seed(7)"
   ]
  },
  {
   "cell_type": "code",
   "execution_count": null,
   "metadata": {},
   "outputs": [],
   "source": []
  },
  {
   "cell_type": "markdown",
   "metadata": {},
   "source": [
    "##### Reading dataset"
   ]
  },
  {
   "cell_type": "code",
   "execution_count": 133,
   "metadata": {},
   "outputs": [],
   "source": [
    "# load the dataset\n",
    "dataframe = pd.read_csv('/home/hasan/DATA SET/international-airline-passengers.csv', usecols=[1], engine='python', skipfooter=3)\n",
    "dataset = dataframe.values\n",
    "dataset = dataset.astype('float32')\n"
   ]
  },
  {
   "cell_type": "code",
   "execution_count": null,
   "metadata": {},
   "outputs": [],
   "source": []
  },
  {
   "cell_type": "markdown",
   "metadata": {},
   "source": [
    "##### Normalize data"
   ]
  },
  {
   "cell_type": "code",
   "execution_count": 134,
   "metadata": {},
   "outputs": [],
   "source": [
    "# normalize the dataset\n",
    "scaler = MinMaxScaler(feature_range=(0, 1))\n",
    "dataset = scaler.fit_transform(dataset)\n"
   ]
  },
  {
   "cell_type": "code",
   "execution_count": null,
   "metadata": {},
   "outputs": [],
   "source": []
  },
  {
   "cell_type": "markdown",
   "metadata": {},
   "source": [
    "##### spliting dataset"
   ]
  },
  {
   "cell_type": "code",
   "execution_count": 135,
   "metadata": {},
   "outputs": [
    {
     "name": "stdout",
     "output_type": "stream",
     "text": [
      "96 48\n"
     ]
    }
   ],
   "source": [
    "# split into train and test sets\n",
    "train_size = int(len(dataset) * 0.67)\n",
    "test_size = len(dataset) - train_size\n",
    "train, test = dataset[0:train_size,:], dataset[train_size:len(dataset),:]\n",
    "print(len(train), len(test))\n"
   ]
  },
  {
   "cell_type": "code",
   "execution_count": null,
   "metadata": {},
   "outputs": [],
   "source": []
  },
  {
   "cell_type": "markdown",
   "metadata": {},
   "source": [
    "##### Dividing dataset into train test"
   ]
  },
  {
   "cell_type": "code",
   "execution_count": 136,
   "metadata": {},
   "outputs": [],
   "source": [
    "# convert an array of values into a dataset matrix\n",
    "def create_dataset(dataset, look_back=1):\n",
    "    dataX, dataY = [], []\n",
    "    for i in range(len(dataset)-look_back-1):\n",
    "        a = dataset[i:(i+look_back), 0]\n",
    "        dataX.append(a)\n",
    "        dataY.append(dataset[i + look_back, 0])\n",
    "    return np.array(dataX), np.array(dataY)\n"
   ]
  },
  {
   "cell_type": "code",
   "execution_count": 137,
   "metadata": {},
   "outputs": [],
   "source": [
    "# reshape dataset\n",
    "look_back = 3\n",
    "trainX, trainY = create_dataset(train, look_back)\n",
    "testX, testY = create_dataset(test, look_back)\n"
   ]
  },
  {
   "cell_type": "code",
   "execution_count": null,
   "metadata": {},
   "outputs": [],
   "source": []
  },
  {
   "cell_type": "markdown",
   "metadata": {},
   "source": [
    "##### Reshape"
   ]
  },
  {
   "cell_type": "code",
   "execution_count": 138,
   "metadata": {},
   "outputs": [],
   "source": [
    "# reshape input to be [samples, time steps, features]\n",
    "trainX = np.reshape(trainX, (trainX.shape[0], trainX.shape[1], 1))\n",
    "testX = np.reshape(testX, (testX.shape[0], testX.shape[1], 1))\n"
   ]
  },
  {
   "cell_type": "code",
   "execution_count": null,
   "metadata": {},
   "outputs": [],
   "source": []
  },
  {
   "cell_type": "markdown",
   "metadata": {},
   "source": [
    "##### Model"
   ]
  },
  {
   "cell_type": "code",
   "execution_count": 139,
   "metadata": {},
   "outputs": [],
   "source": [
    "batch_size = 1\n",
    "model = Sequential()\n",
    "model.add(LSTM(4, batch_input_shape=(batch_size, look_back, 1), stateful=True))\n",
    "model.add(Dense(1))\n"
   ]
  },
  {
   "cell_type": "code",
   "execution_count": 140,
   "metadata": {},
   "outputs": [
    {
     "name": "stdout",
     "output_type": "stream",
     "text": [
      "Model: \"sequential_11\"\n",
      "_________________________________________________________________\n",
      "Layer (type)                 Output Shape              Param #   \n",
      "=================================================================\n",
      "lstm_9 (LSTM)                (1, 4)                    96        \n",
      "_________________________________________________________________\n",
      "dense_13 (Dense)             (1, 1)                    5         \n",
      "=================================================================\n",
      "Total params: 101\n",
      "Trainable params: 101\n",
      "Non-trainable params: 0\n",
      "_________________________________________________________________\n"
     ]
    }
   ],
   "source": [
    "#summary of the model\n",
    "model.summary()\n"
   ]
  },
  {
   "cell_type": "code",
   "execution_count": 141,
   "metadata": {},
   "outputs": [],
   "source": [
    "#compile model\n",
    "model.compile(loss='mean_squared_error', \n",
    "              optimizer= 'adam')\n"
   ]
  },
  {
   "cell_type": "code",
   "execution_count": null,
   "metadata": {},
   "outputs": [],
   "source": []
  },
  {
   "cell_type": "markdown",
   "metadata": {},
   "source": [
    "##### Fit Model"
   ]
  },
  {
   "cell_type": "code",
   "execution_count": 142,
   "metadata": {},
   "outputs": [
    {
     "name": "stdout",
     "output_type": "stream",
     "text": [
      "Epoch 1/1\n",
      " - 1s - loss: 0.0046\n",
      "Epoch 1/1\n",
      " - 0s - loss: 0.0084\n",
      "Epoch 1/1\n",
      " - 0s - loss: 0.0063\n",
      "Epoch 1/1\n",
      " - 0s - loss: 0.0052\n",
      "Epoch 1/1\n",
      " - 0s - loss: 0.0046\n",
      "Epoch 1/1\n",
      " - 0s - loss: 0.0044\n",
      "Epoch 1/1\n",
      " - 0s - loss: 0.0042\n",
      "Epoch 1/1\n",
      " - 0s - loss: 0.0042\n",
      "Epoch 1/1\n",
      " - 0s - loss: 0.0042\n",
      "Epoch 1/1\n",
      " - 0s - loss: 0.0041\n",
      "Epoch 1/1\n",
      " - 0s - loss: 0.0041\n",
      "Epoch 1/1\n",
      " - 0s - loss: 0.0041\n",
      "Epoch 1/1\n",
      " - 0s - loss: 0.0041\n",
      "Epoch 1/1\n",
      " - 0s - loss: 0.0040\n",
      "Epoch 1/1\n",
      " - 0s - loss: 0.0040\n",
      "Epoch 1/1\n",
      " - 0s - loss: 0.0040\n",
      "Epoch 1/1\n",
      " - 0s - loss: 0.0040\n",
      "Epoch 1/1\n",
      " - 0s - loss: 0.0039\n",
      "Epoch 1/1\n",
      " - 0s - loss: 0.0039\n",
      "Epoch 1/1\n",
      " - 0s - loss: 0.0039\n",
      "Epoch 1/1\n",
      " - 0s - loss: 0.0039\n",
      "Epoch 1/1\n",
      " - 0s - loss: 0.0038\n",
      "Epoch 1/1\n",
      " - 0s - loss: 0.0038\n",
      "Epoch 1/1\n",
      " - 0s - loss: 0.0038\n",
      "Epoch 1/1\n",
      " - 0s - loss: 0.0038\n",
      "Epoch 1/1\n",
      " - 0s - loss: 0.0037\n",
      "Epoch 1/1\n",
      " - 0s - loss: 0.0037\n",
      "Epoch 1/1\n",
      " - 0s - loss: 0.0037\n",
      "Epoch 1/1\n",
      " - 0s - loss: 0.0037\n",
      "Epoch 1/1\n",
      " - 0s - loss: 0.0036\n",
      "Epoch 1/1\n",
      " - 0s - loss: 0.0036\n",
      "Epoch 1/1\n",
      " - 0s - loss: 0.0036\n",
      "Epoch 1/1\n",
      " - 0s - loss: 0.0036\n",
      "Epoch 1/1\n",
      " - 0s - loss: 0.0035\n",
      "Epoch 1/1\n",
      " - 0s - loss: 0.0035\n",
      "Epoch 1/1\n",
      " - 0s - loss: 0.0035\n",
      "Epoch 1/1\n",
      " - 0s - loss: 0.0035\n",
      "Epoch 1/1\n",
      " - 0s - loss: 0.0034\n",
      "Epoch 1/1\n",
      " - 0s - loss: 0.0034\n",
      "Epoch 1/1\n",
      " - 0s - loss: 0.0034\n",
      "Epoch 1/1\n",
      " - 0s - loss: 0.0034\n",
      "Epoch 1/1\n",
      " - 0s - loss: 0.0033\n",
      "Epoch 1/1\n",
      " - 0s - loss: 0.0033\n",
      "Epoch 1/1\n",
      " - 0s - loss: 0.0033\n",
      "Epoch 1/1\n",
      " - 0s - loss: 0.0032\n",
      "Epoch 1/1\n",
      " - 0s - loss: 0.0032\n",
      "Epoch 1/1\n",
      " - 0s - loss: 0.0032\n",
      "Epoch 1/1\n",
      " - 0s - loss: 0.0032\n",
      "Epoch 1/1\n",
      " - 0s - loss: 0.0031\n",
      "Epoch 1/1\n",
      " - 0s - loss: 0.0031\n",
      "Epoch 1/1\n",
      " - 0s - loss: 0.0031\n",
      "Epoch 1/1\n",
      " - 0s - loss: 0.0030\n",
      "Epoch 1/1\n",
      " - 0s - loss: 0.0030\n",
      "Epoch 1/1\n",
      " - 0s - loss: 0.0030\n",
      "Epoch 1/1\n",
      " - 0s - loss: 0.0030\n",
      "Epoch 1/1\n",
      " - 0s - loss: 0.0029\n",
      "Epoch 1/1\n",
      " - 0s - loss: 0.0029\n",
      "Epoch 1/1\n",
      " - 0s - loss: 0.0029\n",
      "Epoch 1/1\n",
      " - 0s - loss: 0.0028\n",
      "Epoch 1/1\n",
      " - 0s - loss: 0.0028\n",
      "Epoch 1/1\n",
      " - 0s - loss: 0.0028\n",
      "Epoch 1/1\n",
      " - 0s - loss: 0.0028\n",
      "Epoch 1/1\n",
      " - 0s - loss: 0.0027\n",
      "Epoch 1/1\n",
      " - 0s - loss: 0.0027\n",
      "Epoch 1/1\n",
      " - 0s - loss: 0.0027\n",
      "Epoch 1/1\n",
      " - 0s - loss: 0.0027\n",
      "Epoch 1/1\n",
      " - 0s - loss: 0.0026\n",
      "Epoch 1/1\n",
      " - 0s - loss: 0.0026\n",
      "Epoch 1/1\n",
      " - 0s - loss: 0.0026\n",
      "Epoch 1/1\n",
      " - 0s - loss: 0.0026\n",
      "Epoch 1/1\n",
      " - 0s - loss: 0.0025\n",
      "Epoch 1/1\n",
      " - 0s - loss: 0.0025\n",
      "Epoch 1/1\n",
      " - 0s - loss: 0.0025\n",
      "Epoch 1/1\n",
      " - 0s - loss: 0.0025\n",
      "Epoch 1/1\n",
      " - 0s - loss: 0.0024\n",
      "Epoch 1/1\n",
      " - 0s - loss: 0.0024\n",
      "Epoch 1/1\n",
      " - 0s - loss: 0.0024\n",
      "Epoch 1/1\n",
      " - 0s - loss: 0.0024\n",
      "Epoch 1/1\n",
      " - 0s - loss: 0.0024\n",
      "Epoch 1/1\n",
      " - 0s - loss: 0.0023\n",
      "Epoch 1/1\n",
      " - 0s - loss: 0.0023\n",
      "Epoch 1/1\n",
      " - 0s - loss: 0.0023\n",
      "Epoch 1/1\n",
      " - 0s - loss: 0.0023\n",
      "Epoch 1/1\n",
      " - 0s - loss: 0.0023\n",
      "Epoch 1/1\n",
      " - 0s - loss: 0.0022\n",
      "Epoch 1/1\n",
      " - 0s - loss: 0.0022\n",
      "Epoch 1/1\n",
      " - 0s - loss: 0.0022\n",
      "Epoch 1/1\n",
      " - 0s - loss: 0.0022\n",
      "Epoch 1/1\n",
      " - 0s - loss: 0.0022\n",
      "Epoch 1/1\n",
      " - 0s - loss: 0.0022\n",
      "Epoch 1/1\n",
      " - 0s - loss: 0.0021\n",
      "Epoch 1/1\n",
      " - 0s - loss: 0.0021\n",
      "Epoch 1/1\n",
      " - 0s - loss: 0.0021\n",
      "Epoch 1/1\n",
      " - 0s - loss: 0.0021\n",
      "Epoch 1/1\n",
      " - 0s - loss: 0.0021\n",
      "Epoch 1/1\n",
      " - 0s - loss: 0.0021\n",
      "Epoch 1/1\n",
      " - 0s - loss: 0.0021\n",
      "Epoch 1/1\n",
      " - 0s - loss: 0.0021\n",
      "Epoch 1/1\n",
      " - 0s - loss: 0.0020\n",
      "Epoch 1/1\n",
      " - 0s - loss: 0.0020\n"
     ]
    }
   ],
   "source": [
    "for i in range(100):\n",
    "    model.fit(trainX, trainY, epochs=1, batch_size=batch_size, verbose=2, shuffle=False)\n",
    "    model.reset_states()\n",
    "    "
   ]
  },
  {
   "cell_type": "code",
   "execution_count": null,
   "metadata": {},
   "outputs": [],
   "source": []
  },
  {
   "cell_type": "markdown",
   "metadata": {},
   "source": [
    "##### Predict"
   ]
  },
  {
   "cell_type": "code",
   "execution_count": 143,
   "metadata": {},
   "outputs": [],
   "source": [
    "# make predictions\n",
    "trainPredict = model.predict(trainX, batch_size=batch_size)\n",
    "model.reset_states()\n",
    "testPredict = model.predict(testX, batch_size=batch_size)\n"
   ]
  },
  {
   "cell_type": "code",
   "execution_count": null,
   "metadata": {},
   "outputs": [],
   "source": []
  },
  {
   "cell_type": "markdown",
   "metadata": {},
   "source": [
    "##### invert prediction"
   ]
  },
  {
   "cell_type": "code",
   "execution_count": 144,
   "metadata": {},
   "outputs": [],
   "source": [
    "# invert predictions\n",
    "trainPredict = scaler.inverse_transform(trainPredict)\n",
    "trainY = scaler.inverse_transform([trainY])\n",
    "testPredict = scaler.inverse_transform(testPredict)\n",
    "testY = scaler.inverse_transform([testY])\n"
   ]
  },
  {
   "cell_type": "code",
   "execution_count": null,
   "metadata": {},
   "outputs": [],
   "source": []
  },
  {
   "cell_type": "markdown",
   "metadata": {},
   "source": [
    "##### root mean square"
   ]
  },
  {
   "cell_type": "code",
   "execution_count": 145,
   "metadata": {},
   "outputs": [
    {
     "name": "stdout",
     "output_type": "stream",
     "text": [
      "Train Score: 26.14 RMSE\n",
      "Test Score: 50.59 RMSE\n"
     ]
    }
   ],
   "source": [
    "# calculate root mean squared error\n",
    "trainScore = math.sqrt(mean_squared_error(trainY[0], trainPredict[:,0]))\n",
    "print('Train Score: %.2f RMSE' % (trainScore))\n",
    "testScore = math.sqrt(mean_squared_error(testY[0], testPredict[:,0]))\n",
    "print('Test Score: %.2f RMSE' % (testScore))\n"
   ]
  },
  {
   "cell_type": "code",
   "execution_count": null,
   "metadata": {},
   "outputs": [],
   "source": []
  },
  {
   "cell_type": "markdown",
   "metadata": {},
   "source": [
    "##### Visualization"
   ]
  },
  {
   "cell_type": "code",
   "execution_count": 146,
   "metadata": {},
   "outputs": [],
   "source": [
    "# shift train predictions for plotting\n",
    "trainPredictPlot = np.empty_like(dataset)\n",
    "trainPredictPlot[:, :] = np.nan\n",
    "trainPredictPlot[look_back:len(trainPredict)+look_back, :] = trainPredict\n",
    "# shift test predictions for plotting\n",
    "testPredictPlot = np.empty_like(dataset)\n",
    "testPredictPlot[:, :] = np.nan\n",
    "testPredictPlot[len(trainPredict)+(look_back*2)+1:len(dataset)-1, :] = testPredict\n"
   ]
  },
  {
   "cell_type": "code",
   "execution_count": 147,
   "metadata": {},
   "outputs": [
    {
     "data": {
      "image/png": "[encoded data removed]",
      "text/plain": [
       "<Figure size 432x288 with 1 Axes>"
      ]
     },
     "metadata": {
      "needs_background": "light"
     },
     "output_type": "display_data"
    }
   ],
   "source": [
    "# plot baseline and predictions\n",
    "plt.plot(scaler.inverse_transform(dataset))\n",
    "plt.plot(trainPredictPlot)\n",
    "plt.plot(testPredictPlot)\n",
    "plt.show()\n"
   ]
  },
  {
   "cell_type": "code",
   "execution_count": null,
   "metadata": {},
   "outputs": [],
   "source": []
  },
  {
   "cell_type": "code",
   "execution_count": null,
   "metadata": {},
   "outputs": [],
   "source": []
  }
 ],
 "metadata": {
  "kernelspec": {
   "display_name": "Python 3",
   "language": "python",
   "name": "python3"
  },
  "language_info": {
   "codemirror_mode": {
    "name": "ipython",
    "version": 3
   },
   "file_extension": ".py",
   "mimetype": "text/x-python",
   "name": "python",
   "nbconvert_exporter": "python",
   "pygments_lexer": "ipython3",
   "version": "3.7.4"
  }
 },
 "nbformat": 4,
 "nbformat_minor": 2
}
