{
 "cells": [
  {
   "cell_type": "markdown",
   "metadata": {},
   "source": [
    "# Predict Sentiment From Movie Reviews"
   ]
  },
  {
   "cell_type": "code",
   "execution_count": 44,
   "metadata": {},
   "outputs": [],
   "source": [
    "import numpy as np\n",
    "from keras.datasets import imdb\n",
    "from keras.models import Sequential\n",
    "from keras.layers import Dense\n",
    "from keras.layers import Flatten\n",
    "from keras.layers.embeddings import Embedding\n",
    "from keras.preprocessing import sequence\n"
   ]
  },
  {
   "cell_type": "code",
   "execution_count": 45,
   "metadata": {},
   "outputs": [],
   "source": [
    "seed = 7\n",
    "numpy.random.seed(seed)"
   ]
  },
  {
   "cell_type": "markdown",
   "metadata": {},
   "source": [
    "##### Loading Dataset"
   ]
  },
  {
   "cell_type": "code",
   "execution_count": 46,
   "metadata": {},
   "outputs": [],
   "source": [
    "top_words = 10000\n",
    "(X_train, y_train), (X_test, y_test) = imdb.load_data(num_words=top_words)"
   ]
  },
  {
   "cell_type": "code",
   "execution_count": null,
   "metadata": {},
   "outputs": [],
   "source": []
  },
  {
   "cell_type": "markdown",
   "metadata": {},
   "source": [
    "##### Pad-Sequence"
   ]
  },
  {
   "cell_type": "code",
   "execution_count": 47,
   "metadata": {},
   "outputs": [],
   "source": [
    "max_words = 500\n",
    "X_train = sequence.pad_sequences(X_train, maxlen=max_words)\n",
    "X_test = sequence.pad_sequences(X_test, maxlen=max_words)"
   ]
  },
  {
   "cell_type": "code",
   "execution_count": null,
   "metadata": {},
   "outputs": [],
   "source": []
  },
  {
   "cell_type": "markdown",
   "metadata": {},
   "source": [
    "##### Model"
   ]
  },
  {
   "cell_type": "code",
   "execution_count": 48,
   "metadata": {},
   "outputs": [],
   "source": [
    "model = Sequential()\n",
    "model.add(Embedding(top_words, 32, input_length=max_words))\n",
    "model.add(Flatten())\n",
    "model.add(Dense(250, activation='relu'))\n",
    "model.add(Dense(1, activation='sigmoid'))\n"
   ]
  },
  {
   "cell_type": "code",
   "execution_count": 49,
   "metadata": {},
   "outputs": [
    {
     "name": "stdout",
     "output_type": "stream",
     "text": [
      "Model: \"sequential_3\"\n",
      "_________________________________________________________________\n",
      "Layer (type)                 Output Shape              Param #   \n",
      "=================================================================\n",
      "embedding_3 (Embedding)      (None, 500, 32)           320000    \n",
      "_________________________________________________________________\n",
      "flatten_3 (Flatten)          (None, 16000)             0         \n",
      "_________________________________________________________________\n",
      "dense_5 (Dense)              (None, 250)               4000250   \n",
      "_________________________________________________________________\n",
      "dense_6 (Dense)              (None, 1)                 251       \n",
      "=================================================================\n",
      "Total params: 4,320,501\n",
      "Trainable params: 4,320,501\n",
      "Non-trainable params: 0\n",
      "_________________________________________________________________\n",
      "None\n"
     ]
    }
   ],
   "source": [
    "#summary of the Model\n",
    "print(model.summary())"
   ]
  },
  {
   "cell_type": "code",
   "execution_count": 50,
   "metadata": {},
   "outputs": [],
   "source": [
    "#compile Model\n",
    "model.compile(loss='binary_crossentropy', \n",
    "              optimizer='adam', \n",
    "              metrics=['accuracy'])\n"
   ]
  },
  {
   "cell_type": "code",
   "execution_count": null,
   "metadata": {},
   "outputs": [],
   "source": []
  },
  {
   "cell_type": "markdown",
   "metadata": {},
   "source": [
    "##### Fit Model"
   ]
  },
  {
   "cell_type": "code",
   "execution_count": 51,
   "metadata": {},
   "outputs": [
    {
     "name": "stderr",
     "output_type": "stream",
     "text": [
      "/home/hasan/anaconda3/lib/python3.7/site-packages/tensorflow_core/python/framework/indexed_slices.py:424: UserWarning: Converting sparse IndexedSlices to a dense Tensor of unknown shape. This may consume a large amount of memory.\n",
      "  \"Converting sparse IndexedSlices to a dense Tensor of unknown shape. \"\n"
     ]
    },
    {
     "name": "stdout",
     "output_type": "stream",
     "text": [
      "Train on 25000 samples, validate on 25000 samples\n",
      "Epoch 1/20\n",
      "25000/25000 [==============================] - 20s 802us/step - loss: 0.5721 - accuracy: 0.6552 - val_loss: 0.3105 - val_accuracy: 0.8673\n",
      "Epoch 2/20\n",
      "25000/25000 [==============================] - 22s 880us/step - loss: 0.2016 - accuracy: 0.9217 - val_loss: 0.3269 - val_accuracy: 0.8603\n",
      "Epoch 3/20\n",
      "25000/25000 [==============================] - 20s 801us/step - loss: 0.0563 - accuracy: 0.9840 - val_loss: 0.3944 - val_accuracy: 0.8629\n",
      "Epoch 4/20\n",
      "25000/25000 [==============================] - 20s 783us/step - loss: 0.0081 - accuracy: 0.9989 - val_loss: 0.4649 - val_accuracy: 0.8666\n",
      "Epoch 5/20\n",
      "25000/25000 [==============================] - 19s 779us/step - loss: 0.0015 - accuracy: 1.0000 - val_loss: 0.5081 - val_accuracy: 0.8671\n",
      "Epoch 6/20\n",
      "25000/25000 [==============================] - 21s 827us/step - loss: 6.2648e-04 - accuracy: 1.0000 - val_loss: 0.5339 - val_accuracy: 0.8692\n",
      "Epoch 7/20\n",
      "25000/25000 [==============================] - 20s 793us/step - loss: 3.7672e-04 - accuracy: 1.0000 - val_loss: 0.5564 - val_accuracy: 0.8697\n",
      "Epoch 8/20\n",
      "25000/25000 [==============================] - 20s 811us/step - loss: 2.5309e-04 - accuracy: 1.0000 - val_loss: 0.5757 - val_accuracy: 0.8692\n",
      "Epoch 9/20\n",
      "25000/25000 [==============================] - 20s 798us/step - loss: 1.8096e-04 - accuracy: 1.0000 - val_loss: 0.5920 - val_accuracy: 0.8699\n",
      "Epoch 10/20\n",
      "25000/25000 [==============================] - 21s 854us/step - loss: 1.3611e-04 - accuracy: 1.0000 - val_loss: 0.6070 - val_accuracy: 0.8698\n",
      "Epoch 11/20\n",
      "25000/25000 [==============================] - 20s 820us/step - loss: 1.0446e-04 - accuracy: 1.0000 - val_loss: 0.6207 - val_accuracy: 0.8699\n",
      "Epoch 12/20\n",
      "25000/25000 [==============================] - 21s 822us/step - loss: 8.2319e-05 - accuracy: 1.0000 - val_loss: 0.6332 - val_accuracy: 0.8699\n",
      "Epoch 13/20\n",
      "25000/25000 [==============================] - 19s 771us/step - loss: 6.5855e-05 - accuracy: 1.0000 - val_loss: 0.6453 - val_accuracy: 0.8697\n",
      "Epoch 14/20\n",
      "25000/25000 [==============================] - 19s 778us/step - loss: 5.3633e-05 - accuracy: 1.0000 - val_loss: 0.6565 - val_accuracy: 0.8699\n",
      "Epoch 15/20\n",
      "25000/25000 [==============================] - 19s 776us/step - loss: 4.3904e-05 - accuracy: 1.0000 - val_loss: 0.6672 - val_accuracy: 0.8698\n",
      "Epoch 16/20\n",
      "25000/25000 [==============================] - 20s 780us/step - loss: 3.6534e-05 - accuracy: 1.0000 - val_loss: 0.6774 - val_accuracy: 0.8700\n",
      "Epoch 17/20\n",
      "25000/25000 [==============================] - 21s 838us/step - loss: 3.0606e-05 - accuracy: 1.0000 - val_loss: 0.6873 - val_accuracy: 0.8699\n",
      "Epoch 18/20\n",
      "25000/25000 [==============================] - 18s 723us/step - loss: 2.5716e-05 - accuracy: 1.0000 - val_loss: 0.6967 - val_accuracy: 0.8699\n",
      "Epoch 19/20\n",
      "25000/25000 [==============================] - 19s 753us/step - loss: 2.1799e-05 - accuracy: 1.0000 - val_loss: 0.7061 - val_accuracy: 0.8697\n",
      "Epoch 20/20\n",
      "25000/25000 [==============================] - 19s 778us/step - loss: 1.8540e-05 - accuracy: 1.0000 - val_loss: 0.7148 - val_accuracy: 0.8700\n"
     ]
    },
    {
     "data": {
      "text/plain": [
       "<keras.callbacks.callbacks.History at 0x7fe99d375b10>"
      ]
     },
     "execution_count": 51,
     "metadata": {},
     "output_type": "execute_result"
    }
   ],
   "source": [
    "# Fit the model\n",
    "model.fit(X_train, y_train, validation_data=(X_test, y_test), epochs=20, batch_size=128, verbose=1)"
   ]
  },
  {
   "cell_type": "code",
   "execution_count": null,
   "metadata": {},
   "outputs": [],
   "source": []
  },
  {
   "cell_type": "markdown",
   "metadata": {},
   "source": [
    "##### Evaluate Model"
   ]
  },
  {
   "cell_type": "code",
   "execution_count": 52,
   "metadata": {},
   "outputs": [
    {
     "name": "stdout",
     "output_type": "stream",
     "text": [
      "Accuracy: 87.00%\n"
     ]
    }
   ],
   "source": [
    "# Final evaluation of the model\n",
    "scores = model.evaluate(X_test, y_test, verbose=0)\n",
    "print(\"Accuracy: %.2f%%\" % (scores[1]*100))"
   ]
  },
  {
   "cell_type": "code",
   "execution_count": null,
   "metadata": {},
   "outputs": [],
   "source": []
  },
  {
   "cell_type": "code",
   "execution_count": null,
   "metadata": {},
   "outputs": [],
   "source": []
  },
  {
   "cell_type": "code",
   "execution_count": null,
   "metadata": {},
   "outputs": [],
   "source": []
  },
  {
   "cell_type": "markdown",
   "metadata": {},
   "source": [
    "# One-Dimensional Convolutional Neural Network"
   ]
  },
  {
   "cell_type": "code",
   "execution_count": 85,
   "metadata": {},
   "outputs": [],
   "source": [
    "import numpy as np\n",
    "from keras.datasets import imdb\n",
    "from keras.models import Sequential\n",
    "from keras.layers import Dense, Flatten, Conv1D, MaxPooling1D, Embedding\n",
    "from keras.preprocessing import sequence\n"
   ]
  },
  {
   "cell_type": "code",
   "execution_count": 86,
   "metadata": {},
   "outputs": [],
   "source": [
    "seed = 7\n",
    "numpy.random.seed(seed)"
   ]
  },
  {
   "cell_type": "code",
   "execution_count": null,
   "metadata": {},
   "outputs": [],
   "source": []
  },
  {
   "cell_type": "markdown",
   "metadata": {},
   "source": [
    "##### Loading Dataset"
   ]
  },
  {
   "cell_type": "code",
   "execution_count": 87,
   "metadata": {},
   "outputs": [],
   "source": [
    "top_words = 10000\n",
    "(X_train, y_train), (X_test, y_test) = imdb.load_data(num_words=top_words)"
   ]
  },
  {
   "cell_type": "code",
   "execution_count": null,
   "metadata": {},
   "outputs": [],
   "source": []
  },
  {
   "cell_type": "markdown",
   "metadata": {},
   "source": [
    "##### pad_sequence"
   ]
  },
  {
   "cell_type": "code",
   "execution_count": 88,
   "metadata": {},
   "outputs": [],
   "source": [
    "max_words = 500\n",
    "X_train = sequence.pad_sequences(X_train, maxlen=max_words)\n",
    "X_test = sequence.pad_sequences(X_test, maxlen=max_words)"
   ]
  },
  {
   "cell_type": "code",
   "execution_count": null,
   "metadata": {},
   "outputs": [],
   "source": []
  },
  {
   "cell_type": "markdown",
   "metadata": {},
   "source": [
    "##### Model"
   ]
  },
  {
   "cell_type": "code",
   "execution_count": 89,
   "metadata": {},
   "outputs": [],
   "source": [
    "model = Sequential()\n",
    "model.add(Embedding(top_words, 32, input_length=max_words))\n",
    "model.add(Conv1D(32, (3), activation='relu'))\n",
    "model.add(MaxPooling1D(pool_size=(2)))\n",
    "model.add(Flatten())\n",
    "model.add(Dense(250, activation='relu'))\n",
    "model.add(Dense(1, activation='sigmoid'))\n"
   ]
  },
  {
   "cell_type": "code",
   "execution_count": 90,
   "metadata": {},
   "outputs": [
    {
     "name": "stdout",
     "output_type": "stream",
     "text": [
      "Model: \"sequential_14\"\n",
      "_________________________________________________________________\n",
      "Layer (type)                 Output Shape              Param #   \n",
      "=================================================================\n",
      "embedding_14 (Embedding)     (None, 500, 32)           320000    \n",
      "_________________________________________________________________\n",
      "conv1d_10 (Conv1D)           (None, 498, 32)           3104      \n",
      "_________________________________________________________________\n",
      "max_pooling1d_10 (MaxPooling (None, 249, 32)           0         \n",
      "_________________________________________________________________\n",
      "flatten_12 (Flatten)         (None, 7968)              0         \n",
      "_________________________________________________________________\n",
      "dense_23 (Dense)             (None, 250)               1992250   \n",
      "_________________________________________________________________\n",
      "dense_24 (Dense)             (None, 1)                 251       \n",
      "=================================================================\n",
      "Total params: 2,315,605\n",
      "Trainable params: 2,315,605\n",
      "Non-trainable params: 0\n",
      "_________________________________________________________________\n",
      "None\n"
     ]
    }
   ],
   "source": [
    "#summary of the model\n",
    "print(model.summary())"
   ]
  },
  {
   "cell_type": "code",
   "execution_count": 91,
   "metadata": {},
   "outputs": [],
   "source": [
    "#compile of the model\n",
    "model.compile(loss='binary_crossentropy', \n",
    "              optimizer='adam', \n",
    "              metrics=['accuracy'])\n"
   ]
  },
  {
   "cell_type": "code",
   "execution_count": null,
   "metadata": {},
   "outputs": [],
   "source": []
  },
  {
   "cell_type": "markdown",
   "metadata": {},
   "source": [
    "##### Fit Model"
   ]
  },
  {
   "cell_type": "code",
   "execution_count": 92,
   "metadata": {},
   "outputs": [
    {
     "name": "stderr",
     "output_type": "stream",
     "text": [
      "/home/hasan/anaconda3/lib/python3.7/site-packages/tensorflow_core/python/framework/indexed_slices.py:424: UserWarning: Converting sparse IndexedSlices to a dense Tensor of unknown shape. This may consume a large amount of memory.\n",
      "  \"Converting sparse IndexedSlices to a dense Tensor of unknown shape. \"\n"
     ]
    },
    {
     "name": "stdout",
     "output_type": "stream",
     "text": [
      "Train on 25000 samples, validate on 25000 samples\n",
      "Epoch 1/20\n",
      "25000/25000 [==============================] - 21s 860us/step - loss: 0.4856 - accuracy: 0.7293 - val_loss: 0.2794 - val_accuracy: 0.8835\n",
      "Epoch 2/20\n",
      "25000/25000 [==============================] - 21s 832us/step - loss: 0.1961 - accuracy: 0.9246 - val_loss: 0.3047 - val_accuracy: 0.8735\n",
      "Epoch 3/20\n",
      "25000/25000 [==============================] - 21s 829us/step - loss: 0.1147 - accuracy: 0.9604 - val_loss: 0.3243 - val_accuracy: 0.8791\n",
      "Epoch 4/20\n",
      "25000/25000 [==============================] - 21s 830us/step - loss: 0.0555 - accuracy: 0.9847 - val_loss: 0.4214 - val_accuracy: 0.8708\n",
      "Epoch 5/20\n",
      "25000/25000 [==============================] - 21s 834us/step - loss: 0.0193 - accuracy: 0.9959 - val_loss: 0.5259 - val_accuracy: 0.8703\n",
      "Epoch 6/20\n",
      "25000/25000 [==============================] - 21s 825us/step - loss: 0.0059 - accuracy: 0.9996 - val_loss: 0.6119 - val_accuracy: 0.8691\n",
      "Epoch 7/20\n",
      "25000/25000 [==============================] - 21s 827us/step - loss: 0.0018 - accuracy: 0.9999 - val_loss: 0.6835 - val_accuracy: 0.8696\n",
      "Epoch 8/20\n",
      "25000/25000 [==============================] - 21s 825us/step - loss: 8.5691e-04 - accuracy: 1.0000 - val_loss: 0.7246 - val_accuracy: 0.8692\n",
      "Epoch 9/20\n",
      "25000/25000 [==============================] - 21s 825us/step - loss: 3.9956e-04 - accuracy: 1.0000 - val_loss: 0.7646 - val_accuracy: 0.8699\n",
      "Epoch 10/20\n",
      "25000/25000 [==============================] - 21s 825us/step - loss: 2.6777e-04 - accuracy: 1.0000 - val_loss: 0.8004 - val_accuracy: 0.8700\n",
      "Epoch 11/20\n",
      "25000/25000 [==============================] - 21s 826us/step - loss: 1.8804e-04 - accuracy: 1.0000 - val_loss: 0.8323 - val_accuracy: 0.8702\n",
      "Epoch 12/20\n",
      "25000/25000 [==============================] - 21s 831us/step - loss: 1.3866e-04 - accuracy: 1.0000 - val_loss: 0.8614 - val_accuracy: 0.8701\n",
      "Epoch 13/20\n",
      "25000/25000 [==============================] - 21s 831us/step - loss: 1.0507e-04 - accuracy: 1.0000 - val_loss: 0.8934 - val_accuracy: 0.8694\n",
      "Epoch 14/20\n",
      "25000/25000 [==============================] - 21s 829us/step - loss: 8.1982e-05 - accuracy: 1.0000 - val_loss: 0.9178 - val_accuracy: 0.8696\n",
      "Epoch 15/20\n",
      "25000/25000 [==============================] - 21s 832us/step - loss: 6.4579e-05 - accuracy: 1.0000 - val_loss: 0.9388 - val_accuracy: 0.8698\n",
      "Epoch 16/20\n",
      "25000/25000 [==============================] - 21s 842us/step - loss: 5.1549e-05 - accuracy: 1.0000 - val_loss: 0.9594 - val_accuracy: 0.8700\n",
      "Epoch 17/20\n",
      "25000/25000 [==============================] - 21s 844us/step - loss: 4.1774e-05 - accuracy: 1.0000 - val_loss: 0.9810 - val_accuracy: 0.8699\n",
      "Epoch 18/20\n",
      "25000/25000 [==============================] - 20s 804us/step - loss: 3.4138e-05 - accuracy: 1.0000 - val_loss: 1.0039 - val_accuracy: 0.8694\n",
      "Epoch 19/20\n",
      "25000/25000 [==============================] - 20s 804us/step - loss: 2.7955e-05 - accuracy: 1.0000 - val_loss: 1.0228 - val_accuracy: 0.8697\n",
      "Epoch 20/20\n",
      "25000/25000 [==============================] - 20s 805us/step - loss: 2.3177e-05 - accuracy: 1.0000 - val_loss: 1.0409 - val_accuracy: 0.8696\n"
     ]
    },
    {
     "data": {
      "text/plain": [
       "<keras.callbacks.callbacks.History at 0x7fe9a9b9f390>"
      ]
     },
     "execution_count": 92,
     "metadata": {},
     "output_type": "execute_result"
    }
   ],
   "source": [
    "# Fit the model\n",
    "model.fit(X_train, y_train, validation_data=(X_test, y_test), epochs=20, batch_size=128, verbose=1)"
   ]
  },
  {
   "cell_type": "code",
   "execution_count": null,
   "metadata": {},
   "outputs": [],
   "source": []
  },
  {
   "cell_type": "markdown",
   "metadata": {},
   "source": [
    "##### Evaluate Model"
   ]
  },
  {
   "cell_type": "code",
   "execution_count": 93,
   "metadata": {},
   "outputs": [
    {
     "name": "stdout",
     "output_type": "stream",
     "text": [
      "Accuracy: 86.96%\n"
     ]
    }
   ],
   "source": [
    "scores = model.evaluate(X_test, y_test, verbose=0)\n",
    "print(\"Accuracy: %.2f%%\" % (scores[1]*100))"
   ]
  },
  {
   "cell_type": "code",
   "execution_count": null,
   "metadata": {},
   "outputs": [],
   "source": []
  },
  {
   "cell_type": "code",
   "execution_count": null,
   "metadata": {},
   "outputs": [],
   "source": []
  },
  {
   "cell_type": "code",
   "execution_count": null,
   "metadata": {},
   "outputs": [],
   "source": []
  }
 ],
 "metadata": {
  "kernelspec": {
   "display_name": "Python 3",
   "language": "python",
   "name": "python3"
  },
  "language_info": {
   "codemirror_mode": {
    "name": "ipython",
    "version": 3
   },
   "file_extension": ".py",
   "mimetype": "text/x-python",
   "name": "python",
   "nbconvert_exporter": "python",
   "pygments_lexer": "ipython3",
   "version": "3.7.4"
  }
 },
 "nbformat": 4,
 "nbformat_minor": 2
}
