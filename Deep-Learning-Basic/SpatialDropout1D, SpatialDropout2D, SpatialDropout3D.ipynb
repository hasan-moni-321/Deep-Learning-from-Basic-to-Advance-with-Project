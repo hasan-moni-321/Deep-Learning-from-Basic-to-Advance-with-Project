{
 "cells": [
  {
   "cell_type": "code",
   "execution_count": null,
   "metadata": {},
   "outputs": [],
   "source": []
  },
  {
   "cell_type": "code",
   "execution_count": null,
   "metadata": {},
   "outputs": [],
   "source": []
  },
  {
   "cell_type": "markdown",
   "metadata": {},
   "source": [
    "# SpatialDropout1D"
   ]
  },
  {
   "cell_type": "markdown",
   "metadata": {},
   "source": [
    "This version performs the same function as Dropout, however it drops entire 1D feature maps instead of \n",
    "individual elements.\n"
   ]
  },
  {
   "cell_type": "code",
   "execution_count": null,
   "metadata": {},
   "outputs": [],
   "source": [
    "Dropout(): \n",
    "Let's define 2D input: [[1, 1, 1], [2, 2, 2]]. Dropout will consider every element independently, and may result in something like [[1, 0, 1], [0, 2, 2]]\n",
    "\n",
    "SpatialDropout1D(): \n",
    "In this case result will look like [[1, 0, 1], [2, 0, 2]]. Notice that 2nd element was zeroed along all channels.\n"
   ]
  },
  {
   "cell_type": "code",
   "execution_count": null,
   "metadata": {},
   "outputs": [],
   "source": [
    "Output Shape:\n",
    "    Same as input"
   ]
  },
  {
   "cell_type": "markdown",
   "metadata": {},
   "source": [
    "# SpatialDropout2D"
   ]
  },
  {
   "cell_type": "markdown",
   "metadata": {},
   "source": [
    "This version performs the same function as Dropout, however it drops entire 2D feature maps instead of individual elements."
   ]
  },
  {
   "cell_type": "code",
   "execution_count": null,
   "metadata": {},
   "outputs": [],
   "source": [
    "Dropout(): \n",
    "    Let's define 2D input: [[1, 1, 1], [2, 2, 2]]. Dropout will consider every element independently, and may result in something like [[1, 0, 1], [0, 2, 2]]\n",
    "\n",
    "SpatialDropout2D(): \n",
    "    In this case result will look like [[0, 1, 0], [0, 2, 0]]. Notice that 2nd element was zeroed along all channels.\n"
   ]
  },
  {
   "cell_type": "code",
   "execution_count": null,
   "metadata": {},
   "outputs": [],
   "source": [
    "Output Shape:\n",
    "    Same as input"
   ]
  },
  {
   "cell_type": "markdown",
   "metadata": {},
   "source": [
    "# SpatialDropout3D"
   ]
  },
  {
   "cell_type": "markdown",
   "metadata": {},
   "source": [
    "This version performs the same function as Dropout, however it drops entire 3D feature maps instead of \n",
    "individual elements.If adjacent voxels within feature maps are strongly correlated (as is normally the \n",
    "case in early convolution layers) then regular dropout will not regularize the activations and will otherwise \n",
    "just result in an effective learning rate decrease. In this case, SpatialDropout3D will help promote \n",
    "independence between feature maps and should be used instead."
   ]
  },
  {
   "cell_type": "code",
   "execution_count": null,
   "metadata": {},
   "outputs": [],
   "source": [
    "Dropout(): \n",
    "    Let's define 4D input: [[[[1,3,7,1,1]],[[5,7,2,1,6]] [[2, 2,8,3,2]]]]. Dropout will consider every element independently, and may result in something like [[1, 0, 1], [0, 2, 2]]\n",
    "\n",
    "SpatialDropout2D(): \n",
    "    In this case result will look like [[[[1, 0,7,0,0]],[[5,0,2,0,0]] [[2,0,8,0,0]]]]. Notice that 2nd element was zeroed along all channels.\n",
    "    "
   ]
  },
  {
   "cell_type": "code",
   "execution_count": null,
   "metadata": {},
   "outputs": [],
   "source": [
    "Output Shape:\n",
    "    Same as input"
   ]
  },
  {
   "cell_type": "code",
   "execution_count": null,
   "metadata": {},
   "outputs": [],
   "source": []
  }
 ],
 "metadata": {
  "kernelspec": {
   "display_name": "Python 3",
   "language": "python",
   "name": "python3"
  },
  "language_info": {
   "codemirror_mode": {
    "name": "ipython",
    "version": 3
   },
   "file_extension": ".py",
   "mimetype": "text/x-python",
   "name": "python",
   "nbconvert_exporter": "python",
   "pygments_lexer": "ipython3",
   "version": "3.7.4"
  }
 },
 "nbformat": 4,
 "nbformat_minor": 2
}
